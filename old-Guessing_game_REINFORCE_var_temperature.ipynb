{
 "cells": [
  {
   "cell_type": "markdown",
   "metadata": {
    "colab_type": "text",
    "id": "view-in-github"
   },
   "source": [
    "<a href=\"https://colab.research.google.com/github/byewokko/guessing-game/blob/master/Guessing_game_REINFORCE_2.4.3.ipynb\" target=\"_parent\"><img src=\"https://colab.research.google.com/assets/colab-badge.svg\" alt=\"Open In Colab\"/></a>"
   ]
  },
  {
   "cell_type": "code",
   "execution_count": 1,
   "metadata": {
    "colab": {
     "base_uri": "https://localhost:8080/",
     "height": 707
    },
    "id": "P1tD3xofSH_q",
    "outputId": "ac6043de-276f-46c7-8c35-95c130e23cc1",
    "scrolled": true
   },
   "outputs": [],
   "source": [
    "# Run once to get functions and datasets from my guessing-game repo\n",
    "# !wget https://raw.githubusercontent.com/byewokko/guessing-game/master/game/game.py\n",
    "# !wget https://raw.githubusercontent.com/byewokko/guessing-game/master/utils/dataprep.py\n",
    "# !wget https://github.com/byewokko/guessing-game/raw/master/data/imagenet-200x65-vgg19.train.emb.gz"
   ]
  },
  {
   "cell_type": "code",
   "execution_count": 1,
   "metadata": {},
   "outputs": [],
   "source": [
    "import tensorflow.keras\n",
    "if True or list(map(int, keras.__version__.split(\".\"))) < [2,4,0]:\n",
    "    import tensorflow.keras.layers as layers\n",
    "    import tensorflow.keras.backend as K\n",
    "    import tensorflow.keras.optimizers as optim\n",
    "    from tensorflow.keras.models import Model, Sequential\n",
    "else:\n",
    "    import keras.layers as layers\n",
    "    import keras.backend as K\n",
    "    import keras.optimizers as optim\n",
    "    from keras.models import Model, Sequential\n",
    "    \n",
    "import matplotlib.pyplot as plt\n",
    "import numpy as np\n",
    "import tensorflow as tf\n",
    "\n",
    "from game.game import Game"
   ]
  },
  {
   "cell_type": "code",
   "execution_count": 2,
   "metadata": {
    "colab": {
     "base_uri": "https://localhost:8080/",
     "height": 53
    },
    "id": "Pq8OBI6O3CxL",
    "outputId": "a68f3b4a-9fa5-4566-8ec7-936fc78c042a"
   },
   "outputs": [
    {
     "name": "stdout",
     "output_type": "stream",
     "text": [
      "DONE. 13190 items loaded from data/imagenet-200x65-vgg19.train.emb.gz.\n",
      "200 categories found.\n"
     ]
    }
   ],
   "source": [
    "from utils.dataprep import load_emb_gz, make_categories\n",
    "\n",
    "DATASET = \"data/imagenet-200x65-vgg19.train.emb.gz\"\n",
    "\n",
    "path2ind, path_list, embeddings = load_emb_gz(DATASET)\n",
    "categories = make_categories(path_list, sep=\"\\\\\")\n",
    "\n",
    "IMAGE_SHAPE = [len(embeddings[0])]"
   ]
  },
  {
   "cell_type": "code",
   "execution_count": 3,
   "metadata": {},
   "outputs": [
    {
     "name": "stdout",
     "output_type": "stream",
     "text": [
      "Loading features from data/big/mcrae-wordnet-vgg16.32bit.npy.gz\n",
      "Loading metadata from data/big/mcrae-wordnet-vgg16.32bit.meta.pkl\n",
      "4 categories found.\n"
     ]
    }
   ],
   "source": [
    "from utils.dataprep import load_emb_pickled\n",
    "\n",
    "DATASET = \"data/big/mcrae-wordnet-vgg16.32bit\"\n",
    "\n",
    "metadata, embeddings = load_emb_pickled(DATASET)\n",
    "filenames = metadata.get(\"fnames\")\n",
    "categories = metadata.get(\"categories\")\n",
    "\n",
    "IMAGE_SHAPE = [len(embeddings[0])]"
   ]
  },
  {
   "cell_type": "code",
   "execution_count": 4,
   "metadata": {
    "id": "d8nJU98o3ApO"
   },
   "outputs": [],
   "source": [
    "N_IMAGES = 4\n",
    "EMBEDDING_SIZE = 50\n",
    "VOCABULARY_SIZE = 100\n",
    "\n",
    "TEMPERATURE = 10\n",
    "N_EPISODES = 50000\n",
    "ANALYSIS_WINDOW = 50\n",
    "BATCH_SIZE = 30\n",
    "\n",
    "LEARNING_RATE = 0.1\n",
    "OPTIMIZER = optim.Adam\n",
    "# OPTIMIZER = optim.SGD\n",
    "\n",
    "ADAPTIVE_TEMPERATURE = 0\n",
    "\n",
    "SENDER_KWARGS = {\n",
    "    \"n_images\": N_IMAGES, \n",
    "    \"input_image_shape\": IMAGE_SHAPE, \n",
    "    \"embedding_size\": EMBEDDING_SIZE, \n",
    "    \"vocabulary_size\": VOCABULARY_SIZE, \n",
    "    \"temperature\": TEMPERATURE, \n",
    "    \"optimizer\": OPTIMIZER(LEARNING_RATE),\n",
    "    \"sender_type\": \"agnostic\",\n",
    "#     \"sender_type\": \"informed\",\n",
    "#     \"n_informed_filters\": 20,\n",
    "    \"verbose\": True\n",
    "}\n",
    "\n",
    "RECEIVER_KWARGS = {\n",
    "    \"n_images\": N_IMAGES, \n",
    "    \"input_image_shape\": IMAGE_SHAPE, \n",
    "    \"embedding_size\": EMBEDDING_SIZE, \n",
    "    \"vocabulary_size\": VOCABULARY_SIZE, \n",
    "    \"temperature\": TEMPERATURE, \n",
    "    \"optimizer\": OPTIMIZER(LEARNING_RATE),\n",
    "}"
   ]
  },
  {
   "cell_type": "code",
   "execution_count": 5,
   "metadata": {
    "id": "BtXPTHx23Eit"
   },
   "outputs": [],
   "source": [
    "game = Game(images=embeddings, images_filenames=path_list, categories=categories)"
   ]
  },
  {
   "cell_type": "code",
   "execution_count": 6,
   "metadata": {
    "id": "VyFfWtkf3Gt1"
   },
   "outputs": [],
   "source": [
    "def getshape(array):\n",
    "    if isinstance(array, list):\n",
    "        return [getshape(x) for x in array]\n",
    "    else:\n",
    "        try:\n",
    "            return array.shape\n",
    "        except:\n",
    "            return None"
   ]
  },
  {
   "cell_type": "code",
   "execution_count": 7,
   "metadata": {
    "id": "GyY6HeKd3IGs"
   },
   "outputs": [],
   "source": [
    "class Sender:\n",
    "    def __init__(self, temperature=1, **kwargs):\n",
    "        self.temperature = temperature\n",
    "        self.build_model(**kwargs)\n",
    "        self.reset_memory()\n",
    "        \n",
    "    def build_model(self, n_images, input_image_shape, embedding_size, \n",
    "                    vocabulary_size, optimizer, \n",
    "                    sender_type=\"agnostic\", \n",
    "                    verbose=False):\n",
    "        image_inputs = [layers.Input(shape=input_image_shape, \n",
    "                                     name=f\"S_image_in_{i}\", \n",
    "                                     dtype=\"float32\") for i in range(n_images)]\n",
    "        image_embedding_layer = layers.Dense(embedding_size, \n",
    "                                             name=\"S_image_embedding\")\n",
    "        # agnostic part\n",
    "        sigmoid = layers.Activation(\"sigmoid\", name=\"S_sigmoid\")\n",
    "        output_layer = layers.Dense(vocabulary_size, name=\"S_output\")\n",
    "        \n",
    "        # informed part\n",
    "        stack = layers.Lambda(lambda x: K.stack(x, axis=1), name=\"S_stack\")\n",
    "        permute = layers.Permute([2, 1], name=\"S_permute\")\n",
    "        feature_filters = layers.Conv1D(filters=vocabulary_size,\n",
    "                                        kernel_size=(1,),\n",
    "                                        input_shape=[n_images, embedding_size],\n",
    "                                        activation=\"sigmoid\",\n",
    "                                        data_format=\"channels_last\",\n",
    "                                        name=\"S_feature_filters\")\n",
    "        \n",
    "        permute_2 = layers.Permute([2, 1], name=\"S_permute_2\")\n",
    "        vocabulary_filter = layers.Conv1D(1, \n",
    "                                          kernel_size=(1,),\n",
    "                                          data_format=\"channels_last\",\n",
    "                                          name=\"S_vocabulary_filter\")\n",
    "        flatten = layers.Flatten()\n",
    "        \n",
    "        temperature_input = layers.Input(shape=[], dtype=\"float32\", name=\"R_temperature_input\")\n",
    "        \n",
    "        softmax = layers.Softmax()\n",
    "        \n",
    "        y = [image_embedding_layer(x) for x in image_inputs]\n",
    "        if sender_type == \"agnostic\":\n",
    "            y = [sigmoid(x) for x in y]\n",
    "            y = layers.concatenate(y, axis=-1)\n",
    "            y = output_layer(y)\n",
    "        elif sender_type == \"informed\":\n",
    "            y = stack(y)\n",
    "            y = permute(y)\n",
    "            y = feature_filters(y)\n",
    "            y = permute_2(y)\n",
    "            y = vocabulary_filter(y)\n",
    "            y = flatten(y)\n",
    "        \n",
    "        y = y / temperature_input\n",
    "        y = softmax(y)\n",
    "        \n",
    "        self.model = Model([*image_inputs, temperature_input], y, name=\"S_predict\")\n",
    "        \n",
    "        index = layers.Input(shape=[1], dtype=\"int32\", name=\"S_index_in\")\n",
    "        y_selected = layers.Lambda(\n",
    "            lambda probs_index: K.gather(probs_index[0][0], probs_index[1]),\n",
    "            name=\"S_gather\")([y, index])\n",
    "        \n",
    "        # @tf.function\n",
    "        def loss(target, prediction):\n",
    "            return - K.log(prediction) * target\n",
    "        \n",
    "        self.model_train = Model([*image_inputs, index, temperature_input], \n",
    "                                 y_selected, name=\"S_train\")\n",
    "        self.model_train.compile(loss=loss, optimizer=optimizer)\n",
    "\n",
    "        if verbose:\n",
    "            self.model.summary()\n",
    "            self.model_train.summary()\n",
    "        \n",
    "    def predict(self, state):\n",
    "        x=[*state, np.array([self.temperature])]\n",
    "#         print(getshape(state))\n",
    "        return self.model.predict_on_batch(x)\n",
    "\n",
    "    def update(self, state, action, target):\n",
    "        x = [*state, action, np.array(self.temperature)]\n",
    "        print(getshape(x), getshape(target))\n",
    "        return self.model_train.train_on_batch(x=x, y=target)\n",
    "\n",
    "    def remember(self, state, action, target):\n",
    "        x = [*state, action]\n",
    "        self.memory_x.append(x)\n",
    "        self.memory_y.append(target)\n",
    "\n",
    "    def reset_memory(self):\n",
    "        self.memory_x = []\n",
    "        self.memory_y = []\n",
    "\n",
    "    def update_on_batch(self, reset_after=True):\n",
    "        loss = []\n",
    "        for x, y in zip(self.memory_x, self.memory_y):\n",
    "            x = [*x, np.array([self.temperature])]\n",
    "            loss.append(self.model_train.train_on_batch(x=x, y=y))\n",
    "        if reset_after:\n",
    "            self.reset_memory()\n",
    "        return loss\n",
    "    \n",
    "    def set_temperature(self, temperature):\n",
    "        self.temperature = temperature\n",
    "    \n",
    "    def adjust_temperature(self, loss):\n",
    "        if loss < 0.001:\n",
    "            self.temperature *= 1.1\n",
    "        elif loss > 2:\n",
    "            self.temperature /= 1.1\n",
    "#         print(f\"new sender temp: {self.temperature}\")"
   ]
  },
  {
   "cell_type": "code",
   "execution_count": 8,
   "metadata": {
    "id": "R6gS_uAG3KUE"
   },
   "outputs": [],
   "source": [
    "class Receiver:\n",
    "    def __init__(self, temperature=1, **kwargs):\n",
    "        self.temperature = temperature\n",
    "        self.build_model(**kwargs)\n",
    "        self.reset_memory()\n",
    "        \n",
    "    def build_model(self, n_images, input_image_shape, embedding_size, \n",
    "                    vocabulary_size, optimizer, verbose=False):\n",
    "        image_inputs = [layers.Input(shape=input_image_shape, name=f\"R_image_in_{i}\", dtype=\"float32\") for i in range(n_images)]\n",
    "        image_embedding_layer = layers.Dense(embedding_size, name=\"R_image_embedding\")\n",
    "        \n",
    "        temperature_input = layers.Input(shape=[], dtype=\"float32\", name=\"R_temperature_input\")\n",
    "        softmax = layers.Softmax()\n",
    "        \n",
    "        symbol_input = layers.Input(shape=[1], dtype=\"int32\", name=f\"R_symbol_in\")\n",
    "        symbol_embedding = layers.Embedding(input_dim=vocabulary_size, \n",
    "                                            output_dim=embedding_size, \n",
    "                                            name=\"R_symbol_embedding\")\n",
    "        dot_product = layers.Dot(axes=-1, name=\"R_dot_product\")\n",
    "        \n",
    "        y_images = [image_embedding_layer(x) for x in image_inputs]\n",
    "        y_symbol = symbol_embedding(symbol_input)\n",
    "        y = [dot_product([img, y_symbol]) for img in y_images]\n",
    "        y = layers.concatenate(y, axis=-1)\n",
    "        y = y / temperature_input\n",
    "        y = softmax(y)\n",
    "        \n",
    "        self.model = Model([*image_inputs, symbol_input, temperature_input], y, name=\"R_predict\")\n",
    "        \n",
    "        index = layers.Input(shape=[1], dtype=\"int32\", name=\"R_index_in\")\n",
    "        y_selected = layers.Lambda(\n",
    "            lambda probs_index: tf.gather(*probs_index, axis=-1),\n",
    "            name=\"R_gather\")([y, index])\n",
    "        \n",
    "        # @tf.function\n",
    "        def loss(target, prediction):\n",
    "            return - K.log(prediction) * target\n",
    "        \n",
    "        self.model_train = Model([*image_inputs, symbol_input, index, temperature_input], \n",
    "                                 y_selected, name=\"R_train\")\n",
    "        self.model_train.compile(loss=loss, optimizer=optimizer)\n",
    "\n",
    "        if verbose:\n",
    "            self.model.summary()\n",
    "            self.model_train.summary()\n",
    "        \n",
    "    def predict(self, state):\n",
    "        x=[*state, np.array([self.temperature])]\n",
    "#         print(getshape(state))\n",
    "        return self.model.predict_on_batch(x=x)\n",
    "\n",
    "    def update(self, state, action, target):\n",
    "        x = [*state, action, np.array([self.temperature])]\n",
    "        # print(getshape(x), getshape(target))\n",
    "        return self.model_train.train_on_batch(x=x, y=target)\n",
    "\n",
    "    def remember(self, state, action, target):\n",
    "        x = [*state, action]\n",
    "        self.memory_x.append(x)\n",
    "        self.memory_y.append(target)\n",
    "\n",
    "    def reset_memory(self):\n",
    "        self.memory_x = []\n",
    "        self.memory_y = []\n",
    "\n",
    "    def update_on_batch(self, reset_after=True):\n",
    "        loss = []\n",
    "        for x, y in zip(self.memory_x, self.memory_y):\n",
    "            x = [*x, np.array([self.temperature])]\n",
    "            loss.append(self.model_train.train_on_batch(x=x, y=y))\n",
    "        if reset_after:\n",
    "            self.reset_memory()\n",
    "        return loss\n",
    "    \n",
    "    def set_temperature(self, temperature):\n",
    "        self.temperature = temperature\n",
    "    \n",
    "    def adjust_temperature(self, loss):\n",
    "        if loss < 0.001:\n",
    "            self.temperature *= 1.1\n",
    "        elif loss > 2:\n",
    "            self.temperature /= 1.1\n",
    "#         print(f\"new receiver temp: {self.temperature}\")"
   ]
  },
  {
   "cell_type": "code",
   "execution_count": 9,
   "metadata": {
    "colab": {
     "base_uri": "https://localhost:8080/",
     "height": 1000
    },
    "id": "GdxY5cFb3MFz",
    "outputId": "2644695f-8f4b-458b-9a1c-8d2a757224dd"
   },
   "outputs": [
    {
     "name": "stdout",
     "output_type": "stream",
     "text": [
      "Model: \"S_predict\"\n",
      "__________________________________________________________________________________________________\n",
      "Layer (type)                    Output Shape         Param #     Connected to                     \n",
      "==================================================================================================\n",
      "S_image_in_0 (InputLayer)       [(None, 1000)]       0                                            \n",
      "__________________________________________________________________________________________________\n",
      "S_image_in_1 (InputLayer)       [(None, 1000)]       0                                            \n",
      "__________________________________________________________________________________________________\n",
      "S_image_in_2 (InputLayer)       [(None, 1000)]       0                                            \n",
      "__________________________________________________________________________________________________\n",
      "S_image_in_3 (InputLayer)       [(None, 1000)]       0                                            \n",
      "__________________________________________________________________________________________________\n",
      "S_image_embedding (Dense)       (None, 50)           50050       S_image_in_0[0][0]               \n",
      "                                                                 S_image_in_1[0][0]               \n",
      "                                                                 S_image_in_2[0][0]               \n",
      "                                                                 S_image_in_3[0][0]               \n",
      "__________________________________________________________________________________________________\n",
      "S_sigmoid (Activation)          (None, 50)           0           S_image_embedding[0][0]          \n",
      "                                                                 S_image_embedding[1][0]          \n",
      "                                                                 S_image_embedding[2][0]          \n",
      "                                                                 S_image_embedding[3][0]          \n",
      "__________________________________________________________________________________________________\n",
      "concatenate (Concatenate)       (None, 200)          0           S_sigmoid[0][0]                  \n",
      "                                                                 S_sigmoid[1][0]                  \n",
      "                                                                 S_sigmoid[2][0]                  \n",
      "                                                                 S_sigmoid[3][0]                  \n",
      "__________________________________________________________________________________________________\n",
      "S_output (Dense)                (None, 100)          20100       concatenate[0][0]                \n",
      "__________________________________________________________________________________________________\n",
      "R_temperature_input (InputLayer [(None,)]            0                                            \n",
      "__________________________________________________________________________________________________\n",
      "tf.math.truediv (TFOpLambda)    (None, 100)          0           S_output[0][0]                   \n",
      "                                                                 R_temperature_input[0][0]        \n",
      "__________________________________________________________________________________________________\n",
      "softmax (Softmax)               (None, 100)          0           tf.math.truediv[0][0]            \n",
      "==================================================================================================\n",
      "Total params: 70,150\n",
      "Trainable params: 70,150\n",
      "Non-trainable params: 0\n",
      "__________________________________________________________________________________________________\n",
      "Model: \"S_train\"\n",
      "__________________________________________________________________________________________________\n",
      "Layer (type)                    Output Shape         Param #     Connected to                     \n",
      "==================================================================================================\n",
      "S_image_in_0 (InputLayer)       [(None, 1000)]       0                                            \n",
      "__________________________________________________________________________________________________\n",
      "S_image_in_1 (InputLayer)       [(None, 1000)]       0                                            \n",
      "__________________________________________________________________________________________________\n",
      "S_image_in_2 (InputLayer)       [(None, 1000)]       0                                            \n",
      "__________________________________________________________________________________________________\n",
      "S_image_in_3 (InputLayer)       [(None, 1000)]       0                                            \n",
      "__________________________________________________________________________________________________\n",
      "S_image_embedding (Dense)       (None, 50)           50050       S_image_in_0[0][0]               \n",
      "                                                                 S_image_in_1[0][0]               \n",
      "                                                                 S_image_in_2[0][0]               \n",
      "                                                                 S_image_in_3[0][0]               \n",
      "__________________________________________________________________________________________________\n",
      "S_sigmoid (Activation)          (None, 50)           0           S_image_embedding[0][0]          \n",
      "                                                                 S_image_embedding[1][0]          \n",
      "                                                                 S_image_embedding[2][0]          \n",
      "                                                                 S_image_embedding[3][0]          \n",
      "__________________________________________________________________________________________________\n",
      "concatenate (Concatenate)       (None, 200)          0           S_sigmoid[0][0]                  \n",
      "                                                                 S_sigmoid[1][0]                  \n",
      "                                                                 S_sigmoid[2][0]                  \n",
      "                                                                 S_sigmoid[3][0]                  \n",
      "__________________________________________________________________________________________________\n",
      "S_output (Dense)                (None, 100)          20100       concatenate[0][0]                \n",
      "__________________________________________________________________________________________________\n",
      "R_temperature_input (InputLayer [(None,)]            0                                            \n",
      "__________________________________________________________________________________________________\n",
      "tf.math.truediv (TFOpLambda)    (None, 100)          0           S_output[0][0]                   \n",
      "                                                                 R_temperature_input[0][0]        \n",
      "__________________________________________________________________________________________________\n",
      "softmax (Softmax)               (None, 100)          0           tf.math.truediv[0][0]            \n",
      "__________________________________________________________________________________________________\n",
      "S_index_in (InputLayer)         [(None, 1)]          0                                            \n",
      "__________________________________________________________________________________________________\n",
      "S_gather (Lambda)               (None, 1)            0           softmax[0][0]                    \n",
      "                                                                 S_index_in[0][0]                 \n",
      "==================================================================================================\n",
      "Total params: 70,150\n",
      "Trainable params: 70,150\n",
      "Non-trainable params: 0\n",
      "__________________________________________________________________________________________________\n"
     ]
    }
   ],
   "source": [
    "K.clear_session()\n",
    "\n",
    "sender = Sender(**SENDER_KWARGS)\n",
    "receiver = Receiver(**RECEIVER_KWARGS)\n",
    "\n",
    "success_log = []\n",
    "sender_log = []\n",
    "receiver_log = []\n",
    "symbol_log = []"
   ]
  },
  {
   "cell_type": "code",
   "execution_count": 10,
   "metadata": {
    "colab": {
     "base_uri": "https://localhost:8080/",
     "height": 722
    },
    "id": "-fhHsazu3Nw_",
    "outputId": "efeb9add-f82a-451d-a293-1d03125de636",
    "scrolled": true
   },
   "outputs": [
    {
     "name": "stdout",
     "output_type": "stream",
     "text": [
      "ep 50, success_rate: 0.140, sender_loss: 0.921 ±4.417, receiver_loss: 0.231 ±0.267, frequent_symbols: 28\n",
      "ep 100, success_rate: 0.300, sender_loss: 0.752 ±2.915, receiver_loss: 0.333 ±0.407, frequent_symbols: 11\n",
      "ep 150, success_rate: 0.180, sender_loss: 0.429 ±1.096, receiver_loss: 0.090 ±0.076, frequent_symbols: 10\n",
      "ep 200, success_rate: 0.240, sender_loss: 0.618 ±1.306, receiver_loss: 0.108 ±0.086, frequent_symbols: 10\n",
      "ep 250, success_rate: 0.280, sender_loss: 0.671 ±1.991, receiver_loss: 0.192 ±0.293, frequent_symbols: 15\n",
      "ep 300, success_rate: 0.220, sender_loss: 0.585 ±1.427, receiver_loss: 0.066 ±0.083, frequent_symbols: 13\n",
      "ep 350, success_rate: 0.220, sender_loss: 0.445 ±1.068, receiver_loss: 0.056 ±0.055, frequent_symbols: 13\n",
      "ep 400, success_rate: 0.260, sender_loss: 0.553 ±1.413, receiver_loss: 0.096 ±0.149, frequent_symbols: 11\n",
      "ep 450, success_rate: 0.380, sender_loss: 0.883 ±2.848, receiver_loss: 0.085 ±0.084, frequent_symbols: 17\n",
      "ep 500, success_rate: 0.180, sender_loss: 0.657 ±1.962, receiver_loss: 0.101 ±0.165, frequent_symbols: 17\n",
      "ep 550, success_rate: 0.260, sender_loss: 0.610 ±1.630, receiver_loss: 0.173 ±0.352, frequent_symbols: 18\n",
      "ep 600, success_rate: 0.280, sender_loss: 0.804 ±2.371, receiver_loss: 0.105 ±0.102, frequent_symbols: 16\n",
      "ep 650, success_rate: 0.140, sender_loss: 0.699 ±3.481, receiver_loss: 0.067 ±0.072, frequent_symbols: 22\n",
      "ep 700, success_rate: 0.280, sender_loss: 0.667 ±1.897, receiver_loss: 0.179 ±0.575, frequent_symbols: 23\n",
      "ep 750, success_rate: 0.240, sender_loss: 0.387 ±1.121, receiver_loss: 0.008 ±0.002, frequent_symbols: 19\n",
      "ep 800, success_rate: 0.300, sender_loss: 0.673 ±1.898, receiver_loss: 0.030 ±0.036, frequent_symbols: 18\n",
      "ep 850, success_rate: 0.140, sender_loss: 0.186 ±0.372, receiver_loss: 0.032 ±0.042, frequent_symbols: 13\n",
      "ep 900, success_rate: 0.200, sender_loss: 0.234 ±0.446, receiver_loss: 0.002 ±0.000, frequent_symbols: 8\n",
      "ep 950, success_rate: 0.220, sender_loss: 0.203 ±0.399, receiver_loss: 0.003 ±0.000, frequent_symbols: 7\n",
      "ep 1000, success_rate: 0.300, sender_loss: 0.228 ±0.619, receiver_loss: 0.122 ±0.331, frequent_symbols: 9\n",
      "ep 1050, success_rate: 0.240, sender_loss: 0.362 ±0.858, receiver_loss: 0.072 ±0.163, frequent_symbols: 12\n",
      "ep 1100, success_rate: 0.420, sender_loss: 0.500 ±1.237, receiver_loss: 0.102 ±0.196, frequent_symbols: 13\n",
      "ep 1150, success_rate: 0.260, sender_loss: 0.231 ±0.648, receiver_loss: 0.003 ±0.000, frequent_symbols: 12\n",
      "ep 1200, success_rate: 0.360, sender_loss: 0.489 ±1.453, receiver_loss: 0.011 ±0.002, frequent_symbols: 12\n",
      "ep 1250, success_rate: 0.180, sender_loss: 0.410 ±1.421, receiver_loss: 0.020 ±0.008, frequent_symbols: 7\n",
      "ep 1300, success_rate: 0.300, sender_loss: 0.164 ±0.261, receiver_loss: 0.003 ±0.000, frequent_symbols: 10\n",
      "ep 1350, success_rate: 0.440, sender_loss: 0.115 ±0.158, receiver_loss: 0.127 ±0.719, frequent_symbols: 7\n",
      "ep 1400, success_rate: 0.280, sender_loss: 0.171 ±0.314, receiver_loss: 0.013 ±0.002, frequent_symbols: 6\n",
      "ep 1450, success_rate: 0.320, sender_loss: 0.066 ±0.065, receiver_loss: 0.043 ±0.031, frequent_symbols: 4\n",
      "ep 1500, success_rate: 0.380, sender_loss: 0.285 ±1.589, receiver_loss: 0.062 ±0.056, frequent_symbols: 5\n",
      "ep 1550, success_rate: 0.300, sender_loss: 0.224 ±1.258, receiver_loss: 0.058 ±0.055, frequent_symbols: 3\n",
      "ep 1600, success_rate: 0.320, sender_loss: 0.061 ±0.039, receiver_loss: 0.001 ±0.000, frequent_symbols: 4\n",
      "ep 1650, success_rate: 0.200, sender_loss: 0.125 ±0.323, receiver_loss: 0.002 ±0.000, frequent_symbols: 6\n",
      "ep 1700, success_rate: 0.260, sender_loss: 0.139 ±0.265, receiver_loss: 0.006 ±0.001, frequent_symbols: 8\n",
      "ep 1750, success_rate: 0.320, sender_loss: 0.029 ±0.027, receiver_loss: 0.014 ±0.008, frequent_symbols: 4\n",
      "ep 1800, success_rate: 0.220, sender_loss: 0.091 ±0.354, receiver_loss: 0.008 ±0.001, frequent_symbols: 3\n",
      "ep 1850, success_rate: 0.220, sender_loss: 0.044 ±0.048, receiver_loss: 0.001 ±0.000, frequent_symbols: 6\n",
      "ep 1900, success_rate: 0.300, sender_loss: 0.021 ±0.011, receiver_loss: 0.223 ±2.319, frequent_symbols: 4\n",
      "ep 1950, success_rate: 0.440, sender_loss: 0.146 ±0.422, receiver_loss: 0.005 ±0.001, frequent_symbols: 4\n",
      "ep 2000, success_rate: 0.320, sender_loss: 0.039 ±0.015, receiver_loss: 0.007 ±0.001, frequent_symbols: 4\n",
      "ep 2050, success_rate: 0.280, sender_loss: 0.020 ±0.012, receiver_loss: 0.002 ±0.000, frequent_symbols: 3\n",
      "ep 2100, success_rate: 0.360, sender_loss: 0.133 ±0.274, receiver_loss: 0.006 ±0.002, frequent_symbols: 3\n",
      "ep 2150, success_rate: 0.500, sender_loss: 0.137 ±0.229, receiver_loss: 0.023 ±0.008, frequent_symbols: 5\n",
      "ep 2200, success_rate: 0.360, sender_loss: 0.165 ±0.296, receiver_loss: 0.004 ±0.000, frequent_symbols: 5\n",
      "ep 2250, success_rate: 0.280, sender_loss: 0.023 ±0.015, receiver_loss: 0.017 ±0.010, frequent_symbols: 7\n",
      "ep 2300, success_rate: 0.400, sender_loss: 0.153 ±0.312, receiver_loss: 0.029 ±0.039, frequent_symbols: 6\n",
      "ep 2350, success_rate: 0.280, sender_loss: 0.042 ±0.041, receiver_loss: 0.001 ±0.000, frequent_symbols: 4\n",
      "ep 2400, success_rate: 0.280, sender_loss: 0.035 ±0.039, receiver_loss: 0.485 ±5.858, frequent_symbols: 4\n",
      "ep 2450, success_rate: 0.380, sender_loss: 0.144 ±0.628, receiver_loss: 0.331 ±5.295, frequent_symbols: 5\n",
      "ep 2500, success_rate: 0.300, sender_loss: 0.059 ±0.081, receiver_loss: 0.071 ±0.208, frequent_symbols: 3\n",
      "ep 2550, success_rate: 0.260, sender_loss: 0.000 ±0.000, receiver_loss: 0.017 ±0.015, frequent_symbols: 3\n",
      "ep 2600, success_rate: 0.340, sender_loss: 0.004 ±0.001, receiver_loss: 0.020 ±0.015, frequent_symbols: 4\n",
      "ep 2650, success_rate: 0.360, sender_loss: 0.032 ±0.015, receiver_loss: 0.000 ±0.000, frequent_symbols: 4\n",
      "ep 2700, success_rate: 0.340, sender_loss: 0.019 ±0.005, receiver_loss: 0.047 ±0.097, frequent_symbols: 4\n",
      "ep 2750, success_rate: 0.300, sender_loss: 0.019 ±0.007, receiver_loss: 0.003 ±0.000, frequent_symbols: 3\n",
      "ep 2800, success_rate: 0.240, sender_loss: 0.086 ±0.181, receiver_loss: 0.007 ±0.002, frequent_symbols: 4\n",
      "ep 2850, success_rate: 0.500, sender_loss: 0.035 ±0.046, receiver_loss: 0.063 ±0.131, frequent_symbols: 3\n",
      "ep 2900, success_rate: 0.300, sender_loss: 0.049 ±0.055, receiver_loss: 0.071 ±0.135, frequent_symbols: 3\n",
      "ep 2950, success_rate: 0.260, sender_loss: 0.002 ±0.000, receiver_loss: 0.001 ±0.000, frequent_symbols: 4\n",
      "ep 3000, success_rate: 0.340, sender_loss: 0.002 ±0.000, receiver_loss: 0.115 ±0.642, frequent_symbols: 3\n",
      "ep 3050, success_rate: 0.360, sender_loss: 0.002 ±0.000, receiver_loss: 0.000 ±0.000, frequent_symbols: 3\n",
      "ep 3100, success_rate: 0.500, sender_loss: 0.042 ±0.048, receiver_loss: 0.000 ±0.000, frequent_symbols: 2\n",
      "ep 3150, success_rate: 0.220, sender_loss: 0.024 ±0.027, receiver_loss: 0.001 ±0.000, frequent_symbols: 2\n",
      "ep 3200, success_rate: 0.380, sender_loss: 0.001 ±0.000, receiver_loss: 0.007 ±0.002, frequent_symbols: 2\n",
      "ep 3250, success_rate: 0.460, sender_loss: 0.017 ±0.007, receiver_loss: 0.003 ±0.000, frequent_symbols: 2\n",
      "ep 3300, success_rate: 0.380, sender_loss: 0.005 ±0.000, receiver_loss: 0.005 ±0.001, frequent_symbols: 3\n",
      "ep 3350, success_rate: 0.380, sender_loss: 0.019 ±0.013, receiver_loss: 0.000 ±0.000, frequent_symbols: 3\n",
      "ep 3400, success_rate: 0.400, sender_loss: 0.159 ±0.861, receiver_loss: 0.014 ±0.008, frequent_symbols: 2\n",
      "ep 3450, success_rate: 0.440, sender_loss: 0.018 ±0.009, receiver_loss: 0.053 ±0.066, frequent_symbols: 2\n",
      "ep 3500, success_rate: 0.260, sender_loss: 0.005 ±0.001, receiver_loss: 0.031 ±0.021, frequent_symbols: 2\n",
      "ep 3550, success_rate: 0.380, sender_loss: 0.024 ±0.027, receiver_loss: 0.001 ±0.000, frequent_symbols: 3\n",
      "ep 3600, success_rate: 0.440, sender_loss: 0.028 ±0.023, receiver_loss: 0.008 ±0.002, frequent_symbols: 3\n",
      "ep 3650, success_rate: 0.400, sender_loss: 0.001 ±0.000, receiver_loss: 0.006 ±0.002, frequent_symbols: 2\n",
      "ep 3700, success_rate: 0.320, sender_loss: 0.004 ±0.000, receiver_loss: 0.000 ±0.000, frequent_symbols: 4\n",
      "ep 3750, success_rate: 0.320, sender_loss: 0.047 ±0.059, receiver_loss: 0.045 ±0.097, frequent_symbols: 4\n",
      "ep 3800, success_rate: 0.520, sender_loss: 0.132 ±0.184, receiver_loss: 0.021 ±0.019, frequent_symbols: 3\n",
      "ep 3850, success_rate: 0.420, sender_loss: 0.068 ±0.223, receiver_loss: 0.001 ±0.000, frequent_symbols: 3\n",
      "ep 3900, success_rate: 0.500, sender_loss: 0.082 ±0.211, receiver_loss: 0.055 ±0.103, frequent_symbols: 4\n"
     ]
    },
    {
     "name": "stdout",
     "output_type": "stream",
     "text": [
      "ep 3950, success_rate: 0.360, sender_loss: 0.003 ±0.000, receiver_loss: 0.001 ±0.000, frequent_symbols: 3\n",
      "ep 4000, success_rate: 0.440, sender_loss: 0.009 ±0.002, receiver_loss: 0.003 ±0.000, frequent_symbols: 3\n",
      "ep 4050, success_rate: 0.380, sender_loss: 0.144 ±0.486, receiver_loss: 0.011 ±0.002, frequent_symbols: 3\n",
      "ep 4100, success_rate: 0.280, sender_loss: 0.144 ±0.486, receiver_loss: 0.008 ±0.002, frequent_symbols: 3\n",
      "ep 4150, success_rate: 0.340, sender_loss: 0.016 ±0.004, receiver_loss: 0.012 ±0.006, frequent_symbols: 2\n",
      "ep 4200, success_rate: 0.440, sender_loss: 0.031 ±0.016, receiver_loss: 0.015 ±0.005, frequent_symbols: 2\n",
      "ep 4250, success_rate: 0.360, sender_loss: 0.021 ±0.014, receiver_loss: 0.007 ±0.003, frequent_symbols: 2\n",
      "ep 4300, success_rate: 0.440, sender_loss: 0.013 ±0.005, receiver_loss: 0.034 ±0.055, frequent_symbols: 2\n",
      "ep 4350, success_rate: 0.400, sender_loss: 0.041 ±0.074, receiver_loss: 0.011 ±0.005, frequent_symbols: 2\n",
      "ep 4400, success_rate: 0.360, sender_loss: 0.002 ±0.000, receiver_loss: 0.000 ±0.000, frequent_symbols: 2\n",
      "ep 4450, success_rate: 0.340, sender_loss: 0.001 ±0.000, receiver_loss: 0.001 ±0.000, frequent_symbols: 2\n",
      "ep 4500, success_rate: 0.340, sender_loss: 0.033 ±0.030, receiver_loss: 0.001 ±0.000, frequent_symbols: 2\n",
      "ep 4550, success_rate: 0.360, sender_loss: 0.005 ±0.000, receiver_loss: 0.019 ±0.013, frequent_symbols: 3\n",
      "ep 4600, success_rate: 0.480, sender_loss: 0.067 ±0.061, receiver_loss: 0.042 ±0.053, frequent_symbols: 3\n",
      "ep 4650, success_rate: 0.520, sender_loss: 0.015 ±0.005, receiver_loss: 0.136 ±0.752, frequent_symbols: 3\n",
      "ep 4700, success_rate: 0.380, sender_loss: 0.016 ±0.005, receiver_loss: 0.000 ±0.000, frequent_symbols: 2\n",
      "ep 4750, success_rate: 0.260, sender_loss: 0.000 ±0.000, receiver_loss: 0.005 ±0.001, frequent_symbols: 3\n",
      "ep 4800, success_rate: 0.480, sender_loss: 0.058 ±0.079, receiver_loss: 0.013 ±0.008, frequent_symbols: 4\n",
      "ep 4850, success_rate: 0.460, sender_loss: 0.074 ±0.088, receiver_loss: 0.017 ±0.014, frequent_symbols: 3\n",
      "ep 4900, success_rate: 0.380, sender_loss: 0.000 ±0.000, receiver_loss: 0.000 ±0.000, frequent_symbols: 3\n",
      "ep 4950, success_rate: 0.360, sender_loss: 0.074 ±0.190, receiver_loss: 0.049 ±0.054, frequent_symbols: 2\n",
      "ep 5000, success_rate: 0.380, sender_loss: 0.004 ±0.001, receiver_loss: 0.024 ±0.025, frequent_symbols: 2\n",
      "ep 5050, success_rate: 0.340, sender_loss: 0.024 ±0.009, receiver_loss: 0.005 ±0.001, frequent_symbols: 3\n",
      "ep 5100, success_rate: 0.520, sender_loss: 0.071 ±0.149, receiver_loss: 0.041 ±0.078, frequent_symbols: 3\n",
      "ep 5150, success_rate: 0.460, sender_loss: 0.026 ±0.010, receiver_loss: 0.142 ±0.564, frequent_symbols: 2\n",
      "ep 5200, success_rate: 0.380, sender_loss: 0.005 ±0.000, receiver_loss: 0.010 ±0.005, frequent_symbols: 2\n",
      "ep 5250, success_rate: 0.260, sender_loss: 0.000 ±0.000, receiver_loss: 0.000 ±0.000, frequent_symbols: 3\n",
      "ep 5300, success_rate: 0.320, sender_loss: 0.061 ±0.106, receiver_loss: 0.009 ±0.004, frequent_symbols: 4\n",
      "ep 5350, success_rate: 0.360, sender_loss: 0.004 ±0.000, receiver_loss: 0.000 ±0.000, frequent_symbols: 3\n",
      "ep 5400, success_rate: 0.320, sender_loss: 0.048 ±0.050, receiver_loss: 0.000 ±0.000, frequent_symbols: 3\n",
      "ep 5450, success_rate: 0.420, sender_loss: 0.038 ±0.043, receiver_loss: 0.000 ±0.000, frequent_symbols: 3\n",
      "ep 5500, success_rate: 0.360, sender_loss: 0.009 ±0.002, receiver_loss: 0.000 ±0.000, frequent_symbols: 3\n",
      "ep 5550, success_rate: 0.520, sender_loss: 0.020 ±0.014, receiver_loss: 0.100 ±0.227, frequent_symbols: 2\n"
     ]
    },
    {
     "ename": "KeyboardInterrupt",
     "evalue": "",
     "output_type": "error",
     "traceback": [
      "\u001b[0;31m---------------------------------------------------------------------------\u001b[0m",
      "\u001b[0;31mKeyboardInterrupt\u001b[0m                         Traceback (most recent call last)",
      "\u001b[0;32m<ipython-input-10-8326b336c216>\u001b[0m in \u001b[0;36m<module>\u001b[0;34m\u001b[0m\n\u001b[1;32m      2\u001b[0m     \u001b[0mgame\u001b[0m\u001b[0;34m.\u001b[0m\u001b[0mreset\u001b[0m\u001b[0;34m(\u001b[0m\u001b[0;34m)\u001b[0m\u001b[0;34m\u001b[0m\u001b[0;34m\u001b[0m\u001b[0m\n\u001b[1;32m      3\u001b[0m     \u001b[0msender_state\u001b[0m \u001b[0;34m=\u001b[0m \u001b[0mgame\u001b[0m\u001b[0;34m.\u001b[0m\u001b[0mget_sender_state\u001b[0m\u001b[0;34m(\u001b[0m\u001b[0mn_images\u001b[0m\u001b[0;34m=\u001b[0m\u001b[0mN_IMAGES\u001b[0m\u001b[0;34m,\u001b[0m \u001b[0munique_categories\u001b[0m\u001b[0;34m=\u001b[0m\u001b[0;32mTrue\u001b[0m\u001b[0;34m,\u001b[0m \u001b[0mexpand\u001b[0m\u001b[0;34m=\u001b[0m\u001b[0;32mTrue\u001b[0m\u001b[0;34m)\u001b[0m\u001b[0;34m\u001b[0m\u001b[0;34m\u001b[0m\u001b[0m\n\u001b[0;32m----> 4\u001b[0;31m     \u001b[0msender_probs\u001b[0m \u001b[0;34m=\u001b[0m \u001b[0msender\u001b[0m\u001b[0;34m.\u001b[0m\u001b[0mpredict\u001b[0m\u001b[0;34m(\u001b[0m\u001b[0mstate\u001b[0m\u001b[0;34m=\u001b[0m\u001b[0msender_state\u001b[0m\u001b[0;34m)\u001b[0m\u001b[0;34m\u001b[0m\u001b[0;34m\u001b[0m\u001b[0m\n\u001b[0m\u001b[1;32m      5\u001b[0m     \u001b[0msender_probs\u001b[0m \u001b[0;34m=\u001b[0m \u001b[0mnp\u001b[0m\u001b[0;34m.\u001b[0m\u001b[0msqueeze\u001b[0m\u001b[0;34m(\u001b[0m\u001b[0msender_probs\u001b[0m\u001b[0;34m)\u001b[0m\u001b[0;34m\u001b[0m\u001b[0;34m\u001b[0m\u001b[0m\n\u001b[1;32m      6\u001b[0m     \u001b[0msender_action\u001b[0m \u001b[0;34m=\u001b[0m \u001b[0mnp\u001b[0m\u001b[0;34m.\u001b[0m\u001b[0mrandom\u001b[0m\u001b[0;34m.\u001b[0m\u001b[0mchoice\u001b[0m\u001b[0;34m(\u001b[0m\u001b[0mnp\u001b[0m\u001b[0;34m.\u001b[0m\u001b[0marange\u001b[0m\u001b[0;34m(\u001b[0m\u001b[0mlen\u001b[0m\u001b[0;34m(\u001b[0m\u001b[0msender_probs\u001b[0m\u001b[0;34m)\u001b[0m\u001b[0;34m)\u001b[0m\u001b[0;34m,\u001b[0m \u001b[0mp\u001b[0m\u001b[0;34m=\u001b[0m\u001b[0msender_probs\u001b[0m\u001b[0;34m)\u001b[0m\u001b[0;34m\u001b[0m\u001b[0;34m\u001b[0m\u001b[0m\n",
      "\u001b[0;32m<ipython-input-7-428226530223>\u001b[0m in \u001b[0;36mpredict\u001b[0;34m(self, state)\u001b[0m\n\u001b[1;32m     77\u001b[0m         \u001b[0mx\u001b[0m\u001b[0;34m=\u001b[0m\u001b[0;34m[\u001b[0m\u001b[0;34m*\u001b[0m\u001b[0mstate\u001b[0m\u001b[0;34m,\u001b[0m \u001b[0mnp\u001b[0m\u001b[0;34m.\u001b[0m\u001b[0marray\u001b[0m\u001b[0;34m(\u001b[0m\u001b[0;34m[\u001b[0m\u001b[0mself\u001b[0m\u001b[0;34m.\u001b[0m\u001b[0mtemperature\u001b[0m\u001b[0;34m]\u001b[0m\u001b[0;34m)\u001b[0m\u001b[0;34m]\u001b[0m\u001b[0;34m\u001b[0m\u001b[0;34m\u001b[0m\u001b[0m\n\u001b[1;32m     78\u001b[0m \u001b[0;31m#         print(getshape(state))\u001b[0m\u001b[0;34m\u001b[0m\u001b[0;34m\u001b[0m\u001b[0;34m\u001b[0m\u001b[0m\n\u001b[0;32m---> 79\u001b[0;31m         \u001b[0;32mreturn\u001b[0m \u001b[0mself\u001b[0m\u001b[0;34m.\u001b[0m\u001b[0mmodel\u001b[0m\u001b[0;34m.\u001b[0m\u001b[0mpredict_on_batch\u001b[0m\u001b[0;34m(\u001b[0m\u001b[0mx\u001b[0m\u001b[0;34m)\u001b[0m\u001b[0;34m\u001b[0m\u001b[0;34m\u001b[0m\u001b[0m\n\u001b[0m\u001b[1;32m     80\u001b[0m \u001b[0;34m\u001b[0m\u001b[0m\n\u001b[1;32m     81\u001b[0m     \u001b[0;32mdef\u001b[0m \u001b[0mupdate\u001b[0m\u001b[0;34m(\u001b[0m\u001b[0mself\u001b[0m\u001b[0;34m,\u001b[0m \u001b[0mstate\u001b[0m\u001b[0;34m,\u001b[0m \u001b[0maction\u001b[0m\u001b[0;34m,\u001b[0m \u001b[0mtarget\u001b[0m\u001b[0;34m)\u001b[0m\u001b[0;34m:\u001b[0m\u001b[0;34m\u001b[0m\u001b[0;34m\u001b[0m\u001b[0m\n",
      "\u001b[0;32m~/thesis/guessing-game/venv/lib/python3.8/site-packages/tensorflow/python/keras/engine/training.py\u001b[0m in \u001b[0;36mpredict_on_batch\u001b[0;34m(self, x)\u001b[0m\n\u001b[1;32m   1816\u001b[0m     \u001b[0m_disallow_inside_tf_function\u001b[0m\u001b[0;34m(\u001b[0m\u001b[0;34m'predict_on_batch'\u001b[0m\u001b[0;34m)\u001b[0m\u001b[0;34m\u001b[0m\u001b[0;34m\u001b[0m\u001b[0m\n\u001b[1;32m   1817\u001b[0m     \u001b[0;32mwith\u001b[0m \u001b[0mself\u001b[0m\u001b[0;34m.\u001b[0m\u001b[0mdistribute_strategy\u001b[0m\u001b[0;34m.\u001b[0m\u001b[0mscope\u001b[0m\u001b[0;34m(\u001b[0m\u001b[0;34m)\u001b[0m\u001b[0;34m:\u001b[0m\u001b[0;34m\u001b[0m\u001b[0;34m\u001b[0m\u001b[0m\n\u001b[0;32m-> 1818\u001b[0;31m       \u001b[0miterator\u001b[0m \u001b[0;34m=\u001b[0m \u001b[0mdata_adapter\u001b[0m\u001b[0;34m.\u001b[0m\u001b[0msingle_batch_iterator\u001b[0m\u001b[0;34m(\u001b[0m\u001b[0mself\u001b[0m\u001b[0;34m.\u001b[0m\u001b[0mdistribute_strategy\u001b[0m\u001b[0;34m,\u001b[0m \u001b[0mx\u001b[0m\u001b[0;34m)\u001b[0m\u001b[0;34m\u001b[0m\u001b[0;34m\u001b[0m\u001b[0m\n\u001b[0m\u001b[1;32m   1819\u001b[0m       \u001b[0mself\u001b[0m\u001b[0;34m.\u001b[0m\u001b[0mpredict_function\u001b[0m \u001b[0;34m=\u001b[0m \u001b[0mself\u001b[0m\u001b[0;34m.\u001b[0m\u001b[0mmake_predict_function\u001b[0m\u001b[0;34m(\u001b[0m\u001b[0;34m)\u001b[0m\u001b[0;34m\u001b[0m\u001b[0;34m\u001b[0m\u001b[0m\n\u001b[1;32m   1820\u001b[0m       \u001b[0moutputs\u001b[0m \u001b[0;34m=\u001b[0m \u001b[0mself\u001b[0m\u001b[0;34m.\u001b[0m\u001b[0mpredict_function\u001b[0m\u001b[0;34m(\u001b[0m\u001b[0miterator\u001b[0m\u001b[0;34m)\u001b[0m\u001b[0;34m\u001b[0m\u001b[0;34m\u001b[0m\u001b[0m\n",
      "\u001b[0;32m~/thesis/guessing-game/venv/lib/python3.8/site-packages/tensorflow/python/keras/engine/data_adapter.py\u001b[0m in \u001b[0;36msingle_batch_iterator\u001b[0;34m(strategy, x, y, sample_weight, class_weight)\u001b[0m\n\u001b[1;32m   1503\u001b[0m                           class_weight=None):\n\u001b[1;32m   1504\u001b[0m   \u001b[0;34m\"\"\"Creates a single-batch dataset.\"\"\"\u001b[0m\u001b[0;34m\u001b[0m\u001b[0;34m\u001b[0m\u001b[0m\n\u001b[0;32m-> 1505\u001b[0;31m   \u001b[0mx\u001b[0m\u001b[0;34m,\u001b[0m \u001b[0my\u001b[0m\u001b[0;34m,\u001b[0m \u001b[0msample_weight\u001b[0m \u001b[0;34m=\u001b[0m \u001b[0m_process_tensorlike\u001b[0m\u001b[0;34m(\u001b[0m\u001b[0;34m(\u001b[0m\u001b[0mx\u001b[0m\u001b[0;34m,\u001b[0m \u001b[0my\u001b[0m\u001b[0;34m,\u001b[0m \u001b[0msample_weight\u001b[0m\u001b[0;34m)\u001b[0m\u001b[0;34m)\u001b[0m\u001b[0;34m\u001b[0m\u001b[0;34m\u001b[0m\u001b[0m\n\u001b[0m\u001b[1;32m   1506\u001b[0m   \u001b[0;32mif\u001b[0m \u001b[0my\u001b[0m \u001b[0;32mis\u001b[0m \u001b[0;32mNone\u001b[0m\u001b[0;34m:\u001b[0m\u001b[0;34m\u001b[0m\u001b[0;34m\u001b[0m\u001b[0m\n\u001b[1;32m   1507\u001b[0m     \u001b[0mdata\u001b[0m \u001b[0;34m=\u001b[0m \u001b[0;34m(\u001b[0m\u001b[0mx\u001b[0m\u001b[0;34m,\u001b[0m\u001b[0;34m)\u001b[0m\u001b[0;34m\u001b[0m\u001b[0;34m\u001b[0m\u001b[0m\n",
      "\u001b[0;32m~/thesis/guessing-game/venv/lib/python3.8/site-packages/tensorflow/python/keras/engine/data_adapter.py\u001b[0m in \u001b[0;36m_process_tensorlike\u001b[0;34m(inputs)\u001b[0m\n\u001b[1;32m   1014\u001b[0m     \u001b[0;32mreturn\u001b[0m \u001b[0mx\u001b[0m\u001b[0;34m\u001b[0m\u001b[0;34m\u001b[0m\u001b[0m\n\u001b[1;32m   1015\u001b[0m \u001b[0;34m\u001b[0m\u001b[0m\n\u001b[0;32m-> 1016\u001b[0;31m   \u001b[0minputs\u001b[0m \u001b[0;34m=\u001b[0m \u001b[0mnest\u001b[0m\u001b[0;34m.\u001b[0m\u001b[0mmap_structure\u001b[0m\u001b[0;34m(\u001b[0m\u001b[0m_convert_numpy_and_scipy\u001b[0m\u001b[0;34m,\u001b[0m \u001b[0minputs\u001b[0m\u001b[0;34m)\u001b[0m\u001b[0;34m\u001b[0m\u001b[0;34m\u001b[0m\u001b[0m\n\u001b[0m\u001b[1;32m   1017\u001b[0m   \u001b[0;32mreturn\u001b[0m \u001b[0mnest\u001b[0m\u001b[0;34m.\u001b[0m\u001b[0mlist_to_tuple\u001b[0m\u001b[0;34m(\u001b[0m\u001b[0minputs\u001b[0m\u001b[0;34m)\u001b[0m\u001b[0;34m\u001b[0m\u001b[0;34m\u001b[0m\u001b[0m\n\u001b[1;32m   1018\u001b[0m \u001b[0;34m\u001b[0m\u001b[0m\n",
      "\u001b[0;32m~/thesis/guessing-game/venv/lib/python3.8/site-packages/tensorflow/python/util/nest.py\u001b[0m in \u001b[0;36mmap_structure\u001b[0;34m(func, *structure, **kwargs)\u001b[0m\n\u001b[1;32m    656\u001b[0m   \u001b[0mentries\u001b[0m \u001b[0;34m=\u001b[0m \u001b[0mzip\u001b[0m\u001b[0;34m(\u001b[0m\u001b[0;34m*\u001b[0m\u001b[0mflat_structure\u001b[0m\u001b[0;34m)\u001b[0m\u001b[0;34m\u001b[0m\u001b[0;34m\u001b[0m\u001b[0m\n\u001b[1;32m    657\u001b[0m \u001b[0;34m\u001b[0m\u001b[0m\n\u001b[0;32m--> 658\u001b[0;31m   return pack_sequence_as(\n\u001b[0m\u001b[1;32m    659\u001b[0m       \u001b[0mstructure\u001b[0m\u001b[0;34m[\u001b[0m\u001b[0;36m0\u001b[0m\u001b[0;34m]\u001b[0m\u001b[0;34m,\u001b[0m \u001b[0;34m[\u001b[0m\u001b[0mfunc\u001b[0m\u001b[0;34m(\u001b[0m\u001b[0;34m*\u001b[0m\u001b[0mx\u001b[0m\u001b[0;34m)\u001b[0m \u001b[0;32mfor\u001b[0m \u001b[0mx\u001b[0m \u001b[0;32min\u001b[0m \u001b[0mentries\u001b[0m\u001b[0;34m]\u001b[0m\u001b[0;34m,\u001b[0m\u001b[0;34m\u001b[0m\u001b[0;34m\u001b[0m\u001b[0m\n\u001b[1;32m    660\u001b[0m       expand_composites=expand_composites)\n",
      "\u001b[0;32m~/thesis/guessing-game/venv/lib/python3.8/site-packages/tensorflow/python/util/nest.py\u001b[0m in \u001b[0;36mpack_sequence_as\u001b[0;34m(structure, flat_sequence, expand_composites)\u001b[0m\n\u001b[1;32m    577\u001b[0m     \u001b[0mTypeError\u001b[0m\u001b[0;34m:\u001b[0m\u001b[0;31m \u001b[0m\u001b[0;31m`\u001b[0m\u001b[0mstructure\u001b[0m\u001b[0;31m`\u001b[0m \u001b[0;32mis\u001b[0m \u001b[0;32mor\u001b[0m \u001b[0mcontains\u001b[0m \u001b[0ma\u001b[0m \u001b[0mdict\u001b[0m \u001b[0;32mwith\u001b[0m \u001b[0mnon\u001b[0m\u001b[0;34m-\u001b[0m\u001b[0msortable\u001b[0m \u001b[0mkeys\u001b[0m\u001b[0;34m.\u001b[0m\u001b[0;34m\u001b[0m\u001b[0;34m\u001b[0m\u001b[0m\n\u001b[1;32m    578\u001b[0m   \"\"\"\n\u001b[0;32m--> 579\u001b[0;31m   \u001b[0;32mreturn\u001b[0m \u001b[0m_pack_sequence_as\u001b[0m\u001b[0;34m(\u001b[0m\u001b[0mstructure\u001b[0m\u001b[0;34m,\u001b[0m \u001b[0mflat_sequence\u001b[0m\u001b[0;34m,\u001b[0m \u001b[0mexpand_composites\u001b[0m\u001b[0;34m)\u001b[0m\u001b[0;34m\u001b[0m\u001b[0;34m\u001b[0m\u001b[0m\n\u001b[0m\u001b[1;32m    580\u001b[0m \u001b[0;34m\u001b[0m\u001b[0m\n\u001b[1;32m    581\u001b[0m \u001b[0;34m\u001b[0m\u001b[0m\n",
      "\u001b[0;32m~/thesis/guessing-game/venv/lib/python3.8/site-packages/tensorflow/python/util/nest.py\u001b[0m in \u001b[0;36m_pack_sequence_as\u001b[0;34m(structure, flat_sequence, expand_composites, sequence_fn)\u001b[0m\n\u001b[1;32m    529\u001b[0m \u001b[0;34m\u001b[0m\u001b[0m\n\u001b[1;32m    530\u001b[0m   \u001b[0;32mtry\u001b[0m\u001b[0;34m:\u001b[0m\u001b[0;34m\u001b[0m\u001b[0;34m\u001b[0m\u001b[0m\n\u001b[0;32m--> 531\u001b[0;31m     final_index, packed = _packed_nest_with_indices(structure, flat_sequence,\n\u001b[0m\u001b[1;32m    532\u001b[0m                                                     0, is_seq, sequence_fn)\n\u001b[1;32m    533\u001b[0m     \u001b[0;32mif\u001b[0m \u001b[0mfinal_index\u001b[0m \u001b[0;34m<\u001b[0m \u001b[0mlen\u001b[0m\u001b[0;34m(\u001b[0m\u001b[0mflat_sequence\u001b[0m\u001b[0;34m)\u001b[0m\u001b[0;34m:\u001b[0m\u001b[0;34m\u001b[0m\u001b[0;34m\u001b[0m\u001b[0m\n",
      "\u001b[0;32m~/thesis/guessing-game/venv/lib/python3.8/site-packages/tensorflow/python/util/nest.py\u001b[0m in \u001b[0;36m_packed_nest_with_indices\u001b[0;34m(structure, flat, index, is_seq, sequence_fn)\u001b[0m\n\u001b[1;32m    495\u001b[0m       new_index, child = _packed_nest_with_indices(s, flat, index, is_seq,\n\u001b[1;32m    496\u001b[0m                                                    sequence_fn)\n\u001b[0;32m--> 497\u001b[0;31m       \u001b[0mpacked\u001b[0m\u001b[0;34m.\u001b[0m\u001b[0mappend\u001b[0m\u001b[0;34m(\u001b[0m\u001b[0msequence_fn\u001b[0m\u001b[0;34m(\u001b[0m\u001b[0ms\u001b[0m\u001b[0;34m,\u001b[0m \u001b[0mchild\u001b[0m\u001b[0;34m)\u001b[0m\u001b[0;34m)\u001b[0m\u001b[0;34m\u001b[0m\u001b[0;34m\u001b[0m\u001b[0m\n\u001b[0m\u001b[1;32m    498\u001b[0m       \u001b[0mindex\u001b[0m \u001b[0;34m=\u001b[0m \u001b[0mnew_index\u001b[0m\u001b[0;34m\u001b[0m\u001b[0;34m\u001b[0m\u001b[0m\n\u001b[1;32m    499\u001b[0m     \u001b[0;32melse\u001b[0m\u001b[0;34m:\u001b[0m\u001b[0;34m\u001b[0m\u001b[0;34m\u001b[0m\u001b[0m\n",
      "\u001b[0;32m~/thesis/guessing-game/venv/lib/python3.8/site-packages/tensorflow/python/util/nest.py\u001b[0m in \u001b[0;36m_sequence_like\u001b[0;34m(instance, args)\u001b[0m\n\u001b[1;32m    185\u001b[0m     \u001b[0;32massert\u001b[0m \u001b[0mlen\u001b[0m\u001b[0;34m(\u001b[0m\u001b[0margs\u001b[0m\u001b[0;34m)\u001b[0m \u001b[0;34m==\u001b[0m \u001b[0;36m1\u001b[0m\u001b[0;34m\u001b[0m\u001b[0;34m\u001b[0m\u001b[0m\n\u001b[1;32m    186\u001b[0m     \u001b[0;32mreturn\u001b[0m \u001b[0minstance\u001b[0m\u001b[0;34m.\u001b[0m\u001b[0m_from_components\u001b[0m\u001b[0;34m(\u001b[0m\u001b[0margs\u001b[0m\u001b[0;34m[\u001b[0m\u001b[0;36m0\u001b[0m\u001b[0;34m]\u001b[0m\u001b[0;34m)\u001b[0m  \u001b[0;31m# pylint: disable=protected-access\u001b[0m\u001b[0;34m\u001b[0m\u001b[0;34m\u001b[0m\u001b[0m\n\u001b[0;32m--> 187\u001b[0;31m   \u001b[0;32melif\u001b[0m \u001b[0misinstance\u001b[0m\u001b[0;34m(\u001b[0m\u001b[0minstance\u001b[0m\u001b[0;34m,\u001b[0m \u001b[0m_six\u001b[0m\u001b[0;34m.\u001b[0m\u001b[0mmoves\u001b[0m\u001b[0;34m.\u001b[0m\u001b[0mrange\u001b[0m\u001b[0;34m)\u001b[0m\u001b[0;34m:\u001b[0m\u001b[0;34m\u001b[0m\u001b[0;34m\u001b[0m\u001b[0m\n\u001b[0m\u001b[1;32m    188\u001b[0m     \u001b[0;32mreturn\u001b[0m \u001b[0m_sequence_like\u001b[0m\u001b[0;34m(\u001b[0m\u001b[0mlist\u001b[0m\u001b[0;34m(\u001b[0m\u001b[0minstance\u001b[0m\u001b[0;34m)\u001b[0m\u001b[0;34m,\u001b[0m \u001b[0margs\u001b[0m\u001b[0;34m)\u001b[0m\u001b[0;34m\u001b[0m\u001b[0;34m\u001b[0m\u001b[0m\n\u001b[1;32m    189\u001b[0m   \u001b[0;32melif\u001b[0m \u001b[0misinstance\u001b[0m\u001b[0;34m(\u001b[0m\u001b[0minstance\u001b[0m\u001b[0;34m,\u001b[0m \u001b[0m_wrapt\u001b[0m\u001b[0;34m.\u001b[0m\u001b[0mObjectProxy\u001b[0m\u001b[0;34m)\u001b[0m\u001b[0;34m:\u001b[0m\u001b[0;34m\u001b[0m\u001b[0;34m\u001b[0m\u001b[0m\n",
      "\u001b[0;31mKeyboardInterrupt\u001b[0m: "
     ]
    }
   ],
   "source": [
    "for episode in range(1, N_EPISODES + 1):\n",
    "    game.reset()\n",
    "    sender_state = game.get_sender_state(n_images=N_IMAGES, unique_categories=True, expand=True)\n",
    "    sender_probs = sender.predict(state=sender_state)\n",
    "    sender_probs = np.squeeze(sender_probs)\n",
    "    sender_action = np.random.choice(np.arange(len(sender_probs)), p=sender_probs)\n",
    "    # sender_action = 0\n",
    "    \n",
    "    receiver_state = game.get_receiver_state(sender_action, expand=True)\n",
    "    receiver_probs = receiver.predict(receiver_state)\n",
    "    receiver_probs = np.squeeze(receiver_probs)\n",
    "    receiver_action = np.random.choice(np.arange(len(receiver_probs)), p=receiver_probs)\n",
    "    \n",
    "#     receiver_action = 0\n",
    "    sender_reward, receiver_reward, success = game.evaluate_guess(receiver_action)\n",
    "\n",
    "    sender.remember(sender_state, np.asarray([sender_action]), np.asarray([sender_reward]))\n",
    "    receiver.remember(receiver_state, np.asarray([receiver_action]), np.asarray([receiver_reward]))\n",
    "\n",
    "    if not episode % BATCH_SIZE:\n",
    "        sender_loss = sender.update_on_batch()\n",
    "        receiver_loss = receiver.update_on_batch()\n",
    "        sender_log.extend(sender_loss)\n",
    "        receiver_log.extend(receiver_loss)\n",
    "        if ADAPTIVE_TEMPERATURE:\n",
    "            if np.mean(sender_loss) < 0.001 and np.mean(receiver_loss) < 0.001:\n",
    "                sender.adjust_temperature(np.mean(sender_loss))\n",
    "                receiver.adjust_temperature(np.mean(receiver_loss))\n",
    "    \n",
    "    success_log.append(success)\n",
    "    symbol_log.append(sender_action)\n",
    "    # sender_log.append(sender_loss)\n",
    "    # receiver_log.append(receiver_loss)\n",
    "    \n",
    "    if not episode % ANALYSIS_WINDOW:\n",
    "        success_rate_m = np.mean(success_log[-ANALYSIS_WINDOW:])\n",
    "        sender_loss_m = np.mean(sender_log[-ANALYSIS_WINDOW:])\n",
    "        receiver_loss_m = np.mean(receiver_log[-ANALYSIS_WINDOW:])\n",
    "        sender_loss_var = np.var(sender_log[-ANALYSIS_WINDOW:])\n",
    "        receiver_loss_var = np.var(receiver_log[-ANALYSIS_WINDOW:])\n",
    "        _, symbol_counts = np.unique(symbol_log[-ANALYSIS_WINDOW:], return_counts=True)\n",
    "        frequent_symbols = (symbol_counts > ANALYSIS_WINDOW/VOCABULARY_SIZE).sum()\n",
    "        print(f\"ep {episode}, \\\n",
    "        success_rate: {success_rate_m:.3f}, \\\n",
    "        sender_loss: {sender_loss_m:.3f} ±{sender_loss_var:.3f}, \\\n",
    "        receiver_loss: {receiver_loss_m:.3f} ±{receiver_loss_var:.3f}, \\\n",
    "        frequent_symbols: {frequent_symbols}\".\n",
    "        replace(\"    \", \"\"))\n",
    "        if ADAPTIVE_TEMPERATURE:\n",
    "            print(f\"sender_temp: {sender.temperature}, receiver_temp: {receiver.temperature}\")\n",
    "\n",
    "    \n"
   ]
  },
  {
   "cell_type": "code",
   "execution_count": 11,
   "metadata": {
    "colab": {
     "base_uri": "https://localhost:8080/",
     "height": 207
    },
    "id": "_e7CY8qVNO-b",
    "outputId": "c2c4d657-e29c-4a08-e41b-8b490ee22d21"
   },
   "outputs": [
    {
     "data": {
      "image/png": "[encoded data removed]",
      "text/plain": [
       "<Figure size 432x288 with 1 Axes>"
      ]
     },
     "metadata": {
      "needs_background": "light"
     },
     "output_type": "display_data"
    }
   ],
   "source": [
    "short = np.convolve(success_log, np.ones((50,))/50, mode='same')\n",
    "trend = np.convolve(success_log, np.ones((500,))/500, mode='same')\n",
    "trend_sd = (short - np.convolve(success_log, np.ones((500,))/500, mode='same'))**2\n",
    "plt.plot(short, linestyle=\"None\", marker=\".\", label=\"Average success rate\")\n",
    "plt.plot(trend, label=\"Trend\")\n",
    "plt.plot(trend_sd, label=\"Trend SD\")\n",
    "plt.legend()\n",
    "plt.title(\"Success rate\");"
   ]
  },
  {
   "cell_type": "code",
   "execution_count": 35,
   "metadata": {
    "colab": {
     "base_uri": "https://localhost:8080/",
     "height": 281
    },
    "id": "w8-kAWLQ3QUE",
    "outputId": "f443dc63-da92-4db4-d353-8e37093b93c4"
   },
   "outputs": [
    {
     "data": {
      "image/png": "[encoded data removed]",
      "text/plain": [
       "<Figure size 432x288 with 1 Axes>"
      ]
     },
     "metadata": {
      "needs_background": "light"
     },
     "output_type": "display_data"
    }
   ],
   "source": [
    "plt.plot(sender_log, linestyle=\"None\", marker=\".\", label=\"Loss\")\n",
    "plt.plot(np.convolve(sender_log, np.ones((100,))/100, mode='valid'), label=\"Average loss\")\n",
    "plt.legend()\n",
    "plt.title(\"Sender loss\");"
   ]
  },
  {
   "cell_type": "code",
   "execution_count": 36,
   "metadata": {
    "colab": {
     "base_uri": "https://localhost:8080/",
     "height": 281
    },
    "id": "OguZHTGCAQOR",
    "outputId": "499c6018-4933-4f94-c9e6-db26930d1dd8"
   },
   "outputs": [
    {
     "data": {
      "image/png": "[encoded data removed]",
      "text/plain": [
       "<Figure size 432x288 with 1 Axes>"
      ]
     },
     "metadata": {
      "needs_background": "light"
     },
     "output_type": "display_data"
    }
   ],
   "source": [
    "plt.plot(receiver_log, linestyle=\"None\", marker=\".\", label=\"Loss\")\n",
    "plt.plot(np.convolve(receiver_log, np.ones((40,))/40, mode='valid'), label=\"Average loss\")\n",
    "plt.legend()\n",
    "plt.title(\"Receiver loss\");"
   ]
  },
  {
   "cell_type": "code",
   "execution_count": 89,
   "metadata": {},
   "outputs": [],
   "source": [
    "receiver.temperature = 60"
   ]
  },
  {
   "cell_type": "code",
   "execution_count": null,
   "metadata": {},
   "outputs": [],
   "source": []
  }
 ],
 "metadata": {
  "accelerator": "GPU",
  "colab": {
   "authorship_tag": "ABX9TyPRhCicg/F36A1vSoR2NoYW",
   "collapsed_sections": [],
   "include_colab_link": true,
   "mount_file_id": "1JjwKZpkybvfvWN7IFPNkUR7nDiUqWBW1",
   "name": "Guessing game REINFORCE.ipynb",
   "provenance": []
  },
  "kernelspec": {
   "display_name": "Python 3",
   "language": "python",
   "name": "python3"
  },
  "language_info": {
   "codemirror_mode": {
    "name": "ipython",
    "version": 3
   },
   "file_extension": ".py",
   "mimetype": "text/x-python",
   "name": "python",
   "nbconvert_exporter": "python",
   "pygments_lexer": "ipython3",
   "version": "3.8.5"
  }
 },
 "nbformat": 4,
 "nbformat_minor": 1
}
