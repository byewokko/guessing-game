{
  "nbformat": 4,
  "nbformat_minor": 0,
  "metadata": {
    "colab": {
      "name": "Guessing game REINFORCE.ipynb",
      "provenance": [],
      "collapsed_sections": [],
      "mount_file_id": "1JjwKZpkybvfvWN7IFPNkUR7nDiUqWBW1",
      "authorship_tag": "ABX9TyPRhCicg/F36A1vSoR2NoYW",
      "include_colab_link": true
    },
    "kernelspec": {
      "name": "python3",
      "display_name": "Python 3"
    },
    "accelerator": "GPU"
  },
  "cells": [
    {
      "cell_type": "markdown",
      "metadata": {
        "id": "view-in-github",
        "colab_type": "text"
      },
      "source": [
        "<a href=\"https://colab.research.google.com/github/byewokko/guessing-game/blob/master/Guessing_game_REINFORCE_2.4.3.ipynb\" target=\"_parent\"><img src=\"https://colab.research.google.com/assets/colab-badge.svg\" alt=\"Open In Colab\"/></a>"
      ]
    },
    {
      "cell_type": "code",
      "metadata": {
        "id": "P1tD3xofSH_q",
        "outputId": "ac6043de-276f-46c7-8c35-95c130e23cc1",
        "colab": {
          "base_uri": "https://localhost:8080/",
          "height": 707
        }
      },
      "source": [
        "# Run once to get functions and datasets from my guessing-game repo\n",
        "!wget https://raw.githubusercontent.com/byewokko/guessing-game/master/game/game.py\n",
        "!wget https://raw.githubusercontent.com/byewokko/guessing-game/master/utils/dataprep.py\n",
        "!wget https://github.com/byewokko/guessing-game/raw/master/data/imagenet-200x65-vgg19.train.emb.gz"
      ],
      "execution_count": null,
      "outputs": [
        {
          "output_type": "stream",
          "text": [
            "--2020-09-25 16:18:53--  https://raw.githubusercontent.com/byewokko/guessing-game/master/game/game.py\n",
            "Resolving raw.githubusercontent.com (raw.githubusercontent.com)... 151.101.0.133, 151.101.64.133, 151.101.128.133, ...\n",
            "Connecting to raw.githubusercontent.com (raw.githubusercontent.com)|151.101.0.133|:443... connected.\n",
            "HTTP request sent, awaiting response... 200 OK\n",
            "Length: 4894 (4.8K) [text/plain]\n",
            "Saving to: ‘game.py’\n",
            "\n",
            "\rgame.py               0%[                    ]       0  --.-KB/s               \rgame.py             100%[===================>]   4.78K  --.-KB/s    in 0s      \n",
            "\n",
            "2020-09-25 16:18:53 (56.1 MB/s) - ‘game.py’ saved [4894/4894]\n",
            "\n",
            "--2020-09-25 16:18:53--  https://raw.githubusercontent.com/byewokko/guessing-game/master/utils/dataprep.py\n",
            "Resolving raw.githubusercontent.com (raw.githubusercontent.com)... 151.101.0.133, 151.101.64.133, 151.101.128.133, ...\n",
            "Connecting to raw.githubusercontent.com (raw.githubusercontent.com)|151.101.0.133|:443... connected.\n",
            "HTTP request sent, awaiting response... 200 OK\n",
            "Length: 3466 (3.4K) [text/plain]\n",
            "Saving to: ‘dataprep.py’\n",
            "\n",
            "dataprep.py         100%[===================>]   3.38K  --.-KB/s    in 0s      \n",
            "\n",
            "2020-09-25 16:18:54 (33.5 MB/s) - ‘dataprep.py’ saved [3466/3466]\n",
            "\n",
            "--2020-09-25 16:18:54--  https://github.com/byewokko/guessing-game/raw/master/data/imagenet-200x65-vgg19.train.emb.gz\n",
            "Resolving github.com (github.com)... 140.82.121.3\n",
            "Connecting to github.com (github.com)|140.82.121.3|:443... connected.\n",
            "HTTP request sent, awaiting response... 302 Found\n",
            "Location: https://raw.githubusercontent.com/byewokko/guessing-game/master/data/imagenet-200x65-vgg19.train.emb.gz [following]\n",
            "--2020-09-25 16:18:54--  https://raw.githubusercontent.com/byewokko/guessing-game/master/data/imagenet-200x65-vgg19.train.emb.gz\n",
            "Resolving raw.githubusercontent.com (raw.githubusercontent.com)... 151.101.0.133, 151.101.64.133, 151.101.128.133, ...\n",
            "Connecting to raw.githubusercontent.com (raw.githubusercontent.com)|151.101.0.133|:443... connected.\n",
            "HTTP request sent, awaiting response... 200 OK\n",
            "Length: 63307014 (60M) [application/octet-stream]\n",
            "Saving to: ‘imagenet-200x65-vgg19.train.emb.gz’\n",
            "\n",
            "imagenet-200x65-vgg 100%[===================>]  60.37M   121MB/s    in 0.5s    \n",
            "\n",
            "2020-09-25 16:18:57 (121 MB/s) - ‘imagenet-200x65-vgg19.train.emb.gz’ saved [63307014/63307014]\n",
            "\n"
          ],
          "name": "stdout"
        }
      ]
    },
    {
      "cell_type": "code",
      "metadata": {
        "id": "OM-V5FZu25QH"
      },
      "source": [
        "import keras.layers as layers\n",
        "import tensorflow.keras.backend as K\n",
        "import matplotlib.pyplot as plt\n",
        "import numpy as np\n",
        "import tensorflow as tf\n",
        "\n",
        "import plotly.graph_objects as go\n",
        "\n",
        "from keras.models import Model, Sequential\n",
        "import keras.optimizers as optim\n",
        "\n",
        "from game import Game\n",
        "from dataprep import load_emb_gz, make_categories"
      ],
      "execution_count": null,
      "outputs": []
    },
    {
      "cell_type": "code",
      "metadata": {
        "id": "Pq8OBI6O3CxL",
        "outputId": "a68f3b4a-9fa5-4566-8ec7-936fc78c042a",
        "colab": {
          "base_uri": "https://localhost:8080/",
          "height": 53
        }
      },
      "source": [
        "DATASET = \"imagenet-200x65-vgg19.train.emb.gz\"\n",
        "\n",
        "path2ind, path_list, embeddings = load_emb_gz(DATASET)\n",
        "categories = make_categories(path_list, sep=\"\\\\\")\n",
        "\n",
        "IMAGE_SHAPE = [len(embeddings[0])]"
      ],
      "execution_count": null,
      "outputs": [
        {
          "output_type": "stream",
          "text": [
            "DONE. 13190 items loaded from imagenet-200x65-vgg19.train.emb.gz.\n",
            "200 categories found.\n"
          ],
          "name": "stdout"
        }
      ]
    },
    {
      "cell_type": "code",
      "metadata": {
        "id": "d8nJU98o3ApO"
      },
      "source": [
        "N_IMAGES = 2\n",
        "EMBEDDING_SIZE = 50\n",
        "VOCABULARY_SIZE = 10\n",
        "\n",
        "TEMPERATURE = 30\n",
        "N_EPISODES = 4000\n",
        "ANALYSIS_WINDOW = 50\n",
        "BATCH_SIZE = 30\n",
        "\n",
        "LEARNING_RATE = 0.1\n",
        "OPTIMIZER = optim.Adam\n",
        "# OPTIMIZER = optim.SGD\n",
        "\n",
        "SENDER_KWARGS = {\n",
        "    \"n_images\": N_IMAGES, \n",
        "    \"input_image_shape\": IMAGE_SHAPE, \n",
        "    \"embedding_size\": EMBEDDING_SIZE, \n",
        "    \"vocabulary_size\": VOCABULARY_SIZE, \n",
        "    \"temperature\": TEMPERATURE, \n",
        "    \"optimizer\": OPTIMIZER(LEARNING_RATE),\n",
        "    \"sender_type\": \"informed\",\n",
        "    \"n_informed_filters\": 20,\n",
        "    \"verbose\": True\n",
        "}\n",
        "\n",
        "RECEIVER_KWARGS = {\n",
        "    \"n_images\": N_IMAGES, \n",
        "    \"input_image_shape\": IMAGE_SHAPE, \n",
        "    \"embedding_size\": EMBEDDING_SIZE, \n",
        "    \"vocabulary_size\": VOCABULARY_SIZE, \n",
        "    \"temperature\": TEMPERATURE, \n",
        "    \"optimizer\": OPTIMIZER(LEARNING_RATE),\n",
        "}"
      ],
      "execution_count": null,
      "outputs": []
    },
    {
      "cell_type": "code",
      "metadata": {
        "id": "BtXPTHx23Eit"
      },
      "source": [
        "game = Game(images=embeddings, images_filenames=path_list, categories=categories)"
      ],
      "execution_count": null,
      "outputs": []
    },
    {
      "cell_type": "code",
      "metadata": {
        "id": "VyFfWtkf3Gt1"
      },
      "source": [
        "def getshape(array):\n",
        "    if isinstance(array, list):\n",
        "        return [getshape(x) for x in array]\n",
        "    else:\n",
        "        try:\n",
        "            return array.shape\n",
        "        except:\n",
        "            return None"
      ],
      "execution_count": null,
      "outputs": []
    },
    {
      "cell_type": "code",
      "metadata": {
        "id": "GyY6HeKd3IGs"
      },
      "source": [
        "class Sender:\n",
        "    def __init__(self, **kwargs):\n",
        "        self.build_model(**kwargs)\n",
        "        self.reset_memory()\n",
        "        \n",
        "    def build_model(self, n_images, input_image_shape, embedding_size, \n",
        "                    vocabulary_size, temperature, optimizer, \n",
        "                    sender_type=\"agnostic\", n_informed_filters=20, \n",
        "                    verbose=False):\n",
        "        image_inputs = [layers.Input(shape=input_image_shape, \n",
        "                                     name=f\"S_image_in_{i}\", \n",
        "                                     dtype=\"float32\") for i in range(n_images)]\n",
        "        image_embedding_layer = layers.Dense(embedding_size, \n",
        "                                             name=\"S_image_embedding\")\n",
        "        # agnostic part\n",
        "        sigmoid = layers.Activation(\"sigmoid\", name=\"S_sigmoid\")\n",
        "        output_layer = layers.Dense(vocabulary_size, name=\"S_output\")\n",
        "        \n",
        "        # informed part\n",
        "        stack = layers.Lambda(lambda x: K.stack(x, axis=1), name=\"S_stack\")\n",
        "        reshape = layers.Reshape((1, n_images, embedding_size),\n",
        "                                 input_shape=[n_images, embedding_size], \n",
        "                                 name=\"S_reshape\")\n",
        "        feature_filters = layers.Conv2D(filters=vocabulary_size,\n",
        "                                        kernel_size=(n_images, 1),\n",
        "                                        activation=\"sigmoid\",\n",
        "                                        data_format=\"channels_first\",\n",
        "                                        name=\"S_feature_filters\")\n",
        "        permute = layers.Permute([2, 1, 3], name=\"S_permute\")\n",
        "        vocabulary_filter = layers.Conv2D(1, \n",
        "                                          kernel_size=(vocabulary_size, 1),\n",
        "                                          data_format=\"channels_first\",\n",
        "                                          name=\"S_vocabulary_filter\")\n",
        "        flatten = layers.Flatten()\n",
        "            \n",
        "        temperature_layer = layers.Lambda(lambda x: x / temperature, \n",
        "                                          name=\"S_temperature\")\n",
        "        softmax = layers.Softmax()\n",
        "        \n",
        "        y = [image_embedding_layer(x) for x in image_inputs]\n",
        "        if sender_type == \"agnostic\":\n",
        "            y = [sigmoid(x) for x in y]\n",
        "            y = layers.concatenate(y, axis=-1)\n",
        "            y = output_layer(y)\n",
        "        elif sender_type == \"informed\":\n",
        "            y = stack(y)\n",
        "            convolution = Sequential(\n",
        "                [reshape, feature_filters, permute, vocabulary_filter, flatten],\n",
        "                name=\"S_informed_convolution\"\n",
        "            )\n",
        "            if verbose:\n",
        "                convolution.summary()\n",
        "            y = convolution(y)\n",
        "        \n",
        "        y = temperature_layer(y)\n",
        "        y = softmax(y)\n",
        "        \n",
        "        self.model = Model(image_inputs, y, name=\"S_predict\")\n",
        "        \n",
        "        index = layers.Input(shape=[1], dtype=\"int32\", name=\"S_index_in\")\n",
        "        y_selected = layers.Lambda(\n",
        "            lambda probs_index: K.gather(probs_index[0][0], probs_index[1]),\n",
        "            # lambda probs_index: tf.gather(*probs_index, axis=-1),\n",
        "            name=\"S_gather\")([y, index])\n",
        "        \n",
        "        # @tf.function\n",
        "        def loss(target, prediction):\n",
        "            return - K.log(prediction) * target\n",
        "        \n",
        "        self.model_train = Model([*image_inputs, index], y_selected, name=\"S_train\")\n",
        "        self.model_train.compile(loss=loss, optimizer=optimizer)\n",
        "\n",
        "        if verbose:\n",
        "            self.model.summary()\n",
        "            self.model_train.summary()\n",
        "        \n",
        "    def predict(self, state):\n",
        "#         print(getshape(state))\n",
        "        return self.model.predict_on_batch(x=state)\n",
        "\n",
        "    def update(self, state, action, target):\n",
        "        x = [*state, action]\n",
        "        # print(getshape(x), getshape(target))\n",
        "        return self.model_train.train_on_batch(x=x, y=target)\n",
        "\n",
        "    def remember(self, state, action, target):\n",
        "        x = [*state, action]\n",
        "        self.memory_x.append(x)\n",
        "        self.memory_y.append(target)\n",
        "\n",
        "    def reset_memory(self):\n",
        "        self.memory_x = []\n",
        "        self.memory_y = []\n",
        "\n",
        "    def update_on_batch(self, reset_after=True):\n",
        "        loss = []\n",
        "        for x, y in zip(self.memory_x, self.memory_y):\n",
        "            loss.append(self.model_train.train_on_batch(x=x, y=y))\n",
        "        if reset_after:\n",
        "            self.reset_memory()\n",
        "        return loss"
      ],
      "execution_count": null,
      "outputs": []
    },
    {
      "cell_type": "code",
      "metadata": {
        "id": "R6gS_uAG3KUE"
      },
      "source": [
        "class Receiver:\n",
        "    def __init__(self, **kwargs):\n",
        "        self.build_model(**kwargs)\n",
        "        self.reset_memory()\n",
        "        \n",
        "    def build_model(self, n_images, input_image_shape, embedding_size, \n",
        "                    vocabulary_size, temperature, optimizer, verbose=False):\n",
        "        image_inputs = [layers.Input(shape=input_image_shape, name=f\"R_image_in_{i}\", dtype=\"float32\") for i in range(n_images)]\n",
        "        image_embedding_layer = layers.Dense(embedding_size, name=\"R_image_embedding\")\n",
        "        temperature_layer = layers.Lambda(lambda x: x / temperature, name=\"R_temperature\")\n",
        "        softmax = layers.Softmax()\n",
        "        \n",
        "        symbol_input = layers.Input(shape=[1], dtype=\"int32\", name=f\"R_symbol_in\")\n",
        "        symbol_embedding = layers.Embedding(input_dim=vocabulary_size, \n",
        "                                            output_dim=embedding_size, \n",
        "                                            name=\"R_symbol_embedding\")\n",
        "        dot_product = layers.Dot(axes=-1, name=\"R_dot_product\")\n",
        "        \n",
        "        y_images = [image_embedding_layer(x) for x in image_inputs]\n",
        "        y_symbol = symbol_embedding(symbol_input)\n",
        "        y = [dot_product([img, y_symbol]) for img in y_images]\n",
        "        y = layers.concatenate(y, axis=-1)\n",
        "        y = temperature_layer(y)\n",
        "        y = softmax(y)\n",
        "        \n",
        "        self.model = Model([*image_inputs, symbol_input], y, name=\"R_predict\")\n",
        "        \n",
        "        index = layers.Input(shape=[1], dtype=\"int32\", name=\"R_index_in\")\n",
        "        y_selected = layers.Lambda(\n",
        "            # lambda probs_index: K.gather(probs_index[0][0], probs_index[1]),\n",
        "            lambda probs_index: tf.gather(*probs_index, axis=-1),\n",
        "            name=\"R_gather\")([y, index])\n",
        "        \n",
        "        # @tf.function\n",
        "        def loss(target, prediction):\n",
        "            return - K.log(prediction) * target\n",
        "        \n",
        "        self.model_train = Model([*image_inputs, symbol_input, index], y_selected, name=\"R_train\")\n",
        "        self.model_train.compile(loss=loss, optimizer=optimizer)\n",
        "\n",
        "        if verbose:\n",
        "            self.model.summary()\n",
        "            self.model_train.summary()\n",
        "        \n",
        "    def predict(self, state):\n",
        "#         print(getshape(state))\n",
        "        return self.model.predict_on_batch(x=state)\n",
        "\n",
        "    def update(self, state, action, target):\n",
        "        x = [*state, action]\n",
        "        # print(getshape(x), getshape(target))\n",
        "        return self.model_train.train_on_batch(x=x, y=target)\n",
        "\n",
        "    def remember(self, state, action, target):\n",
        "        x = [*state, action]\n",
        "        self.memory_x.append(x)\n",
        "        self.memory_y.append(target)\n",
        "\n",
        "    def reset_memory(self):\n",
        "        self.memory_x = []\n",
        "        self.memory_y = []\n",
        "\n",
        "    def update_on_batch(self, reset_after=True):\n",
        "        loss = []\n",
        "        for x, y in zip(self.memory_x, self.memory_y):\n",
        "            loss.append(self.model_train.train_on_batch(x=x, y=y))\n",
        "        if reset_after:\n",
        "            self.reset_memory()\n",
        "        return loss"
      ],
      "execution_count": null,
      "outputs": []
    },
    {
      "cell_type": "code",
      "metadata": {
        "id": "GdxY5cFb3MFz",
        "outputId": "2644695f-8f4b-458b-9a1c-8d2a757224dd",
        "colab": {
          "base_uri": "https://localhost:8080/",
          "height": 1000
        }
      },
      "source": [
        "K.clear_session()\n",
        "\n",
        "sender = Sender(**SENDER_KWARGS)\n",
        "receiver = Receiver(**RECEIVER_KWARGS)"
      ],
      "execution_count": null,
      "outputs": [
        {
          "output_type": "stream",
          "text": [
            "Model: \"S_informed_convolution\"\n",
            "_________________________________________________________________\n",
            "Layer (type)                 Output Shape              Param #   \n",
            "=================================================================\n",
            "S_reshape (Reshape)          (None, 1, 2, 50)          0         \n",
            "_________________________________________________________________\n",
            "S_feature_filters (Conv2D)   (None, 10, 1, 50)         30        \n",
            "_________________________________________________________________\n",
            "S_permute (Permute)          (None, 1, 10, 50)         0         \n",
            "_________________________________________________________________\n",
            "S_vocabulary_filter (Conv2D) (None, 1, 1, 50)          11        \n",
            "_________________________________________________________________\n",
            "flatten (Flatten)            (None, 50)                0         \n",
            "=================================================================\n",
            "Total params: 41\n",
            "Trainable params: 41\n",
            "Non-trainable params: 0\n",
            "_________________________________________________________________\n",
            "Model: \"S_predict\"\n",
            "__________________________________________________________________________________________________\n",
            "Layer (type)                    Output Shape         Param #     Connected to                     \n",
            "==================================================================================================\n",
            "S_image_in_0 (InputLayer)       [(None, 1000)]       0                                            \n",
            "__________________________________________________________________________________________________\n",
            "S_image_in_1 (InputLayer)       [(None, 1000)]       0                                            \n",
            "__________________________________________________________________________________________________\n",
            "S_image_embedding (Dense)       (None, 50)           50050       S_image_in_0[0][0]               \n",
            "                                                                 S_image_in_1[0][0]               \n",
            "__________________________________________________________________________________________________\n",
            "S_stack (Lambda)                (None, 2, 50)        0           S_image_embedding[0][0]          \n",
            "                                                                 S_image_embedding[1][0]          \n",
            "__________________________________________________________________________________________________\n",
            "S_informed_convolution (Sequent (None, 50)           41          S_stack[0][0]                    \n",
            "__________________________________________________________________________________________________\n",
            "S_temperature (Lambda)          (None, 50)           0           S_informed_convolution[0][0]     \n",
            "__________________________________________________________________________________________________\n",
            "softmax (Softmax)               (None, 50)           0           S_temperature[0][0]              \n",
            "==================================================================================================\n",
            "Total params: 50,091\n",
            "Trainable params: 50,091\n",
            "Non-trainable params: 0\n",
            "__________________________________________________________________________________________________\n",
            "Model: \"S_train\"\n",
            "__________________________________________________________________________________________________\n",
            "Layer (type)                    Output Shape         Param #     Connected to                     \n",
            "==================================================================================================\n",
            "S_image_in_0 (InputLayer)       [(None, 1000)]       0                                            \n",
            "__________________________________________________________________________________________________\n",
            "S_image_in_1 (InputLayer)       [(None, 1000)]       0                                            \n",
            "__________________________________________________________________________________________________\n",
            "S_image_embedding (Dense)       (None, 50)           50050       S_image_in_0[0][0]               \n",
            "                                                                 S_image_in_1[0][0]               \n",
            "__________________________________________________________________________________________________\n",
            "S_stack (Lambda)                (None, 2, 50)        0           S_image_embedding[0][0]          \n",
            "                                                                 S_image_embedding[1][0]          \n",
            "__________________________________________________________________________________________________\n",
            "S_informed_convolution (Sequent (None, 50)           41          S_stack[0][0]                    \n",
            "__________________________________________________________________________________________________\n",
            "S_temperature (Lambda)          (None, 50)           0           S_informed_convolution[0][0]     \n",
            "__________________________________________________________________________________________________\n",
            "softmax (Softmax)               (None, 50)           0           S_temperature[0][0]              \n",
            "__________________________________________________________________________________________________\n",
            "S_index_in (InputLayer)         [(None, 1)]          0                                            \n",
            "__________________________________________________________________________________________________\n",
            "S_gather (Lambda)               (None, 1)            0           softmax[0][0]                    \n",
            "                                                                 S_index_in[0][0]                 \n",
            "==================================================================================================\n",
            "Total params: 50,091\n",
            "Trainable params: 50,091\n",
            "Non-trainable params: 0\n",
            "__________________________________________________________________________________________________\n"
          ],
          "name": "stdout"
        }
      ]
    },
    {
      "cell_type": "code",
      "metadata": {
        "id": "-fhHsazu3Nw_",
        "outputId": "efeb9add-f82a-451d-a293-1d03125de636",
        "colab": {
          "base_uri": "https://localhost:8080/",
          "height": 722
        }
      },
      "source": [
        "success_log = []\n",
        "sender_log = []\n",
        "receiver_log = []\n",
        "\n",
        "for episode in range(1, N_EPISODES + 1):\n",
        "    game.reset()\n",
        "    sender_state = game.get_sender_state(n_images=N_IMAGES, unique_categories=True, expand=True)\n",
        "    sender_probs = sender.predict(state=sender_state)\n",
        "    sender_probs = np.squeeze(sender_probs)\n",
        "    sender_action = np.random.choice(np.arange(len(sender_probs)), p=sender_probs)\n",
        "    # sender_action = 0\n",
        "    \n",
        "    receiver_state = game.get_receiver_state(sender_action, expand=True)\n",
        "    receiver_probs = receiver.predict(receiver_state)\n",
        "    receiver_probs = np.squeeze(receiver_probs)\n",
        "    receiver_action = np.random.choice(np.arange(len(receiver_probs)), p=receiver_probs)\n",
        "    \n",
        "#     receiver_action = 0\n",
        "    sender_reward, receiver_reward, success = game.evaluate_guess(receiver_action)\n",
        "\n",
        "    sender.remember(sender_state, np.asarray([sender_action]), np.asarray([sender_reward]))\n",
        "    receiver.remember(receiver_state, np.asarray([receiver_action]), np.asarray([receiver_reward]))\n",
        "\n",
        "    if not episode % BATCH_SIZE:\n",
        "        sender_loss = sender.update_on_batch()\n",
        "        receiver_loss = receiver.update_on_batch()\n",
        "        sender_log.extend(sender_loss)\n",
        "        receiver_log.extend(receiver_loss)\n",
        "    \n",
        "    success_log.append(success)\n",
        "    # sender_log.append(sender_loss)\n",
        "    # receiver_log.append(receiver_loss)\n",
        "    \n",
        "    if not episode % ANALYSIS_WINDOW:\n",
        "        print(f\"ep {episode}, \\\n",
        "        success_rate: {sum(success_log[-ANALYSIS_WINDOW:])/ANALYSIS_WINDOW}, \\\n",
        "        sender_loss: {sum(sender_log[-ANALYSIS_WINDOW:])/ANALYSIS_WINDOW}, \\\n",
        "        receiver_loss: {sum(receiver_log[-ANALYSIS_WINDOW:])/ANALYSIS_WINDOW}\".\n",
        "        replace(\"    \", \"\"))\n",
        "\n",
        "    \n"
      ],
      "execution_count": null,
      "outputs": [
        {
          "output_type": "error",
          "ename": "InvalidArgumentError",
          "evalue": "ignored",
          "traceback": [
            "\u001b[0;31m---------------------------------------------------------------------------\u001b[0m",
            "\u001b[0;31mInvalidArgumentError\u001b[0m                      Traceback (most recent call last)",
            "\u001b[0;32m<ipython-input-12-1f5bc21ae410>\u001b[0m in \u001b[0;36m<module>\u001b[0;34m()\u001b[0m\n\u001b[1;32m     12\u001b[0m \u001b[0;34m\u001b[0m\u001b[0m\n\u001b[1;32m     13\u001b[0m     \u001b[0mreceiver_state\u001b[0m \u001b[0;34m=\u001b[0m \u001b[0mgame\u001b[0m\u001b[0;34m.\u001b[0m\u001b[0mget_receiver_state\u001b[0m\u001b[0;34m(\u001b[0m\u001b[0msender_action\u001b[0m\u001b[0;34m,\u001b[0m \u001b[0mexpand\u001b[0m\u001b[0;34m=\u001b[0m\u001b[0;32mTrue\u001b[0m\u001b[0;34m)\u001b[0m\u001b[0;34m\u001b[0m\u001b[0;34m\u001b[0m\u001b[0m\n\u001b[0;32m---> 14\u001b[0;31m     \u001b[0mreceiver_probs\u001b[0m \u001b[0;34m=\u001b[0m \u001b[0mreceiver\u001b[0m\u001b[0;34m.\u001b[0m\u001b[0mpredict\u001b[0m\u001b[0;34m(\u001b[0m\u001b[0mreceiver_state\u001b[0m\u001b[0;34m)\u001b[0m\u001b[0;34m\u001b[0m\u001b[0;34m\u001b[0m\u001b[0m\n\u001b[0m\u001b[1;32m     15\u001b[0m     \u001b[0mreceiver_probs\u001b[0m \u001b[0;34m=\u001b[0m \u001b[0mnp\u001b[0m\u001b[0;34m.\u001b[0m\u001b[0msqueeze\u001b[0m\u001b[0;34m(\u001b[0m\u001b[0mreceiver_probs\u001b[0m\u001b[0;34m)\u001b[0m\u001b[0;34m\u001b[0m\u001b[0;34m\u001b[0m\u001b[0m\n\u001b[1;32m     16\u001b[0m     \u001b[0mreceiver_action\u001b[0m \u001b[0;34m=\u001b[0m \u001b[0mnp\u001b[0m\u001b[0;34m.\u001b[0m\u001b[0mrandom\u001b[0m\u001b[0;34m.\u001b[0m\u001b[0mchoice\u001b[0m\u001b[0;34m(\u001b[0m\u001b[0mnp\u001b[0m\u001b[0;34m.\u001b[0m\u001b[0marange\u001b[0m\u001b[0;34m(\u001b[0m\u001b[0mlen\u001b[0m\u001b[0;34m(\u001b[0m\u001b[0mreceiver_probs\u001b[0m\u001b[0;34m)\u001b[0m\u001b[0;34m)\u001b[0m\u001b[0;34m,\u001b[0m \u001b[0mp\u001b[0m\u001b[0;34m=\u001b[0m\u001b[0mreceiver_probs\u001b[0m\u001b[0;34m)\u001b[0m\u001b[0;34m\u001b[0m\u001b[0;34m\u001b[0m\u001b[0m\n",
            "\u001b[0;32m<ipython-input-8-e0ba3d5b53f6>\u001b[0m in \u001b[0;36mpredict\u001b[0;34m(self, state)\u001b[0m\n\u001b[1;32m     45\u001b[0m     \u001b[0;32mdef\u001b[0m \u001b[0mpredict\u001b[0m\u001b[0;34m(\u001b[0m\u001b[0mself\u001b[0m\u001b[0;34m,\u001b[0m \u001b[0mstate\u001b[0m\u001b[0;34m)\u001b[0m\u001b[0;34m:\u001b[0m\u001b[0;34m\u001b[0m\u001b[0;34m\u001b[0m\u001b[0m\n\u001b[1;32m     46\u001b[0m \u001b[0;31m#         print(getshape(state))\u001b[0m\u001b[0;34m\u001b[0m\u001b[0;34m\u001b[0m\u001b[0;34m\u001b[0m\u001b[0m\n\u001b[0;32m---> 47\u001b[0;31m         \u001b[0;32mreturn\u001b[0m \u001b[0mself\u001b[0m\u001b[0;34m.\u001b[0m\u001b[0mmodel\u001b[0m\u001b[0;34m.\u001b[0m\u001b[0mpredict_on_batch\u001b[0m\u001b[0;34m(\u001b[0m\u001b[0mx\u001b[0m\u001b[0;34m=\u001b[0m\u001b[0mstate\u001b[0m\u001b[0;34m)\u001b[0m\u001b[0;34m\u001b[0m\u001b[0;34m\u001b[0m\u001b[0m\n\u001b[0m\u001b[1;32m     48\u001b[0m \u001b[0;34m\u001b[0m\u001b[0m\n\u001b[1;32m     49\u001b[0m     \u001b[0;32mdef\u001b[0m \u001b[0mupdate\u001b[0m\u001b[0;34m(\u001b[0m\u001b[0mself\u001b[0m\u001b[0;34m,\u001b[0m \u001b[0mstate\u001b[0m\u001b[0;34m,\u001b[0m \u001b[0maction\u001b[0m\u001b[0;34m,\u001b[0m \u001b[0mtarget\u001b[0m\u001b[0;34m)\u001b[0m\u001b[0;34m:\u001b[0m\u001b[0;34m\u001b[0m\u001b[0;34m\u001b[0m\u001b[0m\n",
            "\u001b[0;32m/usr/local/lib/python3.6/dist-packages/tensorflow/python/keras/engine/training.py\u001b[0m in \u001b[0;36mpredict_on_batch\u001b[0;34m(self, x)\u001b[0m\n\u001b[1;32m   1786\u001b[0m       \u001b[0miterator\u001b[0m \u001b[0;34m=\u001b[0m \u001b[0mdata_adapter\u001b[0m\u001b[0;34m.\u001b[0m\u001b[0msingle_batch_iterator\u001b[0m\u001b[0;34m(\u001b[0m\u001b[0mself\u001b[0m\u001b[0;34m.\u001b[0m\u001b[0mdistribute_strategy\u001b[0m\u001b[0;34m,\u001b[0m \u001b[0mx\u001b[0m\u001b[0;34m)\u001b[0m\u001b[0;34m\u001b[0m\u001b[0;34m\u001b[0m\u001b[0m\n\u001b[1;32m   1787\u001b[0m       \u001b[0mpredict_function\u001b[0m \u001b[0;34m=\u001b[0m \u001b[0mself\u001b[0m\u001b[0;34m.\u001b[0m\u001b[0mmake_predict_function\u001b[0m\u001b[0;34m(\u001b[0m\u001b[0;34m)\u001b[0m\u001b[0;34m\u001b[0m\u001b[0;34m\u001b[0m\u001b[0m\n\u001b[0;32m-> 1788\u001b[0;31m       \u001b[0moutputs\u001b[0m \u001b[0;34m=\u001b[0m \u001b[0mpredict_function\u001b[0m\u001b[0;34m(\u001b[0m\u001b[0miterator\u001b[0m\u001b[0;34m)\u001b[0m\u001b[0;34m\u001b[0m\u001b[0;34m\u001b[0m\u001b[0m\n\u001b[0m\u001b[1;32m   1789\u001b[0m     \u001b[0;32mreturn\u001b[0m \u001b[0mtf_utils\u001b[0m\u001b[0;34m.\u001b[0m\u001b[0mto_numpy_or_python_type\u001b[0m\u001b[0;34m(\u001b[0m\u001b[0moutputs\u001b[0m\u001b[0;34m)\u001b[0m\u001b[0;34m\u001b[0m\u001b[0;34m\u001b[0m\u001b[0m\n\u001b[1;32m   1790\u001b[0m \u001b[0;34m\u001b[0m\u001b[0m\n",
            "\u001b[0;32m/usr/local/lib/python3.6/dist-packages/tensorflow/python/eager/def_function.py\u001b[0m in \u001b[0;36m__call__\u001b[0;34m(self, *args, **kwds)\u001b[0m\n\u001b[1;32m    778\u001b[0m       \u001b[0;32melse\u001b[0m\u001b[0;34m:\u001b[0m\u001b[0;34m\u001b[0m\u001b[0;34m\u001b[0m\u001b[0m\n\u001b[1;32m    779\u001b[0m         \u001b[0mcompiler\u001b[0m \u001b[0;34m=\u001b[0m \u001b[0;34m\"nonXla\"\u001b[0m\u001b[0;34m\u001b[0m\u001b[0;34m\u001b[0m\u001b[0m\n\u001b[0;32m--> 780\u001b[0;31m         \u001b[0mresult\u001b[0m \u001b[0;34m=\u001b[0m \u001b[0mself\u001b[0m\u001b[0;34m.\u001b[0m\u001b[0m_call\u001b[0m\u001b[0;34m(\u001b[0m\u001b[0;34m*\u001b[0m\u001b[0margs\u001b[0m\u001b[0;34m,\u001b[0m \u001b[0;34m**\u001b[0m\u001b[0mkwds\u001b[0m\u001b[0;34m)\u001b[0m\u001b[0;34m\u001b[0m\u001b[0;34m\u001b[0m\u001b[0m\n\u001b[0m\u001b[1;32m    781\u001b[0m \u001b[0;34m\u001b[0m\u001b[0m\n\u001b[1;32m    782\u001b[0m       \u001b[0mnew_tracing_count\u001b[0m \u001b[0;34m=\u001b[0m \u001b[0mself\u001b[0m\u001b[0;34m.\u001b[0m\u001b[0m_get_tracing_count\u001b[0m\u001b[0;34m(\u001b[0m\u001b[0;34m)\u001b[0m\u001b[0;34m\u001b[0m\u001b[0;34m\u001b[0m\u001b[0m\n",
            "\u001b[0;32m/usr/local/lib/python3.6/dist-packages/tensorflow/python/eager/def_function.py\u001b[0m in \u001b[0;36m_call\u001b[0;34m(self, *args, **kwds)\u001b[0m\n\u001b[1;32m    844\u001b[0m               *args, **kwds)\n\u001b[1;32m    845\u001b[0m       \u001b[0;31m# If we did not create any variables the trace we have is good enough.\u001b[0m\u001b[0;34m\u001b[0m\u001b[0;34m\u001b[0m\u001b[0;34m\u001b[0m\u001b[0m\n\u001b[0;32m--> 846\u001b[0;31m       \u001b[0;32mreturn\u001b[0m \u001b[0mself\u001b[0m\u001b[0;34m.\u001b[0m\u001b[0m_concrete_stateful_fn\u001b[0m\u001b[0;34m.\u001b[0m\u001b[0m_filtered_call\u001b[0m\u001b[0;34m(\u001b[0m\u001b[0mcanon_args\u001b[0m\u001b[0;34m,\u001b[0m \u001b[0mcanon_kwds\u001b[0m\u001b[0;34m)\u001b[0m  \u001b[0;31m# pylint: disable=protected-access\u001b[0m\u001b[0;34m\u001b[0m\u001b[0;34m\u001b[0m\u001b[0m\n\u001b[0m\u001b[1;32m    847\u001b[0m \u001b[0;34m\u001b[0m\u001b[0m\n\u001b[1;32m    848\u001b[0m     \u001b[0;32mdef\u001b[0m \u001b[0mfn_with_cond\u001b[0m\u001b[0;34m(\u001b[0m\u001b[0;34m*\u001b[0m\u001b[0minner_args\u001b[0m\u001b[0;34m,\u001b[0m \u001b[0;34m**\u001b[0m\u001b[0minner_kwds\u001b[0m\u001b[0;34m)\u001b[0m\u001b[0;34m:\u001b[0m\u001b[0;34m\u001b[0m\u001b[0;34m\u001b[0m\u001b[0m\n",
            "\u001b[0;32m/usr/local/lib/python3.6/dist-packages/tensorflow/python/eager/function.py\u001b[0m in \u001b[0;36m_filtered_call\u001b[0;34m(self, args, kwargs, cancellation_manager)\u001b[0m\n\u001b[1;32m   1846\u001b[0m                            resource_variable_ops.BaseResourceVariable))],\n\u001b[1;32m   1847\u001b[0m         \u001b[0mcaptured_inputs\u001b[0m\u001b[0;34m=\u001b[0m\u001b[0mself\u001b[0m\u001b[0;34m.\u001b[0m\u001b[0mcaptured_inputs\u001b[0m\u001b[0;34m,\u001b[0m\u001b[0;34m\u001b[0m\u001b[0;34m\u001b[0m\u001b[0m\n\u001b[0;32m-> 1848\u001b[0;31m         cancellation_manager=cancellation_manager)\n\u001b[0m\u001b[1;32m   1849\u001b[0m \u001b[0;34m\u001b[0m\u001b[0m\n\u001b[1;32m   1850\u001b[0m   \u001b[0;32mdef\u001b[0m \u001b[0m_call_flat\u001b[0m\u001b[0;34m(\u001b[0m\u001b[0mself\u001b[0m\u001b[0;34m,\u001b[0m \u001b[0margs\u001b[0m\u001b[0;34m,\u001b[0m \u001b[0mcaptured_inputs\u001b[0m\u001b[0;34m,\u001b[0m \u001b[0mcancellation_manager\u001b[0m\u001b[0;34m=\u001b[0m\u001b[0;32mNone\u001b[0m\u001b[0;34m)\u001b[0m\u001b[0;34m:\u001b[0m\u001b[0;34m\u001b[0m\u001b[0;34m\u001b[0m\u001b[0m\n",
            "\u001b[0;32m/usr/local/lib/python3.6/dist-packages/tensorflow/python/eager/function.py\u001b[0m in \u001b[0;36m_call_flat\u001b[0;34m(self, args, captured_inputs, cancellation_manager)\u001b[0m\n\u001b[1;32m   1922\u001b[0m       \u001b[0;31m# No tape is watching; skip to running the function.\u001b[0m\u001b[0;34m\u001b[0m\u001b[0;34m\u001b[0m\u001b[0;34m\u001b[0m\u001b[0m\n\u001b[1;32m   1923\u001b[0m       return self._build_call_outputs(self._inference_function.call(\n\u001b[0;32m-> 1924\u001b[0;31m           ctx, args, cancellation_manager=cancellation_manager))\n\u001b[0m\u001b[1;32m   1925\u001b[0m     forward_backward = self._select_forward_and_backward_functions(\n\u001b[1;32m   1926\u001b[0m         \u001b[0margs\u001b[0m\u001b[0;34m,\u001b[0m\u001b[0;34m\u001b[0m\u001b[0;34m\u001b[0m\u001b[0m\n",
            "\u001b[0;32m/usr/local/lib/python3.6/dist-packages/tensorflow/python/eager/function.py\u001b[0m in \u001b[0;36mcall\u001b[0;34m(self, ctx, args, cancellation_manager)\u001b[0m\n\u001b[1;32m    548\u001b[0m               \u001b[0minputs\u001b[0m\u001b[0;34m=\u001b[0m\u001b[0margs\u001b[0m\u001b[0;34m,\u001b[0m\u001b[0;34m\u001b[0m\u001b[0;34m\u001b[0m\u001b[0m\n\u001b[1;32m    549\u001b[0m               \u001b[0mattrs\u001b[0m\u001b[0;34m=\u001b[0m\u001b[0mattrs\u001b[0m\u001b[0;34m,\u001b[0m\u001b[0;34m\u001b[0m\u001b[0;34m\u001b[0m\u001b[0m\n\u001b[0;32m--> 550\u001b[0;31m               ctx=ctx)\n\u001b[0m\u001b[1;32m    551\u001b[0m         \u001b[0;32melse\u001b[0m\u001b[0;34m:\u001b[0m\u001b[0;34m\u001b[0m\u001b[0;34m\u001b[0m\u001b[0m\n\u001b[1;32m    552\u001b[0m           outputs = execute.execute_with_cancellation(\n",
            "\u001b[0;32m/usr/local/lib/python3.6/dist-packages/tensorflow/python/eager/execute.py\u001b[0m in \u001b[0;36mquick_execute\u001b[0;34m(op_name, num_outputs, inputs, attrs, ctx, name)\u001b[0m\n\u001b[1;32m     58\u001b[0m     \u001b[0mctx\u001b[0m\u001b[0;34m.\u001b[0m\u001b[0mensure_initialized\u001b[0m\u001b[0;34m(\u001b[0m\u001b[0;34m)\u001b[0m\u001b[0;34m\u001b[0m\u001b[0;34m\u001b[0m\u001b[0m\n\u001b[1;32m     59\u001b[0m     tensors = pywrap_tfe.TFE_Py_Execute(ctx._handle, device_name, op_name,\n\u001b[0;32m---> 60\u001b[0;31m                                         inputs, attrs, num_outputs)\n\u001b[0m\u001b[1;32m     61\u001b[0m   \u001b[0;32mexcept\u001b[0m \u001b[0mcore\u001b[0m\u001b[0;34m.\u001b[0m\u001b[0m_NotOkStatusException\u001b[0m \u001b[0;32mas\u001b[0m \u001b[0me\u001b[0m\u001b[0;34m:\u001b[0m\u001b[0;34m\u001b[0m\u001b[0;34m\u001b[0m\u001b[0m\n\u001b[1;32m     62\u001b[0m     \u001b[0;32mif\u001b[0m \u001b[0mname\u001b[0m \u001b[0;32mis\u001b[0m \u001b[0;32mnot\u001b[0m \u001b[0;32mNone\u001b[0m\u001b[0;34m:\u001b[0m\u001b[0;34m\u001b[0m\u001b[0;34m\u001b[0m\u001b[0m\n",
            "\u001b[0;31mInvalidArgumentError\u001b[0m: 2 root error(s) found.\n  (0) Invalid argument:  indices[0,0] = 35 is not in [0, 10)\n\t [[node R_predict/R_symbol_embedding/embedding_lookup (defined at <ipython-input-8-e0ba3d5b53f6>:47) ]]\n  (1) Invalid argument:  indices[0,0] = 35 is not in [0, 10)\n\t [[node R_predict/R_symbol_embedding/embedding_lookup (defined at <ipython-input-8-e0ba3d5b53f6>:47) ]]\n\t [[R_predict/R_symbol_embedding/embedding_lookup/_10]]\n0 successful operations.\n0 derived errors ignored. [Op:__inference_predict_function_865]\n\nErrors may have originated from an input operation.\nInput Source operations connected to node R_predict/R_symbol_embedding/embedding_lookup:\n R_predict/R_symbol_embedding/embedding_lookup/834 (defined at /usr/lib/python3.6/contextlib.py:81)\n\nInput Source operations connected to node R_predict/R_symbol_embedding/embedding_lookup:\n R_predict/R_symbol_embedding/embedding_lookup/834 (defined at /usr/lib/python3.6/contextlib.py:81)\n\nFunction call stack:\npredict_function -> predict_function\n"
          ]
        }
      ]
    },
    {
      "cell_type": "code",
      "metadata": {
        "id": "_e7CY8qVNO-b",
        "outputId": "c2c4d657-e29c-4a08-e41b-8b490ee22d21",
        "colab": {
          "base_uri": "https://localhost:8080/",
          "height": 207
        }
      },
      "source": [
        "plt.plot(np.convolve(success_log, np.ones((40,))/40, mode='valid'), label=\"Average success rate\");\n",
        "plt.legend()\n",
        "plt.title(\"Success rate\");"
      ],
      "execution_count": null,
      "outputs": [
        {
          "output_type": "error",
          "ename": "NameError",
          "evalue": "ignored",
          "traceback": [
            "\u001b[0;31m---------------------------------------------------------------------------\u001b[0m",
            "\u001b[0;31mNameError\u001b[0m                                 Traceback (most recent call last)",
            "\u001b[0;32m<ipython-input-10-c1f9ecfffdb6>\u001b[0m in \u001b[0;36m<module>\u001b[0;34m()\u001b[0m\n\u001b[0;32m----> 1\u001b[0;31m \u001b[0mplt\u001b[0m\u001b[0;34m.\u001b[0m\u001b[0mplot\u001b[0m\u001b[0;34m(\u001b[0m\u001b[0mnp\u001b[0m\u001b[0;34m.\u001b[0m\u001b[0mconvolve\u001b[0m\u001b[0;34m(\u001b[0m\u001b[0msuccess_log\u001b[0m\u001b[0;34m,\u001b[0m \u001b[0mnp\u001b[0m\u001b[0;34m.\u001b[0m\u001b[0mones\u001b[0m\u001b[0;34m(\u001b[0m\u001b[0;34m(\u001b[0m\u001b[0;36m40\u001b[0m\u001b[0;34m,\u001b[0m\u001b[0;34m)\u001b[0m\u001b[0;34m)\u001b[0m\u001b[0;34m/\u001b[0m\u001b[0;36m40\u001b[0m\u001b[0;34m,\u001b[0m \u001b[0mmode\u001b[0m\u001b[0;34m=\u001b[0m\u001b[0;34m'valid'\u001b[0m\u001b[0;34m)\u001b[0m\u001b[0;34m,\u001b[0m \u001b[0mlabel\u001b[0m\u001b[0;34m=\u001b[0m\u001b[0;34m\"Average success rate\"\u001b[0m\u001b[0;34m)\u001b[0m\u001b[0;34m;\u001b[0m\u001b[0;34m\u001b[0m\u001b[0;34m\u001b[0m\u001b[0m\n\u001b[0m\u001b[1;32m      2\u001b[0m \u001b[0mplt\u001b[0m\u001b[0;34m.\u001b[0m\u001b[0mlegend\u001b[0m\u001b[0;34m(\u001b[0m\u001b[0;34m)\u001b[0m\u001b[0;34m\u001b[0m\u001b[0;34m\u001b[0m\u001b[0m\n\u001b[1;32m      3\u001b[0m \u001b[0mplt\u001b[0m\u001b[0;34m.\u001b[0m\u001b[0mtitle\u001b[0m\u001b[0;34m(\u001b[0m\u001b[0;34m\"Success rate\"\u001b[0m\u001b[0;34m)\u001b[0m\u001b[0;34m;\u001b[0m\u001b[0;34m\u001b[0m\u001b[0;34m\u001b[0m\u001b[0m\n",
            "\u001b[0;31mNameError\u001b[0m: name 'success_log' is not defined"
          ]
        }
      ]
    },
    {
      "cell_type": "code",
      "metadata": {
        "id": "w8-kAWLQ3QUE",
        "outputId": "f443dc63-da92-4db4-d353-8e37093b93c4",
        "colab": {
          "base_uri": "https://localhost:8080/",
          "height": 281
        }
      },
      "source": [
        "plt.plot(sender_log, linestyle=\"None\", marker=\".\", label=\"Loss\")\n",
        "plt.plot(np.convolve(sender_log, np.ones((40,))/40, mode='valid'), label=\"Average loss\")\n",
        "plt.legend()\n",
        "plt.title(\"Sender loss\");"
      ],
      "execution_count": null,
      "outputs": [
        {
          "output_type": "display_data",
          "data": {
            "image/png": "[encoded data removed]",
            "text/plain": [
              "<Figure size 432x288 with 1 Axes>"
            ]
          },
          "metadata": {
            "tags": [],
            "needs_background": "light"
          }
        }
      ]
    },
    {
      "cell_type": "code",
      "metadata": {
        "id": "OguZHTGCAQOR",
        "outputId": "499c6018-4933-4f94-c9e6-db26930d1dd8",
        "colab": {
          "base_uri": "https://localhost:8080/",
          "height": 281
        }
      },
      "source": [
        "plt.plot(receiver_log, linestyle=\"None\", marker=\".\", label=\"Loss\")\n",
        "plt.plot(np.convolve(receiver_log, np.ones((40,))/40, mode='valid'), label=\"Average loss\")\n",
        "plt.legend()\n",
        "plt.title(\"Receiver loss\");"
      ],
      "execution_count": null,
      "outputs": [
        {
          "output_type": "display_data",
          "data": {
            "image/png": "[encoded data removed]",
            "text/plain": [
              "<Figure size 432x288 with 1 Axes>"
            ]
          },
          "metadata": {
            "tags": [],
            "needs_background": "light"
          }
        }
      ]
    },
    {
      "cell_type": "code",
      "metadata": {
        "id": "UtuJLlzwSeb6"
      },
      "source": [
        ""
      ],
      "execution_count": null,
      "outputs": []
    }
  ]
}