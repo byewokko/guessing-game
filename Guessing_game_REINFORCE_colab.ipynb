{
 "cells": [
  {
   "cell_type": "code",
   "execution_count": 28,
   "metadata": {
    "colab": {},
    "colab_type": "code",
    "id": "OM-V5FZu25QH"
   },
   "outputs": [],
   "source": [
    "import keras.layers as layers\n",
    "import keras.backend as K\n",
    "import matplotlib.pyplot as plt\n",
    "import numpy as np\n",
    "import tensorflow as tf\n",
    "\n",
    "from keras.models import Model\n",
    "import keras.optimizers as optim\n",
    "\n",
    "from game.game import Game\n",
    "from utils.dataprep import load_emb_gz, make_categories"
   ]
  },
  {
   "cell_type": "code",
   "execution_count": 29,
   "metadata": {
    "colab": {},
    "colab_type": "code",
    "id": "d8nJU98o3ApO"
   },
   "outputs": [],
   "source": [
    "DATASET = \"data/imagenet-200x65-vgg19.train.emb.gz\"\n",
    "\n",
    "N_IMAGES = 2\n",
    "EMBEDDING_SIZE = 50\n",
    "VOCABULARY_SIZE = 10\n",
    "\n",
    "TEMPERATURE = 10.\n",
    "N_EPISODES = 2000\n",
    "ANALYSIS_WINDOW = 20\n",
    "\n",
    "OPTIMIZER = optim.Adam(0.05)\n",
    "# OPTIMIZER = optim.SGD(2)"
   ]
  },
  {
   "cell_type": "code",
   "execution_count": 30,
   "metadata": {
    "colab": {
     "base_uri": "https://localhost:8080/",
     "height": 53
    },
    "colab_type": "code",
    "id": "Pq8OBI6O3CxL",
    "outputId": "6252d78d-f554-47b0-879f-db61ed36d8e6"
   },
   "outputs": [
    {
     "name": "stdout",
     "output_type": "stream",
     "text": [
      "DONE. 13190 items loaded from data/imagenet-200x65-vgg19.train.emb.gz.\n",
      "200 categories found.\n"
     ]
    }
   ],
   "source": [
    "path2ind, path_list, embeddings = load_emb_gz(DATASET)\n",
    "categories = make_categories(path_list, sep=\"\\\\\")\n",
    "\n",
    "IMAGE_SHAPE = [len(embeddings[0])]"
   ]
  },
  {
   "cell_type": "code",
   "execution_count": 31,
   "metadata": {
    "colab": {},
    "colab_type": "code",
    "id": "BtXPTHx23Eit"
   },
   "outputs": [],
   "source": [
    "game = Game(images=embeddings, images_filenames=path_list, categories=categories)"
   ]
  },
  {
   "cell_type": "code",
   "execution_count": 32,
   "metadata": {
    "colab": {},
    "colab_type": "code",
    "id": "VyFfWtkf3Gt1"
   },
   "outputs": [],
   "source": [
    "def getshape(array):\n",
    "    if isinstance(array, list):\n",
    "        return [getshape(x) for x in array]\n",
    "    else:\n",
    "        try:\n",
    "            return array.shape\n",
    "        except:\n",
    "            return None"
   ]
  },
  {
   "cell_type": "code",
   "execution_count": 37,
   "metadata": {
    "colab": {},
    "colab_type": "code",
    "id": "GyY6HeKd3IGs"
   },
   "outputs": [],
   "source": [
    "class Sender:\n",
    "    def __init__(self, n_images, input_image_shape, embedding_size, vocabulary_size, temperature):\n",
    "        self.build_model(n_images, input_image_shape, embedding_size, vocabulary_size, temperature)\n",
    "        self.reset_memory()\n",
    "        \n",
    "    def build_model(self, n_images, input_image_shape, embedding_size, vocabulary_size, temperature):\n",
    "        image_inputs = [layers.Input(shape=input_image_shape, name=f\"S_image_in_{i}\", dtype=\"float32\") for i in range(n_images)]\n",
    "        image_embedding_layer = layers.Dense(embedding_size, name=\"S_image_embedding\")\n",
    "        sigmoid = layers.Activation(\"sigmoid\", name=\"S_sigmoid\")\n",
    "        output_layer = layers.Dense(vocabulary_size, name=\"S_output\")\n",
    "        temperature_layer = layers.Lambda(lambda x: x / temperature, name=\"S_temperature\")\n",
    "        softmax = layers.Softmax()\n",
    "        \n",
    "        y = [image_embedding_layer(x) for x in image_inputs]\n",
    "        y = [sigmoid(x) for x in y]\n",
    "        y = layers.concatenate(y, axis=-1)\n",
    "        y = output_layer(y)\n",
    "        y = temperature_layer(y)\n",
    "        y = softmax(y)\n",
    "        \n",
    "        self.model = Model(image_inputs, y, name=\"S_predict\")\n",
    "        \n",
    "        index = layers.Input(shape=[1], dtype=\"int32\", name=\"S_index_in\")\n",
    "        y_selected = layers.Lambda(\n",
    "#             lambda probs_index: K.gather(probs_index[0][0], probs_index[1]),\n",
    "            lambda probs_index: tf.gather(*probs_index, axis=-1),\n",
    "            name=\"S_gather\")([y, index])\n",
    "        \n",
    "#         @tf.function\n",
    "        def loss(target, prediction):\n",
    "            return - K.log(prediction) * target\n",
    "        \n",
    "        self.model_train = Model([*image_inputs, index], y_selected, name=\"S_train\")\n",
    "        self.model_train.compile(loss=loss, optimizer=OPTIMIZER)\n",
    "\n",
    "        self.model.summary()\n",
    "        self.model_train.summary()\n",
    "        \n",
    "    def predict(self, state):\n",
    "#         print(getshape(state))\n",
    "        return self.model.predict_on_batch(x=state)\n",
    "\n",
    "    def update(self, state, action, target):\n",
    "        x = [*state, action]\n",
    "        # print(getshape(x), getshape(target))\n",
    "        return self.model_train.train_on_batch(x=x, y=target)\n",
    "\n",
    "    def remember(self, state, action, target):\n",
    "        x = [*state, action]\n",
    "#         print(getshape(x), getshape(target))\n",
    "        self.memory_x.append(x)\n",
    "        self.memory_y.append(target)\n",
    "\n",
    "    def reset_memory(self):\n",
    "        self.memory_x = []\n",
    "        self.memory_y = []\n",
    "\n",
    "    def update_on_batch(self, reset_after=True):\n",
    "        loss = []\n",
    "        for x, y in zip(self.memory_x, self.memory_y):\n",
    "            loss.append(self.model_train.train_on_batch(x=x, y=y))\n",
    "        if reset_after:\n",
    "            self.reset_memory()\n",
    "        return loss"
   ]
  },
  {
   "cell_type": "code",
   "execution_count": 38,
   "metadata": {
    "colab": {},
    "colab_type": "code",
    "id": "R6gS_uAG3KUE"
   },
   "outputs": [],
   "source": [
    "class Receiver:\n",
    "    def __init__(self, n_images, input_image_shape, embedding_size, vocabulary_size, temperature):\n",
    "        self.build_model(n_images, input_image_shape, embedding_size, vocabulary_size, temperature)\n",
    "        self.reset_memory()\n",
    "        \n",
    "    def build_model(self, n_images, input_image_shape, embedding_size, vocabulary_size, temperature):\n",
    "        image_inputs = [layers.Input(shape=input_image_shape, name=f\"R_image_in_{i}\", dtype=\"float32\") for i in range(n_images)]\n",
    "        image_embedding_layer = layers.Dense(embedding_size, name=\"R_image_embedding\")\n",
    "        temperature_layer = layers.Lambda(lambda x: x / temperature, name=\"R_temperature\")\n",
    "        softmax = layers.Softmax()\n",
    "        \n",
    "        symbol_input = layers.Input(shape=[1], dtype=\"int32\", name=f\"R_symbol_in\")\n",
    "        symbol_embedding = layers.Embedding(input_dim=vocabulary_size, \n",
    "                                            output_dim=embedding_size, \n",
    "                                            name=\"R_symbol_embedding\")\n",
    "        dot_product = layers.Dot(axes=-1, name=\"R_dot_product\")\n",
    "        \n",
    "        y_images = [image_embedding_layer(x) for x in image_inputs]\n",
    "        y_symbol = symbol_embedding(symbol_input)\n",
    "        y = [dot_product([img, y_symbol]) for img in y_images]\n",
    "        y = layers.concatenate(y, axis=-1)\n",
    "        y = temperature_layer(y)\n",
    "        y = softmax(y)\n",
    "        \n",
    "        self.model = Model([*image_inputs, symbol_input], y, name=\"R_predict\")\n",
    "        \n",
    "        index = layers.Input(shape=[1], dtype=\"int32\", name=\"R_index_in\")\n",
    "        y_selected = layers.Lambda(\n",
    "#             lambda probs_index: K.gather(probs_index[0][0], probs_index[1]),\n",
    "            lambda probs_index: tf.gather(*probs_index, axis=-1),\n",
    "            name=\"R_gather\")([y, index])\n",
    "        \n",
    "#         @tf.function\n",
    "        def loss(target, prediction):\n",
    "            return - K.log(prediction) * target\n",
    "        \n",
    "        self.model_train = Model([*image_inputs, symbol_input, index], y_selected, name=\"R_train\")\n",
    "        self.model_train.compile(loss=loss, optimizer=OPTIMIZER)\n",
    "\n",
    "        self.model.summary()\n",
    "        self.model_train.summary()\n",
    "        \n",
    "    def predict(self, state):\n",
    "#         print(getshape(state))\n",
    "        return self.model.predict_on_batch(x=state)\n",
    "\n",
    "    def update(self, state, action, target):\n",
    "        x = [*state, action]\n",
    "        # print(getshape(x), getshape(target))\n",
    "        return self.model_train.train_on_batch(x=x, y=target)\n",
    "\n",
    "    def remember(self, state, action, target):\n",
    "        x = [*state, action]\n",
    "#         print(getshape(x), getshape(target))\n",
    "        self.memory_x.append(x)\n",
    "        self.memory_y.append(target)\n",
    "\n",
    "    def reset_memory(self):\n",
    "        self.memory_x = []\n",
    "        self.memory_y = []\n",
    "\n",
    "    def update_on_batch(self, reset_after=True):\n",
    "        loss = []\n",
    "        for x, y in zip(self.memory_x, self.memory_y):\n",
    "            loss.append(self.model_train.train_on_batch(x=x, y=y))\n",
    "        if reset_after:\n",
    "            self.reset_memory()\n",
    "        return loss"
   ]
  },
  {
   "cell_type": "code",
   "execution_count": 39,
   "metadata": {
    "colab": {
     "base_uri": "https://localhost:8080/",
     "height": 1000
    },
    "colab_type": "code",
    "id": "GdxY5cFb3MFz",
    "outputId": "d8761c2c-0186-4d2b-9958-cc8bda51f569"
   },
   "outputs": [
    {
     "name": "stdout",
     "output_type": "stream",
     "text": [
      "Model: \"S_predict\"\n",
      "__________________________________________________________________________________________________\n",
      "Layer (type)                    Output Shape         Param #     Connected to                     \n",
      "==================================================================================================\n",
      "S_image_in_0 (InputLayer)       (None, 1000)         0                                            \n",
      "__________________________________________________________________________________________________\n",
      "S_image_in_1 (InputLayer)       (None, 1000)         0                                            \n",
      "__________________________________________________________________________________________________\n",
      "S_image_embedding (Dense)       (None, 50)           50050       S_image_in_0[0][0]               \n",
      "                                                                 S_image_in_1[0][0]               \n",
      "__________________________________________________________________________________________________\n",
      "S_sigmoid (Activation)          (None, 50)           0           S_image_embedding[0][0]          \n",
      "                                                                 S_image_embedding[1][0]          \n",
      "__________________________________________________________________________________________________\n",
      "concatenate_1 (Concatenate)     (None, 100)          0           S_sigmoid[0][0]                  \n",
      "                                                                 S_sigmoid[1][0]                  \n",
      "__________________________________________________________________________________________________\n",
      "S_output (Dense)                (None, 10)           1010        concatenate_1[0][0]              \n",
      "__________________________________________________________________________________________________\n",
      "S_temperature (Lambda)          (None, 10)           0           S_output[0][0]                   \n",
      "__________________________________________________________________________________________________\n",
      "softmax_1 (Softmax)             (None, 10)           0           S_temperature[0][0]              \n",
      "==================================================================================================\n",
      "Total params: 51,060\n",
      "Trainable params: 51,060\n",
      "Non-trainable params: 0\n",
      "__________________________________________________________________________________________________\n",
      "Model: \"S_train\"\n",
      "__________________________________________________________________________________________________\n",
      "Layer (type)                    Output Shape         Param #     Connected to                     \n",
      "==================================================================================================\n",
      "S_image_in_0 (InputLayer)       (None, 1000)         0                                            \n",
      "__________________________________________________________________________________________________\n",
      "S_image_in_1 (InputLayer)       (None, 1000)         0                                            \n",
      "__________________________________________________________________________________________________\n",
      "S_image_embedding (Dense)       (None, 50)           50050       S_image_in_0[0][0]               \n",
      "                                                                 S_image_in_1[0][0]               \n",
      "__________________________________________________________________________________________________\n",
      "S_sigmoid (Activation)          (None, 50)           0           S_image_embedding[0][0]          \n",
      "                                                                 S_image_embedding[1][0]          \n",
      "__________________________________________________________________________________________________\n",
      "concatenate_1 (Concatenate)     (None, 100)          0           S_sigmoid[0][0]                  \n",
      "                                                                 S_sigmoid[1][0]                  \n",
      "__________________________________________________________________________________________________\n",
      "S_output (Dense)                (None, 10)           1010        concatenate_1[0][0]              \n",
      "__________________________________________________________________________________________________\n",
      "S_temperature (Lambda)          (None, 10)           0           S_output[0][0]                   \n",
      "__________________________________________________________________________________________________\n",
      "softmax_1 (Softmax)             (None, 10)           0           S_temperature[0][0]              \n",
      "__________________________________________________________________________________________________\n",
      "S_index_in (InputLayer)         (None, 1)            0                                            \n",
      "__________________________________________________________________________________________________\n",
      "S_gather (Lambda)               (None, 1)            0           softmax_1[0][0]                  \n",
      "                                                                 S_index_in[0][0]                 \n",
      "==================================================================================================\n",
      "Total params: 51,060\n",
      "Trainable params: 51,060\n",
      "Non-trainable params: 0\n",
      "__________________________________________________________________________________________________\n",
      "Model: \"R_predict\"\n",
      "__________________________________________________________________________________________________\n",
      "Layer (type)                    Output Shape         Param #     Connected to                     \n",
      "==================================================================================================\n",
      "R_image_in_0 (InputLayer)       (None, 1000)         0                                            \n",
      "__________________________________________________________________________________________________\n",
      "R_symbol_in (InputLayer)        (None, 1)            0                                            \n",
      "__________________________________________________________________________________________________\n",
      "R_image_in_1 (InputLayer)       (None, 1000)         0                                            \n",
      "__________________________________________________________________________________________________\n",
      "R_image_embedding (Dense)       (None, 50)           50050       R_image_in_0[0][0]               \n",
      "                                                                 R_image_in_1[0][0]               \n",
      "__________________________________________________________________________________________________\n",
      "R_symbol_embedding (Embedding)  (None, 1, 50)        500         R_symbol_in[0][0]                \n",
      "__________________________________________________________________________________________________\n",
      "R_dot_product (Dot)             (None, 1)            0           R_image_embedding[0][0]          \n",
      "                                                                 R_symbol_embedding[0][0]         \n",
      "                                                                 R_image_embedding[1][0]          \n",
      "                                                                 R_symbol_embedding[0][0]         \n",
      "__________________________________________________________________________________________________\n",
      "concatenate_2 (Concatenate)     (None, 2)            0           R_dot_product[0][0]              \n",
      "                                                                 R_dot_product[1][0]              \n",
      "__________________________________________________________________________________________________\n",
      "R_temperature (Lambda)          (None, 2)            0           concatenate_2[0][0]              \n",
      "__________________________________________________________________________________________________\n",
      "softmax_2 (Softmax)             (None, 2)            0           R_temperature[0][0]              \n",
      "==================================================================================================\n",
      "Total params: 50,550\n",
      "Trainable params: 50,550\n",
      "Non-trainable params: 0\n",
      "__________________________________________________________________________________________________\n",
      "Model: \"R_train\"\n",
      "__________________________________________________________________________________________________\n",
      "Layer (type)                    Output Shape         Param #     Connected to                     \n",
      "==================================================================================================\n",
      "R_image_in_0 (InputLayer)       (None, 1000)         0                                            \n",
      "__________________________________________________________________________________________________\n",
      "R_symbol_in (InputLayer)        (None, 1)            0                                            \n",
      "__________________________________________________________________________________________________\n",
      "R_image_in_1 (InputLayer)       (None, 1000)         0                                            \n",
      "__________________________________________________________________________________________________\n",
      "R_image_embedding (Dense)       (None, 50)           50050       R_image_in_0[0][0]               \n",
      "                                                                 R_image_in_1[0][0]               \n",
      "__________________________________________________________________________________________________\n",
      "R_symbol_embedding (Embedding)  (None, 1, 50)        500         R_symbol_in[0][0]                \n",
      "__________________________________________________________________________________________________\n",
      "R_dot_product (Dot)             (None, 1)            0           R_image_embedding[0][0]          \n",
      "                                                                 R_symbol_embedding[0][0]         \n",
      "                                                                 R_image_embedding[1][0]          \n",
      "                                                                 R_symbol_embedding[0][0]         \n",
      "__________________________________________________________________________________________________\n",
      "concatenate_2 (Concatenate)     (None, 2)            0           R_dot_product[0][0]              \n",
      "                                                                 R_dot_product[1][0]              \n",
      "__________________________________________________________________________________________________\n",
      "R_temperature (Lambda)          (None, 2)            0           concatenate_2[0][0]              \n",
      "__________________________________________________________________________________________________\n",
      "softmax_2 (Softmax)             (None, 2)            0           R_temperature[0][0]              \n",
      "__________________________________________________________________________________________________\n",
      "R_index_in (InputLayer)         (None, 1)            0                                            \n",
      "__________________________________________________________________________________________________\n",
      "R_gather (Lambda)               (None, 1)            0           softmax_2[0][0]                  \n",
      "                                                                 R_index_in[0][0]                 \n",
      "==================================================================================================\n",
      "Total params: 50,550\n",
      "Trainable params: 50,550\n",
      "Non-trainable params: 0\n",
      "__________________________________________________________________________________________________\n"
     ]
    }
   ],
   "source": [
    "K.clear_session()\n",
    "\n",
    "sender = Sender(N_IMAGES, IMAGE_SHAPE, EMBEDDING_SIZE, VOCABULARY_SIZE, TEMPERATURE)\n",
    "receiver = Receiver(N_IMAGES, IMAGE_SHAPE, EMBEDDING_SIZE, VOCABULARY_SIZE, TEMPERATURE)"
   ]
  },
  {
   "cell_type": "code",
   "execution_count": 40,
   "metadata": {
    "colab": {
     "base_uri": "https://localhost:8080/",
     "height": 1000
    },
    "colab_type": "code",
    "id": "-fhHsazu3Nw_",
    "outputId": "3f99b545-aedf-4ad4-ab5f-e301f6302e5f"
   },
   "outputs": [
    {
     "name": "stdout",
     "output_type": "stream",
     "text": [
      "ep 10, success_rate: 0.25, sender_loss: 0.0, receiver_loss: 0.0\n",
      "ep 20, success_rate: 0.6, sender_loss: 0.0, receiver_loss: 0.0\n"
     ]
    },
    {
     "name": "stderr",
     "output_type": "stream",
     "text": [
      "D:\\ProgramData\\Anaconda3\\envs\\jupyter-mess\\lib\\site-packages\\tensorflow_core\\python\\framework\\indexed_slices.py:433: UserWarning: Converting sparse IndexedSlices to a dense Tensor of unknown shape. This may consume a large amount of memory.\n",
      "  \"Converting sparse IndexedSlices to a dense Tensor of unknown shape. \"\n"
     ]
    },
    {
     "name": "stdout",
     "output_type": "stream",
     "text": [
      "ep 30, success_rate: 0.6, sender_loss: 1.5822559237480163, receiver_loss: 0.40727244317531586\n",
      "ep 40, success_rate: 0.45, sender_loss: 1.5822559237480163, receiver_loss: 0.40727244317531586\n",
      "ep 50, success_rate: 0.55, sender_loss: 1.5822559237480163, receiver_loss: 0.40727244317531586\n"
     ]
    },
    {
     "ename": "FailedPreconditionError",
     "evalue": " Error while reading resource variable _AnonymousVar191 from Container: localhost. This could mean that the variable was uninitialized. Not found: Resource localhost/_AnonymousVar191/class tensorflow::Var does not exist.\n\t [[node mul_13/ReadVariableOp (defined at D:\\ProgramData\\Anaconda3\\envs\\jupyter-mess\\lib\\site-packages\\keras\\backend\\tensorflow_backend.py:3014) ]] [Op:__inference_keras_scratch_graph_15912]\n\nFunction call stack:\nkeras_scratch_graph\n",
     "output_type": "error",
     "traceback": [
      "\u001b[1;31m---------------------------------------------------------------------------\u001b[0m",
      "\u001b[1;31mFailedPreconditionError\u001b[0m                   Traceback (most recent call last)",
      "\u001b[1;32m<ipython-input-40-daea5c55b4b8>\u001b[0m in \u001b[0;36m<module>\u001b[1;34m\u001b[0m\n\u001b[0;32m     23\u001b[0m \u001b[1;33m\u001b[0m\u001b[0m\n\u001b[0;32m     24\u001b[0m     \u001b[1;32mif\u001b[0m \u001b[1;32mnot\u001b[0m \u001b[0mepisode\u001b[0m \u001b[1;33m%\u001b[0m \u001b[1;36m30\u001b[0m\u001b[1;33m:\u001b[0m\u001b[1;33m\u001b[0m\u001b[1;33m\u001b[0m\u001b[0m\n\u001b[1;32m---> 25\u001b[1;33m         \u001b[0msender_loss\u001b[0m \u001b[1;33m=\u001b[0m \u001b[0msender\u001b[0m\u001b[1;33m.\u001b[0m\u001b[0mupdate_on_batch\u001b[0m\u001b[1;33m(\u001b[0m\u001b[1;33m)\u001b[0m\u001b[1;33m\u001b[0m\u001b[1;33m\u001b[0m\u001b[0m\n\u001b[0m\u001b[0;32m     26\u001b[0m         \u001b[0mreceiver_loss\u001b[0m \u001b[1;33m=\u001b[0m \u001b[0mreceiver\u001b[0m\u001b[1;33m.\u001b[0m\u001b[0mupdate_on_batch\u001b[0m\u001b[1;33m(\u001b[0m\u001b[1;33m)\u001b[0m\u001b[1;33m\u001b[0m\u001b[1;33m\u001b[0m\u001b[0m\n\u001b[0;32m     27\u001b[0m         \u001b[0msender_log\u001b[0m\u001b[1;33m.\u001b[0m\u001b[0mextend\u001b[0m\u001b[1;33m(\u001b[0m\u001b[0msender_loss\u001b[0m\u001b[1;33m)\u001b[0m\u001b[1;33m\u001b[0m\u001b[1;33m\u001b[0m\u001b[0m\n",
      "\u001b[1;32m<ipython-input-37-19b8333eaaa8>\u001b[0m in \u001b[0;36mupdate_on_batch\u001b[1;34m(self, reset_after)\u001b[0m\n\u001b[0;32m     59\u001b[0m         \u001b[0mloss\u001b[0m \u001b[1;33m=\u001b[0m \u001b[1;33m[\u001b[0m\u001b[1;33m]\u001b[0m\u001b[1;33m\u001b[0m\u001b[1;33m\u001b[0m\u001b[0m\n\u001b[0;32m     60\u001b[0m         \u001b[1;32mfor\u001b[0m \u001b[0mx\u001b[0m\u001b[1;33m,\u001b[0m \u001b[0my\u001b[0m \u001b[1;32min\u001b[0m \u001b[0mzip\u001b[0m\u001b[1;33m(\u001b[0m\u001b[0mself\u001b[0m\u001b[1;33m.\u001b[0m\u001b[0mmemory_x\u001b[0m\u001b[1;33m,\u001b[0m \u001b[0mself\u001b[0m\u001b[1;33m.\u001b[0m\u001b[0mmemory_y\u001b[0m\u001b[1;33m)\u001b[0m\u001b[1;33m:\u001b[0m\u001b[1;33m\u001b[0m\u001b[1;33m\u001b[0m\u001b[0m\n\u001b[1;32m---> 61\u001b[1;33m             \u001b[0mloss\u001b[0m\u001b[1;33m.\u001b[0m\u001b[0mappend\u001b[0m\u001b[1;33m(\u001b[0m\u001b[0mself\u001b[0m\u001b[1;33m.\u001b[0m\u001b[0mmodel_train\u001b[0m\u001b[1;33m.\u001b[0m\u001b[0mtrain_on_batch\u001b[0m\u001b[1;33m(\u001b[0m\u001b[0mx\u001b[0m\u001b[1;33m=\u001b[0m\u001b[0mx\u001b[0m\u001b[1;33m,\u001b[0m \u001b[0my\u001b[0m\u001b[1;33m=\u001b[0m\u001b[0my\u001b[0m\u001b[1;33m)\u001b[0m\u001b[1;33m)\u001b[0m\u001b[1;33m\u001b[0m\u001b[1;33m\u001b[0m\u001b[0m\n\u001b[0m\u001b[0;32m     62\u001b[0m         \u001b[1;32mif\u001b[0m \u001b[0mreset_after\u001b[0m\u001b[1;33m:\u001b[0m\u001b[1;33m\u001b[0m\u001b[1;33m\u001b[0m\u001b[0m\n\u001b[0;32m     63\u001b[0m             \u001b[0mself\u001b[0m\u001b[1;33m.\u001b[0m\u001b[0mreset_memory\u001b[0m\u001b[1;33m(\u001b[0m\u001b[1;33m)\u001b[0m\u001b[1;33m\u001b[0m\u001b[1;33m\u001b[0m\u001b[0m\n",
      "\u001b[1;32mD:\\ProgramData\\Anaconda3\\envs\\jupyter-mess\\lib\\site-packages\\keras\\engine\\training.py\u001b[0m in \u001b[0;36mtrain_on_batch\u001b[1;34m(self, x, y, sample_weight, class_weight, reset_metrics)\u001b[0m\n\u001b[0;32m   1512\u001b[0m             \u001b[0mins\u001b[0m \u001b[1;33m=\u001b[0m \u001b[0mx\u001b[0m \u001b[1;33m+\u001b[0m \u001b[0my\u001b[0m \u001b[1;33m+\u001b[0m \u001b[0msample_weights\u001b[0m\u001b[1;33m\u001b[0m\u001b[1;33m\u001b[0m\u001b[0m\n\u001b[0;32m   1513\u001b[0m         \u001b[0mself\u001b[0m\u001b[1;33m.\u001b[0m\u001b[0m_make_train_function\u001b[0m\u001b[1;33m(\u001b[0m\u001b[1;33m)\u001b[0m\u001b[1;33m\u001b[0m\u001b[1;33m\u001b[0m\u001b[0m\n\u001b[1;32m-> 1514\u001b[1;33m         \u001b[0moutputs\u001b[0m \u001b[1;33m=\u001b[0m \u001b[0mself\u001b[0m\u001b[1;33m.\u001b[0m\u001b[0mtrain_function\u001b[0m\u001b[1;33m(\u001b[0m\u001b[0mins\u001b[0m\u001b[1;33m)\u001b[0m\u001b[1;33m\u001b[0m\u001b[1;33m\u001b[0m\u001b[0m\n\u001b[0m\u001b[0;32m   1515\u001b[0m \u001b[1;33m\u001b[0m\u001b[0m\n\u001b[0;32m   1516\u001b[0m         \u001b[1;32mif\u001b[0m \u001b[0mreset_metrics\u001b[0m\u001b[1;33m:\u001b[0m\u001b[1;33m\u001b[0m\u001b[1;33m\u001b[0m\u001b[0m\n",
      "\u001b[1;32mD:\\ProgramData\\Anaconda3\\envs\\jupyter-mess\\lib\\site-packages\\tensorflow_core\\python\\keras\\backend.py\u001b[0m in \u001b[0;36m__call__\u001b[1;34m(self, inputs)\u001b[0m\n\u001b[0;32m   3725\u001b[0m         \u001b[0mvalue\u001b[0m \u001b[1;33m=\u001b[0m \u001b[0mmath_ops\u001b[0m\u001b[1;33m.\u001b[0m\u001b[0mcast\u001b[0m\u001b[1;33m(\u001b[0m\u001b[0mvalue\u001b[0m\u001b[1;33m,\u001b[0m \u001b[0mtensor\u001b[0m\u001b[1;33m.\u001b[0m\u001b[0mdtype\u001b[0m\u001b[1;33m)\u001b[0m\u001b[1;33m\u001b[0m\u001b[1;33m\u001b[0m\u001b[0m\n\u001b[0;32m   3726\u001b[0m       \u001b[0mconverted_inputs\u001b[0m\u001b[1;33m.\u001b[0m\u001b[0mappend\u001b[0m\u001b[1;33m(\u001b[0m\u001b[0mvalue\u001b[0m\u001b[1;33m)\u001b[0m\u001b[1;33m\u001b[0m\u001b[1;33m\u001b[0m\u001b[0m\n\u001b[1;32m-> 3727\u001b[1;33m     \u001b[0moutputs\u001b[0m \u001b[1;33m=\u001b[0m \u001b[0mself\u001b[0m\u001b[1;33m.\u001b[0m\u001b[0m_graph_fn\u001b[0m\u001b[1;33m(\u001b[0m\u001b[1;33m*\u001b[0m\u001b[0mconverted_inputs\u001b[0m\u001b[1;33m)\u001b[0m\u001b[1;33m\u001b[0m\u001b[1;33m\u001b[0m\u001b[0m\n\u001b[0m\u001b[0;32m   3728\u001b[0m \u001b[1;33m\u001b[0m\u001b[0m\n\u001b[0;32m   3729\u001b[0m     \u001b[1;31m# EagerTensor.numpy() will often make a copy to ensure memory safety.\u001b[0m\u001b[1;33m\u001b[0m\u001b[1;33m\u001b[0m\u001b[1;33m\u001b[0m\u001b[0m\n",
      "\u001b[1;32mD:\\ProgramData\\Anaconda3\\envs\\jupyter-mess\\lib\\site-packages\\tensorflow_core\\python\\eager\\function.py\u001b[0m in \u001b[0;36m__call__\u001b[1;34m(self, *args, **kwargs)\u001b[0m\n\u001b[0;32m   1549\u001b[0m       \u001b[0mTypeError\u001b[0m\u001b[1;33m:\u001b[0m \u001b[0mFor\u001b[0m \u001b[0minvalid\u001b[0m \u001b[0mpositional\u001b[0m\u001b[1;33m/\u001b[0m\u001b[0mkeyword\u001b[0m \u001b[0margument\u001b[0m \u001b[0mcombinations\u001b[0m\u001b[1;33m.\u001b[0m\u001b[1;33m\u001b[0m\u001b[1;33m\u001b[0m\u001b[0m\n\u001b[0;32m   1550\u001b[0m     \"\"\"\n\u001b[1;32m-> 1551\u001b[1;33m     \u001b[1;32mreturn\u001b[0m \u001b[0mself\u001b[0m\u001b[1;33m.\u001b[0m\u001b[0m_call_impl\u001b[0m\u001b[1;33m(\u001b[0m\u001b[0margs\u001b[0m\u001b[1;33m,\u001b[0m \u001b[0mkwargs\u001b[0m\u001b[1;33m)\u001b[0m\u001b[1;33m\u001b[0m\u001b[1;33m\u001b[0m\u001b[0m\n\u001b[0m\u001b[0;32m   1552\u001b[0m \u001b[1;33m\u001b[0m\u001b[0m\n\u001b[0;32m   1553\u001b[0m   \u001b[1;32mdef\u001b[0m \u001b[0m_call_impl\u001b[0m\u001b[1;33m(\u001b[0m\u001b[0mself\u001b[0m\u001b[1;33m,\u001b[0m \u001b[0margs\u001b[0m\u001b[1;33m,\u001b[0m \u001b[0mkwargs\u001b[0m\u001b[1;33m,\u001b[0m \u001b[0mcancellation_manager\u001b[0m\u001b[1;33m=\u001b[0m\u001b[1;32mNone\u001b[0m\u001b[1;33m)\u001b[0m\u001b[1;33m:\u001b[0m\u001b[1;33m\u001b[0m\u001b[1;33m\u001b[0m\u001b[0m\n",
      "\u001b[1;32mD:\\ProgramData\\Anaconda3\\envs\\jupyter-mess\\lib\\site-packages\\tensorflow_core\\python\\eager\\function.py\u001b[0m in \u001b[0;36m_call_impl\u001b[1;34m(self, args, kwargs, cancellation_manager)\u001b[0m\n\u001b[0;32m   1589\u001b[0m       raise TypeError(\"Keyword arguments {} unknown. Expected {}.\".format(\n\u001b[0;32m   1590\u001b[0m           list(kwargs.keys()), list(self._arg_keywords)))\n\u001b[1;32m-> 1591\u001b[1;33m     \u001b[1;32mreturn\u001b[0m \u001b[0mself\u001b[0m\u001b[1;33m.\u001b[0m\u001b[0m_call_flat\u001b[0m\u001b[1;33m(\u001b[0m\u001b[0margs\u001b[0m\u001b[1;33m,\u001b[0m \u001b[0mself\u001b[0m\u001b[1;33m.\u001b[0m\u001b[0mcaptured_inputs\u001b[0m\u001b[1;33m,\u001b[0m \u001b[0mcancellation_manager\u001b[0m\u001b[1;33m)\u001b[0m\u001b[1;33m\u001b[0m\u001b[1;33m\u001b[0m\u001b[0m\n\u001b[0m\u001b[0;32m   1592\u001b[0m \u001b[1;33m\u001b[0m\u001b[0m\n\u001b[0;32m   1593\u001b[0m   \u001b[1;32mdef\u001b[0m \u001b[0m_filtered_call\u001b[0m\u001b[1;33m(\u001b[0m\u001b[0mself\u001b[0m\u001b[1;33m,\u001b[0m \u001b[0margs\u001b[0m\u001b[1;33m,\u001b[0m \u001b[0mkwargs\u001b[0m\u001b[1;33m)\u001b[0m\u001b[1;33m:\u001b[0m\u001b[1;33m\u001b[0m\u001b[1;33m\u001b[0m\u001b[0m\n",
      "\u001b[1;32mD:\\ProgramData\\Anaconda3\\envs\\jupyter-mess\\lib\\site-packages\\tensorflow_core\\python\\eager\\function.py\u001b[0m in \u001b[0;36m_call_flat\u001b[1;34m(self, args, captured_inputs, cancellation_manager)\u001b[0m\n\u001b[0;32m   1690\u001b[0m       \u001b[1;31m# No tape is watching; skip to running the function.\u001b[0m\u001b[1;33m\u001b[0m\u001b[1;33m\u001b[0m\u001b[1;33m\u001b[0m\u001b[0m\n\u001b[0;32m   1691\u001b[0m       return self._build_call_outputs(self._inference_function.call(\n\u001b[1;32m-> 1692\u001b[1;33m           ctx, args, cancellation_manager=cancellation_manager))\n\u001b[0m\u001b[0;32m   1693\u001b[0m     forward_backward = self._select_forward_and_backward_functions(\n\u001b[0;32m   1694\u001b[0m         \u001b[0margs\u001b[0m\u001b[1;33m,\u001b[0m\u001b[1;33m\u001b[0m\u001b[1;33m\u001b[0m\u001b[0m\n",
      "\u001b[1;32mD:\\ProgramData\\Anaconda3\\envs\\jupyter-mess\\lib\\site-packages\\tensorflow_core\\python\\eager\\function.py\u001b[0m in \u001b[0;36mcall\u001b[1;34m(self, ctx, args, cancellation_manager)\u001b[0m\n\u001b[0;32m    543\u001b[0m               \u001b[0minputs\u001b[0m\u001b[1;33m=\u001b[0m\u001b[0margs\u001b[0m\u001b[1;33m,\u001b[0m\u001b[1;33m\u001b[0m\u001b[1;33m\u001b[0m\u001b[0m\n\u001b[0;32m    544\u001b[0m               \u001b[0mattrs\u001b[0m\u001b[1;33m=\u001b[0m\u001b[1;33m(\u001b[0m\u001b[1;34m\"executor_type\"\u001b[0m\u001b[1;33m,\u001b[0m \u001b[0mexecutor_type\u001b[0m\u001b[1;33m,\u001b[0m \u001b[1;34m\"config_proto\"\u001b[0m\u001b[1;33m,\u001b[0m \u001b[0mconfig\u001b[0m\u001b[1;33m)\u001b[0m\u001b[1;33m,\u001b[0m\u001b[1;33m\u001b[0m\u001b[1;33m\u001b[0m\u001b[0m\n\u001b[1;32m--> 545\u001b[1;33m               ctx=ctx)\n\u001b[0m\u001b[0;32m    546\u001b[0m         \u001b[1;32melse\u001b[0m\u001b[1;33m:\u001b[0m\u001b[1;33m\u001b[0m\u001b[1;33m\u001b[0m\u001b[0m\n\u001b[0;32m    547\u001b[0m           outputs = execute.execute_with_cancellation(\n",
      "\u001b[1;32mD:\\ProgramData\\Anaconda3\\envs\\jupyter-mess\\lib\\site-packages\\tensorflow_core\\python\\eager\\execute.py\u001b[0m in \u001b[0;36mquick_execute\u001b[1;34m(op_name, num_outputs, inputs, attrs, ctx, name)\u001b[0m\n\u001b[0;32m     65\u001b[0m     \u001b[1;32melse\u001b[0m\u001b[1;33m:\u001b[0m\u001b[1;33m\u001b[0m\u001b[1;33m\u001b[0m\u001b[0m\n\u001b[0;32m     66\u001b[0m       \u001b[0mmessage\u001b[0m \u001b[1;33m=\u001b[0m \u001b[0me\u001b[0m\u001b[1;33m.\u001b[0m\u001b[0mmessage\u001b[0m\u001b[1;33m\u001b[0m\u001b[1;33m\u001b[0m\u001b[0m\n\u001b[1;32m---> 67\u001b[1;33m     \u001b[0msix\u001b[0m\u001b[1;33m.\u001b[0m\u001b[0mraise_from\u001b[0m\u001b[1;33m(\u001b[0m\u001b[0mcore\u001b[0m\u001b[1;33m.\u001b[0m\u001b[0m_status_to_exception\u001b[0m\u001b[1;33m(\u001b[0m\u001b[0me\u001b[0m\u001b[1;33m.\u001b[0m\u001b[0mcode\u001b[0m\u001b[1;33m,\u001b[0m \u001b[0mmessage\u001b[0m\u001b[1;33m)\u001b[0m\u001b[1;33m,\u001b[0m \u001b[1;32mNone\u001b[0m\u001b[1;33m)\u001b[0m\u001b[1;33m\u001b[0m\u001b[1;33m\u001b[0m\u001b[0m\n\u001b[0m\u001b[0;32m     68\u001b[0m   \u001b[1;32mexcept\u001b[0m \u001b[0mTypeError\u001b[0m \u001b[1;32mas\u001b[0m \u001b[0me\u001b[0m\u001b[1;33m:\u001b[0m\u001b[1;33m\u001b[0m\u001b[1;33m\u001b[0m\u001b[0m\n\u001b[0;32m     69\u001b[0m     keras_symbolic_tensors = [\n",
      "\u001b[1;32mD:\\ProgramData\\Anaconda3\\envs\\jupyter-mess\\lib\\site-packages\\six.py\u001b[0m in \u001b[0;36mraise_from\u001b[1;34m(value, from_value)\u001b[0m\n",
      "\u001b[1;31mFailedPreconditionError\u001b[0m:  Error while reading resource variable _AnonymousVar191 from Container: localhost. This could mean that the variable was uninitialized. Not found: Resource localhost/_AnonymousVar191/class tensorflow::Var does not exist.\n\t [[node mul_13/ReadVariableOp (defined at D:\\ProgramData\\Anaconda3\\envs\\jupyter-mess\\lib\\site-packages\\keras\\backend\\tensorflow_backend.py:3014) ]] [Op:__inference_keras_scratch_graph_15912]\n\nFunction call stack:\nkeras_scratch_graph\n"
     ]
    }
   ],
   "source": [
    "success_log = []\n",
    "sender_log = []\n",
    "receiver_log = []\n",
    "\n",
    "for episode in range(1, N_EPISODES + 1):\n",
    "    game.reset()\n",
    "    sender_state = game.get_sender_state(n_images=N_IMAGES, unique_categories=True, expand=True)\n",
    "    sender_probs = sender.predict(state=sender_state)\n",
    "    sender_probs = np.squeeze(sender_probs)\n",
    "    sender_action = np.random.choice(np.arange(len(sender_probs)), p=sender_probs)\n",
    "    # sender_action = 0\n",
    "    \n",
    "    receiver_state = game.get_receiver_state(sender_action, expand=True)\n",
    "    receiver_probs = receiver.predict(receiver_state)\n",
    "    receiver_probs = np.squeeze(receiver_probs)\n",
    "    receiver_action = np.random.choice(np.arange(len(receiver_probs)), p=receiver_probs)\n",
    "    \n",
    "#     receiver_action = 0\n",
    "    sender_reward, receiver_reward, success = game.evaluate_guess(receiver_action)\n",
    "\n",
    "    sender.remember(sender_state, np.asarray([sender_action]), np.asarray([sender_reward]))\n",
    "    receiver.remember(receiver_state, np.asarray([receiver_action]), np.asarray([receiver_reward]))\n",
    "\n",
    "    if not episode % 30:\n",
    "        sender_loss = sender.update_on_batch()\n",
    "        receiver_loss = receiver.update_on_batch()\n",
    "        sender_log.extend(sender_loss)\n",
    "        receiver_log.extend(receiver_loss)\n",
    "    \n",
    "    success_log.append(success)\n",
    "    # sender_log.append(sender_loss)\n",
    "    # receiver_log.append(receiver_loss)\n",
    "    \n",
    "    if not episode % 10:\n",
    "        print(f\"ep {episode}, \\\n",
    "        success_rate: {sum(success_log[-ANALYSIS_WINDOW:])/ANALYSIS_WINDOW}, \\\n",
    "        sender_loss: {sum(sender_log[-ANALYSIS_WINDOW:])/ANALYSIS_WINDOW}, \\\n",
    "        receiver_loss: {sum(receiver_log[-ANALYSIS_WINDOW:])/ANALYSIS_WINDOW}\".\n",
    "        replace(\"    \", \"\"))\n",
    "\n",
    "    \n"
   ]
  },
  {
   "cell_type": "code",
   "execution_count": null,
   "metadata": {
    "colab": {
     "base_uri": "https://localhost:8080/",
     "height": 281
    },
    "colab_type": "code",
    "id": "_e7CY8qVNO-b",
    "outputId": "cbbcb04a-2b43-4d17-9d58-9dc7030d60d9"
   },
   "outputs": [],
   "source": [
    "plt.plot(np.convolve(success_log, np.ones((40,))/40, mode='valid'), label=\"Average success rate\");\n",
    "plt.legend()\n",
    "plt.title(\"Success rate\");"
   ]
  },
  {
   "cell_type": "code",
   "execution_count": null,
   "metadata": {
    "colab": {
     "base_uri": "https://localhost:8080/",
     "height": 281
    },
    "colab_type": "code",
    "id": "w8-kAWLQ3QUE",
    "outputId": "29227d41-3f61-4320-e13d-550c20060b0e"
   },
   "outputs": [],
   "source": [
    "plt.plot(sender_log, linestyle=\"None\", marker=\".\", label=\"Loss\")\n",
    "plt.plot(np.convolve(sender_log, np.ones((40,))/40, mode='valid'), label=\"Average loss\")\n",
    "plt.legend()\n",
    "plt.title(\"Sender loss\");"
   ]
  },
  {
   "cell_type": "code",
   "execution_count": null,
   "metadata": {
    "colab": {
     "base_uri": "https://localhost:8080/",
     "height": 281
    },
    "colab_type": "code",
    "id": "OguZHTGCAQOR",
    "outputId": "30ebdef8-7a24-4fbc-f62f-ca2ea36f54ba"
   },
   "outputs": [],
   "source": [
    "plt.plot(receiver_log, linestyle=\"None\", marker=\".\", label=\"Loss\")\n",
    "plt.plot(np.convolve(receiver_log, np.ones((40,))/40, mode='valid'), label=\"Average loss\")\n",
    "plt.legend()\n",
    "plt.title(\"Receiver loss\");"
   ]
  },
  {
   "cell_type": "code",
   "execution_count": null,
   "metadata": {
    "colab": {},
    "colab_type": "code",
    "id": "UtuJLlzwSeb6"
   },
   "outputs": [],
   "source": [
    "import keras\n",
    "keras.__version__"
   ]
  }
 ],
 "metadata": {
  "colab": {
   "name": "Guessing game REINFORCE.ipynb",
   "provenance": []
  },
  "kernelspec": {
   "display_name": "Python 3",
   "language": "python",
   "name": "python3"
  },
  "language_info": {
   "codemirror_mode": {
    "name": "ipython",
    "version": 3
   },
   "file_extension": ".py",
   "mimetype": "text/x-python",
   "name": "python",
   "nbconvert_exporter": "python",
   "pygments_lexer": "ipython3",
   "version": "3.7.6"
  }
 },
 "nbformat": 4,
 "nbformat_minor": 1
}
