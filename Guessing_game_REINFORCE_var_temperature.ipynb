{
 "cells": [
  {
   "cell_type": "markdown",
   "metadata": {
    "colab_type": "text",
    "id": "view-in-github"
   },
   "source": [
    "<a href=\"https://colab.research.google.com/github/byewokko/guessing-game/blob/master/Guessing_game_REINFORCE_2.4.3.ipynb\" target=\"_parent\"><img src=\"https://colab.research.google.com/assets/colab-badge.svg\" alt=\"Open In Colab\"/></a>"
   ]
  },
  {
   "cell_type": "code",
   "execution_count": 1,
   "metadata": {
    "colab": {
     "base_uri": "https://localhost:8080/",
     "height": 707
    },
    "id": "P1tD3xofSH_q",
    "outputId": "ac6043de-276f-46c7-8c35-95c130e23cc1",
    "scrolled": true
   },
   "outputs": [],
   "source": [
    "# Run once to get functions and datasets from my guessing-game repo\n",
    "# !wget https://raw.githubusercontent.com/byewokko/guessing-game/master/game/game.py\n",
    "# !wget https://raw.githubusercontent.com/byewokko/guessing-game/master/utils/dataprep.py\n",
    "# !wget https://github.com/byewokko/guessing-game/raw/master/data/imagenet-200x65-vgg19.train.emb.gz"
   ]
  },
  {
   "cell_type": "code",
   "execution_count": 2,
   "metadata": {},
   "outputs": [],
   "source": [
    "import keras\n",
    "if list(map(int, keras.__version__.split(\".\"))) < [2,4,3]:\n",
    "    raise RuntimeError(\n",
    "        f\"This notebook requires at least keras version '2.4.3'. Currently installed version: '{keras.__version__}'\"\n",
    "    )"
   ]
  },
  {
   "cell_type": "code",
   "execution_count": 3,
   "metadata": {
    "id": "OM-V5FZu25QH"
   },
   "outputs": [],
   "source": [
    "import keras.layers as layers\n",
    "import tensorflow.keras.backend as K\n",
    "import matplotlib.pyplot as plt\n",
    "import numpy as np\n",
    "import tensorflow as tf\n",
    "\n",
    "# import plotly.graph_objects as go\n",
    "\n",
    "from keras.models import Model, Sequential\n",
    "import keras.optimizers as optim\n",
    "\n",
    "from game.game import Game\n",
    "from utils.dataprep import load_emb_gz, make_categories"
   ]
  },
  {
   "cell_type": "code",
   "execution_count": 4,
   "metadata": {
    "colab": {
     "base_uri": "https://localhost:8080/",
     "height": 53
    },
    "id": "Pq8OBI6O3CxL",
    "outputId": "a68f3b4a-9fa5-4566-8ec7-936fc78c042a"
   },
   "outputs": [
    {
     "name": "stdout",
     "output_type": "stream",
     "text": [
      "DONE. 13190 items loaded from data/imagenet-200x65-vgg19.train.emb.gz.\n",
      "200 categories found.\n"
     ]
    }
   ],
   "source": [
    "DATASET = \"data/imagenet-200x65-vgg19.train.emb.gz\"\n",
    "\n",
    "path2ind, path_list, embeddings = load_emb_gz(DATASET)\n",
    "categories = make_categories(path_list, sep=\"\\\\\")\n",
    "\n",
    "IMAGE_SHAPE = [len(embeddings[0])]"
   ]
  },
  {
   "cell_type": "code",
   "execution_count": 273,
   "metadata": {
    "id": "d8nJU98o3ApO"
   },
   "outputs": [],
   "source": [
    "N_IMAGES = 2\n",
    "EMBEDDING_SIZE = 50\n",
    "VOCABULARY_SIZE = 100\n",
    "\n",
    "TEMPERATURE = 10\n",
    "N_EPISODES = 5000\n",
    "ANALYSIS_WINDOW = 50\n",
    "BATCH_SIZE = 30\n",
    "\n",
    "LEARNING_RATE = 0.001\n",
    "OPTIMIZER = optim.Adam\n",
    "# OPTIMIZER = optim.SGD\n",
    "\n",
    "ADAPTIVE_TEMPERATURE = 0\n",
    "\n",
    "SENDER_KWARGS = {\n",
    "    \"n_images\": N_IMAGES, \n",
    "    \"input_image_shape\": IMAGE_SHAPE, \n",
    "    \"embedding_size\": EMBEDDING_SIZE, \n",
    "    \"vocabulary_size\": VOCABULARY_SIZE, \n",
    "    \"temperature\": TEMPERATURE, \n",
    "    \"optimizer\": OPTIMIZER(LEARNING_RATE),\n",
    "#     \"sender_type\": \"agnostic\",\n",
    "    \"sender_type\": \"informed\",\n",
    "#     \"n_informed_filters\": 20,\n",
    "#     \"verbose\": True\n",
    "}\n",
    "\n",
    "RECEIVER_KWARGS = {\n",
    "    \"n_images\": N_IMAGES, \n",
    "    \"input_image_shape\": IMAGE_SHAPE, \n",
    "    \"embedding_size\": EMBEDDING_SIZE, \n",
    "    \"vocabulary_size\": VOCABULARY_SIZE, \n",
    "    \"temperature\": TEMPERATURE, \n",
    "    \"optimizer\": OPTIMIZER(LEARNING_RATE),\n",
    "}"
   ]
  },
  {
   "cell_type": "code",
   "execution_count": 274,
   "metadata": {
    "id": "BtXPTHx23Eit"
   },
   "outputs": [],
   "source": [
    "game = Game(images=embeddings, images_filenames=path_list, categories=categories)"
   ]
  },
  {
   "cell_type": "code",
   "execution_count": 275,
   "metadata": {
    "id": "VyFfWtkf3Gt1"
   },
   "outputs": [],
   "source": [
    "def getshape(array):\n",
    "    if isinstance(array, list):\n",
    "        return [getshape(x) for x in array]\n",
    "    else:\n",
    "        try:\n",
    "            return array.shape\n",
    "        except:\n",
    "            return None"
   ]
  },
  {
   "cell_type": "code",
   "execution_count": 276,
   "metadata": {
    "id": "GyY6HeKd3IGs"
   },
   "outputs": [],
   "source": [
    "class Sender:\n",
    "    def __init__(self, temperature=1, **kwargs):\n",
    "        self.temperature = temperature\n",
    "        self.build_model(**kwargs)\n",
    "        self.reset_memory()\n",
    "        \n",
    "    def build_model(self, n_images, input_image_shape, embedding_size, \n",
    "                    vocabulary_size, optimizer, \n",
    "                    sender_type=\"agnostic\", \n",
    "                    verbose=False):\n",
    "        image_inputs = [layers.Input(shape=input_image_shape, \n",
    "                                     name=f\"S_image_in_{i}\", \n",
    "                                     dtype=\"float32\") for i in range(n_images)]\n",
    "        image_embedding_layer = layers.Dense(embedding_size, \n",
    "                                             name=\"S_image_embedding\")\n",
    "        # agnostic part\n",
    "        sigmoid = layers.Activation(\"sigmoid\", name=\"S_sigmoid\")\n",
    "        output_layer = layers.Dense(vocabulary_size, name=\"S_output\")\n",
    "        \n",
    "        # informed part\n",
    "        stack = layers.Lambda(lambda x: K.stack(x, axis=1), name=\"S_stack\")\n",
    "        feature_filters = layers.Conv1D(filters=vocabulary_size,\n",
    "                                        kernel_size=(1,),\n",
    "                                        input_shape=[n_images, embedding_size],\n",
    "                                        activation=\"sigmoid\",\n",
    "                                        data_format=\"channels_first\",\n",
    "                                        name=\"S_feature_filters\")\n",
    "        vocabulary_filter = layers.Conv1D(1, \n",
    "                                          kernel_size=(1,),\n",
    "                                          data_format=\"channels_last\",\n",
    "                                          name=\"S_vocabulary_filter\")\n",
    "        flatten = layers.Flatten()\n",
    "        \n",
    "        temperature_input = layers.Input(shape=[], dtype=\"float32\", name=\"R_temperature_input\")\n",
    "        \n",
    "        softmax = layers.Softmax()\n",
    "        \n",
    "        y = [image_embedding_layer(x) for x in image_inputs]\n",
    "        if sender_type == \"agnostic\":\n",
    "            y = [sigmoid(x) for x in y]\n",
    "            y = layers.concatenate(y, axis=-1)\n",
    "            y = output_layer(y)\n",
    "        elif sender_type == \"informed\":\n",
    "            y = stack(y)\n",
    "            y = feature_filters(y)\n",
    "            y = vocabulary_filter(y)\n",
    "            y = flatten(y)\n",
    "        \n",
    "        y = y / temperature_input\n",
    "        y = softmax(y)\n",
    "        \n",
    "        self.model = Model([*image_inputs, temperature_input], y, name=\"S_predict\")\n",
    "        \n",
    "        index = layers.Input(shape=[1], dtype=\"int32\", name=\"S_index_in\")\n",
    "        y_selected = layers.Lambda(\n",
    "            lambda probs_index: K.gather(probs_index[0][0], probs_index[1]),\n",
    "            name=\"S_gather\")([y, index])\n",
    "        \n",
    "        # @tf.function\n",
    "        def loss(target, prediction):\n",
    "            return - K.log(prediction) * target\n",
    "        \n",
    "        self.model_train = Model([*image_inputs, index, temperature_input], \n",
    "                                 y_selected, name=\"S_train\")\n",
    "        self.model_train.compile(loss=loss, optimizer=optimizer)\n",
    "\n",
    "        if verbose:\n",
    "            self.model.summary()\n",
    "            self.model_train.summary()\n",
    "        \n",
    "    def predict(self, state):\n",
    "        x=[*state, np.array([self.temperature])]\n",
    "#         print(getshape(state))\n",
    "        return self.model.predict_on_batch(x)\n",
    "\n",
    "    def update(self, state, action, target):\n",
    "        x = [*state, action, np.array(self.temperature)]\n",
    "        print(getshape(x), getshape(target))\n",
    "        return self.model_train.train_on_batch(x=x, y=target)\n",
    "\n",
    "    def remember(self, state, action, target):\n",
    "        x = [*state, action]\n",
    "        self.memory_x.append(x)\n",
    "        self.memory_y.append(target)\n",
    "\n",
    "    def reset_memory(self):\n",
    "        self.memory_x = []\n",
    "        self.memory_y = []\n",
    "\n",
    "    def update_on_batch(self, reset_after=True):\n",
    "        loss = []\n",
    "        for x, y in zip(self.memory_x, self.memory_y):\n",
    "            x = [*x, np.array([self.temperature])]\n",
    "            loss.append(self.model_train.train_on_batch(x=x, y=y))\n",
    "        if reset_after:\n",
    "            self.reset_memory()\n",
    "        return loss\n",
    "    \n",
    "    def adjust_temperature(self, loss):\n",
    "        if loss < 0.001:\n",
    "            self.temperature *= 1.1\n",
    "        elif loss > 2:\n",
    "            self.temperature /= 1.1\n",
    "#         print(f\"new sender temp: {self.temperature}\")"
   ]
  },
  {
   "cell_type": "code",
   "execution_count": 277,
   "metadata": {
    "id": "R6gS_uAG3KUE"
   },
   "outputs": [],
   "source": [
    "class Receiver:\n",
    "    def __init__(self, temperature=1, **kwargs):\n",
    "        self.temperature = temperature\n",
    "        self.build_model(**kwargs)\n",
    "        self.reset_memory()\n",
    "        \n",
    "    def build_model(self, n_images, input_image_shape, embedding_size, \n",
    "                    vocabulary_size, optimizer, verbose=False):\n",
    "        image_inputs = [layers.Input(shape=input_image_shape, name=f\"R_image_in_{i}\", dtype=\"float32\") for i in range(n_images)]\n",
    "        image_embedding_layer = layers.Dense(embedding_size, name=\"R_image_embedding\")\n",
    "        \n",
    "        temperature_input = layers.Input(shape=[], dtype=\"float32\", name=\"R_temperature_input\")\n",
    "        softmax = layers.Softmax()\n",
    "        \n",
    "        symbol_input = layers.Input(shape=[1], dtype=\"int32\", name=f\"R_symbol_in\")\n",
    "        symbol_embedding = layers.Embedding(input_dim=vocabulary_size, \n",
    "                                            output_dim=embedding_size, \n",
    "                                            name=\"R_symbol_embedding\")\n",
    "        dot_product = layers.Dot(axes=-1, name=\"R_dot_product\")\n",
    "        \n",
    "        y_images = [image_embedding_layer(x) for x in image_inputs]\n",
    "        y_symbol = symbol_embedding(symbol_input)\n",
    "        y = [dot_product([img, y_symbol]) for img in y_images]\n",
    "        y = layers.concatenate(y, axis=-1)\n",
    "        y = y / temperature_input\n",
    "        y = softmax(y)\n",
    "        \n",
    "        self.model = Model([*image_inputs, symbol_input, temperature_input], y, name=\"R_predict\")\n",
    "        \n",
    "        index = layers.Input(shape=[1], dtype=\"int32\", name=\"R_index_in\")\n",
    "        y_selected = layers.Lambda(\n",
    "            lambda probs_index: tf.gather(*probs_index, axis=-1),\n",
    "            name=\"R_gather\")([y, index])\n",
    "        \n",
    "        # @tf.function\n",
    "        def loss(target, prediction):\n",
    "            return - K.log(prediction) * target\n",
    "        \n",
    "        self.model_train = Model([*image_inputs, symbol_input, index, temperature_input], \n",
    "                                 y_selected, name=\"R_train\")\n",
    "        self.model_train.compile(loss=loss, optimizer=optimizer)\n",
    "\n",
    "        if verbose:\n",
    "            self.model.summary()\n",
    "            self.model_train.summary()\n",
    "        \n",
    "    def predict(self, state):\n",
    "        x=[*state, np.array([self.temperature])]\n",
    "#         print(getshape(state))\n",
    "        return self.model.predict_on_batch(x=x)\n",
    "\n",
    "    def update(self, state, action, target):\n",
    "        x = [*state, action, np.array([self.temperature])]\n",
    "        # print(getshape(x), getshape(target))\n",
    "        return self.model_train.train_on_batch(x=x, y=target)\n",
    "\n",
    "    def remember(self, state, action, target):\n",
    "        x = [*state, action]\n",
    "        self.memory_x.append(x)\n",
    "        self.memory_y.append(target)\n",
    "\n",
    "    def reset_memory(self):\n",
    "        self.memory_x = []\n",
    "        self.memory_y = []\n",
    "\n",
    "    def update_on_batch(self, reset_after=True):\n",
    "        loss = []\n",
    "        for x, y in zip(self.memory_x, self.memory_y):\n",
    "            x = [*x, np.array([self.temperature])]\n",
    "            loss.append(self.model_train.train_on_batch(x=x, y=y))\n",
    "        if reset_after:\n",
    "            self.reset_memory()\n",
    "        return loss\n",
    "    \n",
    "    def adjust_temperature(self, loss):\n",
    "        if loss < 0.001:\n",
    "            self.temperature *= 1.1\n",
    "        elif loss > 2:\n",
    "            self.temperature /= 1.1\n",
    "#         print(f\"new receiver temp: {self.temperature}\")"
   ]
  },
  {
   "cell_type": "code",
   "execution_count": 278,
   "metadata": {
    "colab": {
     "base_uri": "https://localhost:8080/",
     "height": 1000
    },
    "id": "GdxY5cFb3MFz",
    "outputId": "2644695f-8f4b-458b-9a1c-8d2a757224dd"
   },
   "outputs": [],
   "source": [
    "K.clear_session()\n",
    "\n",
    "sender = Sender(**SENDER_KWARGS)\n",
    "receiver = Receiver(**RECEIVER_KWARGS)"
   ]
  },
  {
   "cell_type": "code",
   "execution_count": 279,
   "metadata": {
    "colab": {
     "base_uri": "https://localhost:8080/",
     "height": 722
    },
    "id": "-fhHsazu3Nw_",
    "outputId": "efeb9add-f82a-451d-a293-1d03125de636",
    "scrolled": true
   },
   "outputs": [
    {
     "name": "stdout",
     "output_type": "stream",
     "text": [
      "ep 50, success_rate: 0.500, sender_loss: 2.610 ±5.208, receiver_loss: 0.393 ±0.118, frequent_symbols: 39\n",
      "ep 100, success_rate: 0.540, sender_loss: 2.487 ±5.268, receiver_loss: 0.374 ±0.119, frequent_symbols: 36\n",
      "ep 150, success_rate: 0.500, sender_loss: 2.303 ±5.302, receiver_loss: 0.347 ±0.120, frequent_symbols: 42\n",
      "ep 200, success_rate: 0.640, sender_loss: 2.579 ±5.226, receiver_loss: 0.388 ±0.118, frequent_symbols: 40\n",
      "ep 250, success_rate: 0.460, sender_loss: 2.395 ±5.293, receiver_loss: 0.360 ±0.120, frequent_symbols: 41\n",
      "ep 300, success_rate: 0.440, sender_loss: 2.026 ±5.226, receiver_loss: 0.305 ±0.118, frequent_symbols: 42\n",
      "ep 350, success_rate: 0.580, sender_loss: 2.671 ±5.166, receiver_loss: 0.402 ±0.117, frequent_symbols: 40\n",
      "ep 400, success_rate: 0.500, sender_loss: 2.671 ±5.166, receiver_loss: 0.402 ±0.117, frequent_symbols: 40\n",
      "ep 450, success_rate: 0.540, sender_loss: 2.487 ±5.268, receiver_loss: 0.374 ±0.119, frequent_symbols: 42\n",
      "ep 500, success_rate: 0.460, sender_loss: 2.118 ±5.268, receiver_loss: 0.319 ±0.119, frequent_symbols: 40\n",
      "ep 550, success_rate: 0.600, sender_loss: 2.947 ±4.886, receiver_loss: 0.444 ±0.111, frequent_symbols: 36\n",
      "ep 600, success_rate: 0.520, sender_loss: 2.395 ±5.293, receiver_loss: 0.360 ±0.120, frequent_symbols: 35\n",
      "ep 650, success_rate: 0.440, sender_loss: 1.842 ±5.090, receiver_loss: 0.277 ±0.115, frequent_symbols: 39\n",
      "ep 700, success_rate: 0.540, sender_loss: 2.487 ±5.268, receiver_loss: 0.374 ±0.119, frequent_symbols: 41\n",
      "ep 750, success_rate: 0.440, sender_loss: 2.026 ±5.225, receiver_loss: 0.305 ±0.118, frequent_symbols: 42\n",
      "ep 800, success_rate: 0.520, sender_loss: 2.118 ±5.268, receiver_loss: 0.319 ±0.119, frequent_symbols: 40\n",
      "ep 850, success_rate: 0.520, sender_loss: 2.395 ±5.293, receiver_loss: 0.360 ±0.120, frequent_symbols: 42\n"
     ]
    },
    {
     "ename": "KeyboardInterrupt",
     "evalue": "",
     "output_type": "error",
     "traceback": [
      "\u001b[0;31m---------------------------------------------------------------------------\u001b[0m",
      "\u001b[0;31mKeyboardInterrupt\u001b[0m                         Traceback (most recent call last)",
      "\u001b[0;32m<ipython-input-279-16bc880aa259>\u001b[0m in \u001b[0;36m<module>\u001b[0;34m\u001b[0m\n\u001b[1;32m     13\u001b[0m \u001b[0;34m\u001b[0m\u001b[0m\n\u001b[1;32m     14\u001b[0m     \u001b[0mreceiver_state\u001b[0m \u001b[0;34m=\u001b[0m \u001b[0mgame\u001b[0m\u001b[0;34m.\u001b[0m\u001b[0mget_receiver_state\u001b[0m\u001b[0;34m(\u001b[0m\u001b[0msender_action\u001b[0m\u001b[0;34m,\u001b[0m \u001b[0mexpand\u001b[0m\u001b[0;34m=\u001b[0m\u001b[0;32mTrue\u001b[0m\u001b[0;34m)\u001b[0m\u001b[0;34m\u001b[0m\u001b[0;34m\u001b[0m\u001b[0m\n\u001b[0;32m---> 15\u001b[0;31m     \u001b[0mreceiver_probs\u001b[0m \u001b[0;34m=\u001b[0m \u001b[0mreceiver\u001b[0m\u001b[0;34m.\u001b[0m\u001b[0mpredict\u001b[0m\u001b[0;34m(\u001b[0m\u001b[0mreceiver_state\u001b[0m\u001b[0;34m)\u001b[0m\u001b[0;34m\u001b[0m\u001b[0;34m\u001b[0m\u001b[0m\n\u001b[0m\u001b[1;32m     16\u001b[0m     \u001b[0mreceiver_probs\u001b[0m \u001b[0;34m=\u001b[0m \u001b[0mnp\u001b[0m\u001b[0;34m.\u001b[0m\u001b[0msqueeze\u001b[0m\u001b[0;34m(\u001b[0m\u001b[0mreceiver_probs\u001b[0m\u001b[0;34m)\u001b[0m\u001b[0;34m\u001b[0m\u001b[0;34m\u001b[0m\u001b[0m\n\u001b[1;32m     17\u001b[0m     \u001b[0mreceiver_action\u001b[0m \u001b[0;34m=\u001b[0m \u001b[0mnp\u001b[0m\u001b[0;34m.\u001b[0m\u001b[0mrandom\u001b[0m\u001b[0;34m.\u001b[0m\u001b[0mchoice\u001b[0m\u001b[0;34m(\u001b[0m\u001b[0mnp\u001b[0m\u001b[0;34m.\u001b[0m\u001b[0marange\u001b[0m\u001b[0;34m(\u001b[0m\u001b[0mlen\u001b[0m\u001b[0;34m(\u001b[0m\u001b[0mreceiver_probs\u001b[0m\u001b[0;34m)\u001b[0m\u001b[0;34m)\u001b[0m\u001b[0;34m,\u001b[0m \u001b[0mp\u001b[0m\u001b[0;34m=\u001b[0m\u001b[0mreceiver_probs\u001b[0m\u001b[0;34m)\u001b[0m\u001b[0;34m\u001b[0m\u001b[0;34m\u001b[0m\u001b[0m\n",
      "\u001b[0;32m<ipython-input-277-ae528e951782>\u001b[0m in \u001b[0;36mpredict\u001b[0;34m(self, state)\u001b[0m\n\u001b[1;32m     48\u001b[0m         \u001b[0mx\u001b[0m\u001b[0;34m=\u001b[0m\u001b[0;34m[\u001b[0m\u001b[0;34m*\u001b[0m\u001b[0mstate\u001b[0m\u001b[0;34m,\u001b[0m \u001b[0mnp\u001b[0m\u001b[0;34m.\u001b[0m\u001b[0marray\u001b[0m\u001b[0;34m(\u001b[0m\u001b[0;34m[\u001b[0m\u001b[0mself\u001b[0m\u001b[0;34m.\u001b[0m\u001b[0mtemperature\u001b[0m\u001b[0;34m]\u001b[0m\u001b[0;34m)\u001b[0m\u001b[0;34m]\u001b[0m\u001b[0;34m\u001b[0m\u001b[0;34m\u001b[0m\u001b[0m\n\u001b[1;32m     49\u001b[0m \u001b[0;31m#         print(getshape(state))\u001b[0m\u001b[0;34m\u001b[0m\u001b[0;34m\u001b[0m\u001b[0;34m\u001b[0m\u001b[0m\n\u001b[0;32m---> 50\u001b[0;31m         \u001b[0;32mreturn\u001b[0m \u001b[0mself\u001b[0m\u001b[0;34m.\u001b[0m\u001b[0mmodel\u001b[0m\u001b[0;34m.\u001b[0m\u001b[0mpredict_on_batch\u001b[0m\u001b[0;34m(\u001b[0m\u001b[0mx\u001b[0m\u001b[0;34m=\u001b[0m\u001b[0mx\u001b[0m\u001b[0;34m)\u001b[0m\u001b[0;34m\u001b[0m\u001b[0;34m\u001b[0m\u001b[0m\n\u001b[0m\u001b[1;32m     51\u001b[0m \u001b[0;34m\u001b[0m\u001b[0m\n\u001b[1;32m     52\u001b[0m     \u001b[0;32mdef\u001b[0m \u001b[0mupdate\u001b[0m\u001b[0;34m(\u001b[0m\u001b[0mself\u001b[0m\u001b[0;34m,\u001b[0m \u001b[0mstate\u001b[0m\u001b[0;34m,\u001b[0m \u001b[0maction\u001b[0m\u001b[0;34m,\u001b[0m \u001b[0mtarget\u001b[0m\u001b[0;34m)\u001b[0m\u001b[0;34m:\u001b[0m\u001b[0;34m\u001b[0m\u001b[0;34m\u001b[0m\u001b[0m\n",
      "\u001b[0;32m~/miniconda3/lib/python3.8/site-packages/tensorflow/python/keras/engine/training.py\u001b[0m in \u001b[0;36mpredict_on_batch\u001b[0;34m(self, x)\u001b[0m\n\u001b[1;32m   1436\u001b[0m       \u001b[0miterator\u001b[0m \u001b[0;34m=\u001b[0m \u001b[0mdata_adapter\u001b[0m\u001b[0;34m.\u001b[0m\u001b[0msingle_batch_iterator\u001b[0m\u001b[0;34m(\u001b[0m\u001b[0mself\u001b[0m\u001b[0;34m.\u001b[0m\u001b[0mdistribute_strategy\u001b[0m\u001b[0;34m,\u001b[0m \u001b[0mx\u001b[0m\u001b[0;34m)\u001b[0m\u001b[0;34m\u001b[0m\u001b[0;34m\u001b[0m\u001b[0m\n\u001b[1;32m   1437\u001b[0m       \u001b[0mpredict_function\u001b[0m \u001b[0;34m=\u001b[0m \u001b[0mself\u001b[0m\u001b[0;34m.\u001b[0m\u001b[0mmake_predict_function\u001b[0m\u001b[0;34m(\u001b[0m\u001b[0;34m)\u001b[0m\u001b[0;34m\u001b[0m\u001b[0;34m\u001b[0m\u001b[0m\n\u001b[0;32m-> 1438\u001b[0;31m       \u001b[0moutputs\u001b[0m \u001b[0;34m=\u001b[0m \u001b[0mpredict_function\u001b[0m\u001b[0;34m(\u001b[0m\u001b[0miterator\u001b[0m\u001b[0;34m)\u001b[0m\u001b[0;34m\u001b[0m\u001b[0;34m\u001b[0m\u001b[0m\n\u001b[0m\u001b[1;32m   1439\u001b[0m     \u001b[0;32mreturn\u001b[0m \u001b[0mtf_utils\u001b[0m\u001b[0;34m.\u001b[0m\u001b[0mto_numpy_or_python_type\u001b[0m\u001b[0;34m(\u001b[0m\u001b[0moutputs\u001b[0m\u001b[0;34m)\u001b[0m\u001b[0;34m\u001b[0m\u001b[0;34m\u001b[0m\u001b[0m\n\u001b[1;32m   1440\u001b[0m \u001b[0;34m\u001b[0m\u001b[0m\n",
      "\u001b[0;32m~/miniconda3/lib/python3.8/site-packages/tensorflow/python/eager/def_function.py\u001b[0m in \u001b[0;36m__call__\u001b[0;34m(self, *args, **kwds)\u001b[0m\n\u001b[1;32m    578\u001b[0m         \u001b[0mxla_context\u001b[0m\u001b[0;34m.\u001b[0m\u001b[0mExit\u001b[0m\u001b[0;34m(\u001b[0m\u001b[0;34m)\u001b[0m\u001b[0;34m\u001b[0m\u001b[0;34m\u001b[0m\u001b[0m\n\u001b[1;32m    579\u001b[0m     \u001b[0;32melse\u001b[0m\u001b[0;34m:\u001b[0m\u001b[0;34m\u001b[0m\u001b[0;34m\u001b[0m\u001b[0m\n\u001b[0;32m--> 580\u001b[0;31m       \u001b[0mresult\u001b[0m \u001b[0;34m=\u001b[0m \u001b[0mself\u001b[0m\u001b[0;34m.\u001b[0m\u001b[0m_call\u001b[0m\u001b[0;34m(\u001b[0m\u001b[0;34m*\u001b[0m\u001b[0margs\u001b[0m\u001b[0;34m,\u001b[0m \u001b[0;34m**\u001b[0m\u001b[0mkwds\u001b[0m\u001b[0;34m)\u001b[0m\u001b[0;34m\u001b[0m\u001b[0;34m\u001b[0m\u001b[0m\n\u001b[0m\u001b[1;32m    581\u001b[0m \u001b[0;34m\u001b[0m\u001b[0m\n\u001b[1;32m    582\u001b[0m     \u001b[0;32mif\u001b[0m \u001b[0mtracing_count\u001b[0m \u001b[0;34m==\u001b[0m \u001b[0mself\u001b[0m\u001b[0;34m.\u001b[0m\u001b[0m_get_tracing_count\u001b[0m\u001b[0;34m(\u001b[0m\u001b[0;34m)\u001b[0m\u001b[0;34m:\u001b[0m\u001b[0;34m\u001b[0m\u001b[0;34m\u001b[0m\u001b[0m\n",
      "\u001b[0;32m~/miniconda3/lib/python3.8/site-packages/tensorflow/python/eager/def_function.py\u001b[0m in \u001b[0;36m_call\u001b[0;34m(self, *args, **kwds)\u001b[0m\n\u001b[1;32m    616\u001b[0m       \u001b[0;31m# In this case we have not created variables on the first call. So we can\u001b[0m\u001b[0;34m\u001b[0m\u001b[0;34m\u001b[0m\u001b[0;34m\u001b[0m\u001b[0m\n\u001b[1;32m    617\u001b[0m       \u001b[0;31m# run the first trace but we should fail if variables are created.\u001b[0m\u001b[0;34m\u001b[0m\u001b[0;34m\u001b[0m\u001b[0;34m\u001b[0m\u001b[0m\n\u001b[0;32m--> 618\u001b[0;31m       \u001b[0mresults\u001b[0m \u001b[0;34m=\u001b[0m \u001b[0mself\u001b[0m\u001b[0;34m.\u001b[0m\u001b[0m_stateful_fn\u001b[0m\u001b[0;34m(\u001b[0m\u001b[0;34m*\u001b[0m\u001b[0margs\u001b[0m\u001b[0;34m,\u001b[0m \u001b[0;34m**\u001b[0m\u001b[0mkwds\u001b[0m\u001b[0;34m)\u001b[0m\u001b[0;34m\u001b[0m\u001b[0;34m\u001b[0m\u001b[0m\n\u001b[0m\u001b[1;32m    619\u001b[0m       \u001b[0;32mif\u001b[0m \u001b[0mself\u001b[0m\u001b[0;34m.\u001b[0m\u001b[0m_created_variables\u001b[0m\u001b[0;34m:\u001b[0m\u001b[0;34m\u001b[0m\u001b[0;34m\u001b[0m\u001b[0m\n\u001b[1;32m    620\u001b[0m         raise ValueError(\"Creating variables on a non-first call to a function\"\n",
      "\u001b[0;32m~/miniconda3/lib/python3.8/site-packages/tensorflow/python/eager/function.py\u001b[0m in \u001b[0;36m__call__\u001b[0;34m(self, *args, **kwargs)\u001b[0m\n\u001b[1;32m   2418\u001b[0m     \u001b[0;32mwith\u001b[0m \u001b[0mself\u001b[0m\u001b[0;34m.\u001b[0m\u001b[0m_lock\u001b[0m\u001b[0;34m:\u001b[0m\u001b[0;34m\u001b[0m\u001b[0;34m\u001b[0m\u001b[0m\n\u001b[1;32m   2419\u001b[0m       \u001b[0mgraph_function\u001b[0m\u001b[0;34m,\u001b[0m \u001b[0margs\u001b[0m\u001b[0;34m,\u001b[0m \u001b[0mkwargs\u001b[0m \u001b[0;34m=\u001b[0m \u001b[0mself\u001b[0m\u001b[0;34m.\u001b[0m\u001b[0m_maybe_define_function\u001b[0m\u001b[0;34m(\u001b[0m\u001b[0margs\u001b[0m\u001b[0;34m,\u001b[0m \u001b[0mkwargs\u001b[0m\u001b[0;34m)\u001b[0m\u001b[0;34m\u001b[0m\u001b[0;34m\u001b[0m\u001b[0m\n\u001b[0;32m-> 2420\u001b[0;31m     \u001b[0;32mreturn\u001b[0m \u001b[0mgraph_function\u001b[0m\u001b[0;34m.\u001b[0m\u001b[0m_filtered_call\u001b[0m\u001b[0;34m(\u001b[0m\u001b[0margs\u001b[0m\u001b[0;34m,\u001b[0m \u001b[0mkwargs\u001b[0m\u001b[0;34m)\u001b[0m  \u001b[0;31m# pylint: disable=protected-access\u001b[0m\u001b[0;34m\u001b[0m\u001b[0;34m\u001b[0m\u001b[0m\n\u001b[0m\u001b[1;32m   2421\u001b[0m \u001b[0;34m\u001b[0m\u001b[0m\n\u001b[1;32m   2422\u001b[0m   \u001b[0;34m@\u001b[0m\u001b[0mproperty\u001b[0m\u001b[0;34m\u001b[0m\u001b[0;34m\u001b[0m\u001b[0m\n",
      "\u001b[0;32m~/miniconda3/lib/python3.8/site-packages/tensorflow/python/eager/function.py\u001b[0m in \u001b[0;36m_filtered_call\u001b[0;34m(self, args, kwargs)\u001b[0m\n\u001b[1;32m   1659\u001b[0m       \u001b[0;31m`\u001b[0m\u001b[0margs\u001b[0m\u001b[0;31m`\u001b[0m \u001b[0;32mand\u001b[0m\u001b[0;31m \u001b[0m\u001b[0;31m`\u001b[0m\u001b[0mkwargs\u001b[0m\u001b[0;31m`\u001b[0m\u001b[0;34m.\u001b[0m\u001b[0;34m\u001b[0m\u001b[0;34m\u001b[0m\u001b[0m\n\u001b[1;32m   1660\u001b[0m     \"\"\"\n\u001b[0;32m-> 1661\u001b[0;31m     return self._call_flat(\n\u001b[0m\u001b[1;32m   1662\u001b[0m         (t for t in nest.flatten((args, kwargs), expand_composites=True)\n\u001b[1;32m   1663\u001b[0m          if isinstance(t, (ops.Tensor,\n",
      "\u001b[0;32m~/miniconda3/lib/python3.8/site-packages/tensorflow/python/eager/function.py\u001b[0m in \u001b[0;36m_call_flat\u001b[0;34m(self, args, captured_inputs, cancellation_manager)\u001b[0m\n\u001b[1;32m   1743\u001b[0m         and executing_eagerly):\n\u001b[1;32m   1744\u001b[0m       \u001b[0;31m# No tape is watching; skip to running the function.\u001b[0m\u001b[0;34m\u001b[0m\u001b[0;34m\u001b[0m\u001b[0;34m\u001b[0m\u001b[0m\n\u001b[0;32m-> 1745\u001b[0;31m       return self._build_call_outputs(self._inference_function.call(\n\u001b[0m\u001b[1;32m   1746\u001b[0m           ctx, args, cancellation_manager=cancellation_manager))\n\u001b[1;32m   1747\u001b[0m     forward_backward = self._select_forward_and_backward_functions(\n",
      "\u001b[0;32m~/miniconda3/lib/python3.8/site-packages/tensorflow/python/eager/function.py\u001b[0m in \u001b[0;36mcall\u001b[0;34m(self, ctx, args, cancellation_manager)\u001b[0m\n\u001b[1;32m    591\u001b[0m       \u001b[0;32mwith\u001b[0m \u001b[0m_InterpolateFunctionError\u001b[0m\u001b[0;34m(\u001b[0m\u001b[0mself\u001b[0m\u001b[0;34m)\u001b[0m\u001b[0;34m:\u001b[0m\u001b[0;34m\u001b[0m\u001b[0;34m\u001b[0m\u001b[0m\n\u001b[1;32m    592\u001b[0m         \u001b[0;32mif\u001b[0m \u001b[0mcancellation_manager\u001b[0m \u001b[0;32mis\u001b[0m \u001b[0;32mNone\u001b[0m\u001b[0;34m:\u001b[0m\u001b[0;34m\u001b[0m\u001b[0;34m\u001b[0m\u001b[0m\n\u001b[0;32m--> 593\u001b[0;31m           outputs = execute.execute(\n\u001b[0m\u001b[1;32m    594\u001b[0m               \u001b[0mstr\u001b[0m\u001b[0;34m(\u001b[0m\u001b[0mself\u001b[0m\u001b[0;34m.\u001b[0m\u001b[0msignature\u001b[0m\u001b[0;34m.\u001b[0m\u001b[0mname\u001b[0m\u001b[0;34m)\u001b[0m\u001b[0;34m,\u001b[0m\u001b[0;34m\u001b[0m\u001b[0;34m\u001b[0m\u001b[0m\n\u001b[1;32m    595\u001b[0m               \u001b[0mnum_outputs\u001b[0m\u001b[0;34m=\u001b[0m\u001b[0mself\u001b[0m\u001b[0;34m.\u001b[0m\u001b[0m_num_outputs\u001b[0m\u001b[0;34m,\u001b[0m\u001b[0;34m\u001b[0m\u001b[0;34m\u001b[0m\u001b[0m\n",
      "\u001b[0;32m~/miniconda3/lib/python3.8/site-packages/tensorflow/python/eager/execute.py\u001b[0m in \u001b[0;36mquick_execute\u001b[0;34m(op_name, num_outputs, inputs, attrs, ctx, name)\u001b[0m\n\u001b[1;32m     57\u001b[0m   \u001b[0;32mtry\u001b[0m\u001b[0;34m:\u001b[0m\u001b[0;34m\u001b[0m\u001b[0;34m\u001b[0m\u001b[0m\n\u001b[1;32m     58\u001b[0m     \u001b[0mctx\u001b[0m\u001b[0;34m.\u001b[0m\u001b[0mensure_initialized\u001b[0m\u001b[0;34m(\u001b[0m\u001b[0;34m)\u001b[0m\u001b[0;34m\u001b[0m\u001b[0;34m\u001b[0m\u001b[0m\n\u001b[0;32m---> 59\u001b[0;31m     tensors = pywrap_tfe.TFE_Py_Execute(ctx._handle, device_name, op_name,\n\u001b[0m\u001b[1;32m     60\u001b[0m                                         inputs, attrs, num_outputs)\n\u001b[1;32m     61\u001b[0m   \u001b[0;32mexcept\u001b[0m \u001b[0mcore\u001b[0m\u001b[0;34m.\u001b[0m\u001b[0m_NotOkStatusException\u001b[0m \u001b[0;32mas\u001b[0m \u001b[0me\u001b[0m\u001b[0;34m:\u001b[0m\u001b[0;34m\u001b[0m\u001b[0;34m\u001b[0m\u001b[0m\n",
      "\u001b[0;31mKeyboardInterrupt\u001b[0m: "
     ]
    }
   ],
   "source": [
    "success_log = []\n",
    "sender_log = []\n",
    "receiver_log = []\n",
    "symbol_log = []\n",
    "\n",
    "for episode in range(1, N_EPISODES + 1):\n",
    "    game.reset()\n",
    "    sender_state = game.get_sender_state(n_images=N_IMAGES, unique_categories=True, expand=True)\n",
    "    sender_probs = sender.predict(state=sender_state)\n",
    "    sender_probs = np.squeeze(sender_probs)\n",
    "    sender_action = np.random.choice(np.arange(len(sender_probs)), p=sender_probs)\n",
    "    # sender_action = 0\n",
    "    \n",
    "    receiver_state = game.get_receiver_state(sender_action, expand=True)\n",
    "    receiver_probs = receiver.predict(receiver_state)\n",
    "    receiver_probs = np.squeeze(receiver_probs)\n",
    "    receiver_action = np.random.choice(np.arange(len(receiver_probs)), p=receiver_probs)\n",
    "    \n",
    "#     receiver_action = 0\n",
    "    sender_reward, receiver_reward, success = game.evaluate_guess(receiver_action)\n",
    "\n",
    "    sender.remember(sender_state, np.asarray([sender_action]), np.asarray([sender_reward]))\n",
    "    receiver.remember(receiver_state, np.asarray([receiver_action]), np.asarray([receiver_reward]))\n",
    "\n",
    "    if not episode % BATCH_SIZE:\n",
    "        sender_loss = sender.update_on_batch()\n",
    "        receiver_loss = receiver.update_on_batch()\n",
    "        sender_log.extend(sender_loss)\n",
    "        receiver_log.extend(receiver_loss)\n",
    "        if ADAPTIVE_TEMPERATURE:\n",
    "            if np.mean(sender_loss) < 0.001 and np.mean(receiver_loss) < 0.001:\n",
    "                sender.adjust_temperature(np.mean(sender_loss))\n",
    "                receiver.adjust_temperature(np.mean(receiver_loss))\n",
    "    \n",
    "    success_log.append(success)\n",
    "    symbol_log.append(sender_action)\n",
    "    # sender_log.append(sender_loss)\n",
    "    # receiver_log.append(receiver_loss)\n",
    "    \n",
    "    if not episode % ANALYSIS_WINDOW:\n",
    "        success_rate_m = np.mean(success_log[-ANALYSIS_WINDOW:])\n",
    "        sender_loss_m = np.mean(sender_log[-ANALYSIS_WINDOW:])\n",
    "        receiver_loss_m = np.mean(receiver_log[-ANALYSIS_WINDOW:])\n",
    "        sender_loss_var = np.var(sender_log[-ANALYSIS_WINDOW:])\n",
    "        receiver_loss_var = np.var(receiver_log[-ANALYSIS_WINDOW:])\n",
    "        _, symbol_counts = np.unique(symbol_log[-ANALYSIS_WINDOW:], return_counts=True)\n",
    "        frequent_symbols = (symbol_counts > ANALYSIS_WINDOW/VOCABULARY_SIZE).sum()\n",
    "        print(f\"ep {episode}, \\\n",
    "        success_rate: {success_rate_m:.3f}, \\\n",
    "        sender_loss: {sender_loss_m:.3f} ±{sender_loss_var:.3f}, \\\n",
    "        receiver_loss: {receiver_loss_m:.3f} ±{receiver_loss_var:.3f}, \\\n",
    "        frequent_symbols: {frequent_symbols}\".\n",
    "        replace(\"    \", \"\"))\n",
    "        if ADAPTIVE_TEMPERATURE:\n",
    "            print(f\"sender_temp: {sender.temperature}, receiver_temp: {receiver.temperature}\")\n",
    "\n",
    "    \n"
   ]
  },
  {
   "cell_type": "code",
   "execution_count": 280,
   "metadata": {
    "colab": {
     "base_uri": "https://localhost:8080/",
     "height": 207
    },
    "id": "_e7CY8qVNO-b",
    "outputId": "c2c4d657-e29c-4a08-e41b-8b490ee22d21"
   },
   "outputs": [
    {
     "data": {
      "image/png": "[encoded data removed]",
      "text/plain": [
       "<Figure size 432x288 with 1 Axes>"
      ]
     },
     "metadata": {
      "needs_background": "light"
     },
     "output_type": "display_data"
    }
   ],
   "source": [
    "short = np.convolve(success_log, np.ones((50,))/50, mode='same')\n",
    "trend = np.convolve(success_log, np.ones((500,))/500, mode='same')\n",
    "trend_sd = (short - np.convolve(success_log, np.ones((500,))/500, mode='same'))**2\n",
    "plt.plot(short, linestyle=\"None\", marker=\".\", label=\"Average success rate\")\n",
    "plt.plot(trend, label=\"Trend\")\n",
    "plt.plot(trend_sd, label=\"Trend SD\")\n",
    "plt.legend()\n",
    "plt.title(\"Success rate\");"
   ]
  },
  {
   "cell_type": "code",
   "execution_count": 281,
   "metadata": {
    "colab": {
     "base_uri": "https://localhost:8080/",
     "height": 281
    },
    "id": "w8-kAWLQ3QUE",
    "outputId": "f443dc63-da92-4db4-d353-8e37093b93c4"
   },
   "outputs": [
    {
     "data": {
      "image/png": "[encoded data removed]",
      "text/plain": [
       "<Figure size 432x288 with 1 Axes>"
      ]
     },
     "metadata": {
      "needs_background": "light"
     },
     "output_type": "display_data"
    }
   ],
   "source": [
    "plt.plot(sender_log, linestyle=\"None\", marker=\".\", label=\"Loss\")\n",
    "plt.plot(np.convolve(sender_log, np.ones((100,))/100, mode='valid'), label=\"Average loss\")\n",
    "plt.legend()\n",
    "plt.title(\"Sender loss\");"
   ]
  },
  {
   "cell_type": "code",
   "execution_count": 282,
   "metadata": {
    "colab": {
     "base_uri": "https://localhost:8080/",
     "height": 281
    },
    "id": "OguZHTGCAQOR",
    "outputId": "499c6018-4933-4f94-c9e6-db26930d1dd8"
   },
   "outputs": [
    {
     "data": {
      "image/png": "[encoded data removed]",
      "text/plain": [
       "<Figure size 432x288 with 1 Axes>"
      ]
     },
     "metadata": {
      "needs_background": "light"
     },
     "output_type": "display_data"
    }
   ],
   "source": [
    "plt.plot(receiver_log, linestyle=\"None\", marker=\".\", label=\"Loss\")\n",
    "plt.plot(np.convolve(receiver_log, np.ones((40,))/40, mode='valid'), label=\"Average loss\")\n",
    "plt.legend()\n",
    "plt.title(\"Receiver loss\");"
   ]
  },
  {
   "cell_type": "code",
   "execution_count": null,
   "metadata": {},
   "outputs": [],
   "source": []
  },
  {
   "cell_type": "code",
   "execution_count": null,
   "metadata": {},
   "outputs": [],
   "source": []
  }
 ],
 "metadata": {
  "accelerator": "GPU",
  "colab": {
   "authorship_tag": "ABX9TyPRhCicg/F36A1vSoR2NoYW",
   "collapsed_sections": [],
   "include_colab_link": true,
   "mount_file_id": "1JjwKZpkybvfvWN7IFPNkUR7nDiUqWBW1",
   "name": "Guessing game REINFORCE.ipynb",
   "provenance": []
  },
  "kernelspec": {
   "display_name": "Python 3",
   "language": "python",
   "name": "python3"
  },
  "language_info": {
   "codemirror_mode": {
    "name": "ipython",
    "version": 3
   },
   "file_extension": ".py",
   "mimetype": "text/x-python",
   "name": "python",
   "nbconvert_exporter": "python",
   "pygments_lexer": "ipython3",
   "version": "3.8.3"
  }
 },
 "nbformat": 4,
 "nbformat_minor": 1
}
