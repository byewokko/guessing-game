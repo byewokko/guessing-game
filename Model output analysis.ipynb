{
 "cells": [
  {
   "cell_type": "code",
   "execution_count": 1,
   "metadata": {},
   "outputs": [],
   "source": [
    "import pandas as pd\n",
    "import numpy as np\n",
    "\n",
    "from utils.dataprep import load_emb_gz, make_categories, load_emb"
   ]
  },
  {
   "cell_type": "code",
   "execution_count": 27,
   "metadata": {},
   "outputs": [],
   "source": [
    "embedding_file = \"data/imagenet-27x80-vgg19.test-ctg.emb.gz\"\n",
    "\n",
    "# embedding_file = \"data/esp-10000-vgg19.emb.gz\"\n",
    "# embedding_file = \"data/imagenet-200x65-vgg19.train.emb.gz\"\n",
    "# results_file = \"models/200807-190731-basic.res.csv\"\n",
    "# results_file = \"models/200807-190731-basic-noctg.res.csv\"\n",
    "# results_file = \"models/200807-190731-basic-esp.res.csv\"\n",
    "# results_file = \"models/200807-200959-basic4-noctg.res.csv\"\n",
    "# results_file = \"models/200808-135631-switch4-esp.res.csv\"\n",
    "\n",
    "\n",
    "results_file = \"test_outputs/000-200822-190027-swi-4-gib-50-47.res.csv\"\n",
    "# results_file = \"test_outputs/200827-104336-noexplore.res.csv\"\n",
    "# New architecture, gibbs sampling\n",
    "# results_file = \"test_outputs/000-200824-063024-swi-4-gib-100-40.res.csv\"\n",
    "# New architecture, no exploring\n",
    "# results_file = \"test_outputs/000-200824-045043-swi-4-FAL-100-40.res.csv\""
   ]
  },
  {
   "cell_type": "markdown",
   "metadata": {},
   "source": [
    "### Load categories"
   ]
  },
  {
   "cell_type": "code",
   "execution_count": 28,
   "metadata": {},
   "outputs": [
    {
     "name": "stdout",
     "output_type": "stream",
     "text": [
      "DONE. 2193 items loaded from data/imagenet-27x80-vgg19.test-ctg.emb.gz.\n",
      "27 categories found.\n"
     ]
    },
    {
     "data": {
      "text/plain": [
       "array([4, 4, 4, ..., 6, 6, 6], dtype=int64)"
      ]
     },
     "execution_count": 28,
     "metadata": {},
     "output_type": "execute_result"
    }
   ],
   "source": [
    "_, labels, _ = load_emb_gz(embedding_file)\n",
    "categories = make_categories(labels)\n",
    "categories"
   ]
  },
  {
   "cell_type": "code",
   "execution_count": 29,
   "metadata": {},
   "outputs": [
    {
     "data": {
      "text/plain": [
       "array([ 0,  1,  2,  3,  4,  5,  6,  7,  8,  9, 10, 11, 12, 13, 14, 15, 16,\n",
       "       17, 18, 19, 20, 21, 22, 23, 24, 25, 26], dtype=int64)"
      ]
     },
     "execution_count": 29,
     "metadata": {},
     "output_type": "execute_result"
    }
   ],
   "source": [
    "np.unique(categories)"
   ]
  },
  {
   "cell_type": "markdown",
   "metadata": {
    "collapsed": true
   },
   "source": [
    "### Load results"
   ]
  },
  {
   "cell_type": "code",
   "execution_count": 30,
   "metadata": {},
   "outputs": [],
   "source": [
    "results = pd.read_csv(results_file, index_col=0)\n",
    "df = results[[\"target_image\", \"active_images\", \"chosen_symbol\", \"chosen_image_index\", \"success\"]]"
   ]
  },
  {
   "cell_type": "code",
   "execution_count": 31,
   "metadata": {},
   "outputs": [
    {
     "data": {
      "text/html": [
       "<div>\n",
       "<style scoped>\n",
       "    .dataframe tbody tr th:only-of-type {\n",
       "        vertical-align: middle;\n",
       "    }\n",
       "\n",
       "    .dataframe tbody tr th {\n",
       "        vertical-align: top;\n",
       "    }\n",
       "\n",
       "    .dataframe thead th {\n",
       "        text-align: right;\n",
       "    }\n",
       "</style>\n",
       "<table border=\"1\" class=\"dataframe\">\n",
       "  <thead>\n",
       "    <tr style=\"text-align: right;\">\n",
       "      <th></th>\n",
       "      <th>sender_name</th>\n",
       "      <th>receiver_name</th>\n",
       "      <th>active_images</th>\n",
       "      <th>target_image</th>\n",
       "      <th>chosen_symbol</th>\n",
       "      <th>chosen_symbol_p</th>\n",
       "      <th>chosen_image</th>\n",
       "      <th>chosen_image_p</th>\n",
       "      <th>chosen_image_index</th>\n",
       "      <th>success</th>\n",
       "    </tr>\n",
       "  </thead>\n",
       "  <tbody>\n",
       "    <tr>\n",
       "      <th>0</th>\n",
       "      <td>01.sender</td>\n",
       "      <td>02.receiver</td>\n",
       "      <td>993:1276:654:1674</td>\n",
       "      <td>993</td>\n",
       "      <td>[6]</td>\n",
       "      <td>[0.13781165]</td>\n",
       "      <td>[1276]</td>\n",
       "      <td>[0.5283167]</td>\n",
       "      <td>[0]</td>\n",
       "      <td>0</td>\n",
       "    </tr>\n",
       "    <tr>\n",
       "      <th>1</th>\n",
       "      <td>01.sender</td>\n",
       "      <td>02.receiver</td>\n",
       "      <td>1747:81:554:894</td>\n",
       "      <td>1747</td>\n",
       "      <td>[6]</td>\n",
       "      <td>[0.9858225]</td>\n",
       "      <td>[1747]</td>\n",
       "      <td>[0.9597532]</td>\n",
       "      <td>[1]</td>\n",
       "      <td>1</td>\n",
       "    </tr>\n",
       "    <tr>\n",
       "      <th>2</th>\n",
       "      <td>01.sender</td>\n",
       "      <td>02.receiver</td>\n",
       "      <td>192:248:637:1665</td>\n",
       "      <td>192</td>\n",
       "      <td>[1]</td>\n",
       "      <td>[0.12783748]</td>\n",
       "      <td>[248]</td>\n",
       "      <td>[0.69776785]</td>\n",
       "      <td>[1]</td>\n",
       "      <td>0</td>\n",
       "    </tr>\n",
       "    <tr>\n",
       "      <th>3</th>\n",
       "      <td>01.sender</td>\n",
       "      <td>02.receiver</td>\n",
       "      <td>1607:2162:8:1224</td>\n",
       "      <td>1607</td>\n",
       "      <td>[8]</td>\n",
       "      <td>[0.10226989]</td>\n",
       "      <td>[1607]</td>\n",
       "      <td>[0.693935]</td>\n",
       "      <td>[2]</td>\n",
       "      <td>1</td>\n",
       "    </tr>\n",
       "    <tr>\n",
       "      <th>4</th>\n",
       "      <td>01.sender</td>\n",
       "      <td>02.receiver</td>\n",
       "      <td>2167:501:1132:1868</td>\n",
       "      <td>2167</td>\n",
       "      <td>[3]</td>\n",
       "      <td>[0.20812732]</td>\n",
       "      <td>[2167]</td>\n",
       "      <td>[0.39441484]</td>\n",
       "      <td>[1]</td>\n",
       "      <td>1</td>\n",
       "    </tr>\n",
       "    <tr>\n",
       "      <th>...</th>\n",
       "      <td>...</td>\n",
       "      <td>...</td>\n",
       "      <td>...</td>\n",
       "      <td>...</td>\n",
       "      <td>...</td>\n",
       "      <td>...</td>\n",
       "      <td>...</td>\n",
       "      <td>...</td>\n",
       "      <td>...</td>\n",
       "      <td>...</td>\n",
       "    </tr>\n",
       "    <tr>\n",
       "      <th>2995</th>\n",
       "      <td>02.sender</td>\n",
       "      <td>01.receiver</td>\n",
       "      <td>565:2114:1021:920</td>\n",
       "      <td>565</td>\n",
       "      <td>[1]</td>\n",
       "      <td>[0.52383554]</td>\n",
       "      <td>[565]</td>\n",
       "      <td>[0.47320017]</td>\n",
       "      <td>[2]</td>\n",
       "      <td>1</td>\n",
       "    </tr>\n",
       "    <tr>\n",
       "      <th>2996</th>\n",
       "      <td>02.sender</td>\n",
       "      <td>01.receiver</td>\n",
       "      <td>1102:938:441:883</td>\n",
       "      <td>1102</td>\n",
       "      <td>[3]</td>\n",
       "      <td>[0.22238322]</td>\n",
       "      <td>[1102]</td>\n",
       "      <td>[0.36376274]</td>\n",
       "      <td>[1]</td>\n",
       "      <td>1</td>\n",
       "    </tr>\n",
       "    <tr>\n",
       "      <th>2997</th>\n",
       "      <td>02.sender</td>\n",
       "      <td>01.receiver</td>\n",
       "      <td>829:2058:14:1230</td>\n",
       "      <td>829</td>\n",
       "      <td>[3]</td>\n",
       "      <td>[0.0204738]</td>\n",
       "      <td>[2058]</td>\n",
       "      <td>[0.38633636]</td>\n",
       "      <td>[1]</td>\n",
       "      <td>0</td>\n",
       "    </tr>\n",
       "    <tr>\n",
       "      <th>2998</th>\n",
       "      <td>02.sender</td>\n",
       "      <td>01.receiver</td>\n",
       "      <td>1332:1067:738:952</td>\n",
       "      <td>1332</td>\n",
       "      <td>[6]</td>\n",
       "      <td>[0.20791899]</td>\n",
       "      <td>[1067]</td>\n",
       "      <td>[0.19852008]</td>\n",
       "      <td>[1]</td>\n",
       "      <td>0</td>\n",
       "    </tr>\n",
       "    <tr>\n",
       "      <th>2999</th>\n",
       "      <td>02.sender</td>\n",
       "      <td>01.receiver</td>\n",
       "      <td>1028:754:861:1858</td>\n",
       "      <td>1028</td>\n",
       "      <td>[6]</td>\n",
       "      <td>[0.89364356]</td>\n",
       "      <td>[1028]</td>\n",
       "      <td>[0.729048]</td>\n",
       "      <td>[0]</td>\n",
       "      <td>1</td>\n",
       "    </tr>\n",
       "  </tbody>\n",
       "</table>\n",
       "<p>3000 rows × 10 columns</p>\n",
       "</div>"
      ],
      "text/plain": [
       "     sender_name receiver_name       active_images  target_image  \\\n",
       "0      01.sender   02.receiver   993:1276:654:1674           993   \n",
       "1      01.sender   02.receiver     1747:81:554:894          1747   \n",
       "2      01.sender   02.receiver    192:248:637:1665           192   \n",
       "3      01.sender   02.receiver    1607:2162:8:1224          1607   \n",
       "4      01.sender   02.receiver  2167:501:1132:1868          2167   \n",
       "...          ...           ...                 ...           ...   \n",
       "2995   02.sender   01.receiver   565:2114:1021:920           565   \n",
       "2996   02.sender   01.receiver    1102:938:441:883          1102   \n",
       "2997   02.sender   01.receiver    829:2058:14:1230           829   \n",
       "2998   02.sender   01.receiver   1332:1067:738:952          1332   \n",
       "2999   02.sender   01.receiver   1028:754:861:1858          1028   \n",
       "\n",
       "     chosen_symbol chosen_symbol_p chosen_image chosen_image_p  \\\n",
       "0              [6]    [0.13781165]       [1276]    [0.5283167]   \n",
       "1              [6]     [0.9858225]       [1747]    [0.9597532]   \n",
       "2              [1]    [0.12783748]        [248]   [0.69776785]   \n",
       "3              [8]    [0.10226989]       [1607]     [0.693935]   \n",
       "4              [3]    [0.20812732]       [2167]   [0.39441484]   \n",
       "...            ...             ...          ...            ...   \n",
       "2995           [1]    [0.52383554]        [565]   [0.47320017]   \n",
       "2996           [3]    [0.22238322]       [1102]   [0.36376274]   \n",
       "2997           [3]     [0.0204738]       [2058]   [0.38633636]   \n",
       "2998           [6]    [0.20791899]       [1067]   [0.19852008]   \n",
       "2999           [6]    [0.89364356]       [1028]     [0.729048]   \n",
       "\n",
       "     chosen_image_index  success  \n",
       "0                   [0]        0  \n",
       "1                   [1]        1  \n",
       "2                   [1]        0  \n",
       "3                   [2]        1  \n",
       "4                   [1]        1  \n",
       "...                 ...      ...  \n",
       "2995                [2]        1  \n",
       "2996                [1]        1  \n",
       "2997                [1]        0  \n",
       "2998                [1]        0  \n",
       "2999                [0]        1  \n",
       "\n",
       "[3000 rows x 10 columns]"
      ]
     },
     "execution_count": 31,
     "metadata": {},
     "output_type": "execute_result"
    }
   ],
   "source": [
    "results"
   ]
  },
  {
   "cell_type": "code",
   "execution_count": 32,
   "metadata": {
    "scrolled": true
   },
   "outputs": [
    {
     "name": "stderr",
     "output_type": "stream",
     "text": [
      "D:\\ProgramData\\Anaconda3\\envs\\jupyter-mess\\lib\\site-packages\\pandas\\core\\indexing.py:1596: SettingWithCopyWarning: \n",
      "A value is trying to be set on a copy of a slice from a DataFrame.\n",
      "Try using .loc[row_indexer,col_indexer] = value instead\n",
      "\n",
      "See the caveats in the documentation: https://pandas.pydata.org/pandas-docs/stable/user_guide/indexing.html#returning-a-view-versus-a-copy\n",
      "  self.obj[key] = _infer_fill_value(value)\n",
      "D:\\ProgramData\\Anaconda3\\envs\\jupyter-mess\\lib\\site-packages\\pandas\\core\\indexing.py:1745: SettingWithCopyWarning: \n",
      "A value is trying to be set on a copy of a slice from a DataFrame.\n",
      "Try using .loc[row_indexer,col_indexer] = value instead\n",
      "\n",
      "See the caveats in the documentation: https://pandas.pydata.org/pandas-docs/stable/user_guide/indexing.html#returning-a-view-versus-a-copy\n",
      "  isetter(ilocs[0], value)\n"
     ]
    }
   ],
   "source": [
    "df.loc[:, \"category\"] = df.apply(lambda x: categories[x.loc[\"target_image\"]], axis=1)\n",
    "df.loc[:, \"chosen_symbol\"] = df.loc[:, \"chosen_symbol\"].apply(lambda x: int(x.strip(\"[]\")))\n",
    "df.loc[:, \"chosen_image_index\"] = df.loc[:, \"chosen_image_index\"].apply(lambda x: int(x.strip(\"[]\")))"
   ]
  },
  {
   "cell_type": "code",
   "execution_count": 33,
   "metadata": {},
   "outputs": [
    {
     "data": {
      "text/html": [
       "<div>\n",
       "<style scoped>\n",
       "    .dataframe tbody tr th:only-of-type {\n",
       "        vertical-align: middle;\n",
       "    }\n",
       "\n",
       "    .dataframe tbody tr th {\n",
       "        vertical-align: top;\n",
       "    }\n",
       "\n",
       "    .dataframe thead th {\n",
       "        text-align: right;\n",
       "    }\n",
       "</style>\n",
       "<table border=\"1\" class=\"dataframe\">\n",
       "  <thead>\n",
       "    <tr style=\"text-align: right;\">\n",
       "      <th></th>\n",
       "      <th>target_image</th>\n",
       "      <th>active_images</th>\n",
       "      <th>chosen_symbol</th>\n",
       "      <th>chosen_image_index</th>\n",
       "      <th>success</th>\n",
       "      <th>category</th>\n",
       "    </tr>\n",
       "  </thead>\n",
       "  <tbody>\n",
       "    <tr>\n",
       "      <th>0</th>\n",
       "      <td>993</td>\n",
       "      <td>993:1276:654:1674</td>\n",
       "      <td>6</td>\n",
       "      <td>0</td>\n",
       "      <td>0</td>\n",
       "      <td>20</td>\n",
       "    </tr>\n",
       "    <tr>\n",
       "      <th>1</th>\n",
       "      <td>1747</td>\n",
       "      <td>1747:81:554:894</td>\n",
       "      <td>6</td>\n",
       "      <td>1</td>\n",
       "      <td>1</td>\n",
       "      <td>7</td>\n",
       "    </tr>\n",
       "    <tr>\n",
       "      <th>2</th>\n",
       "      <td>192</td>\n",
       "      <td>192:248:637:1665</td>\n",
       "      <td>1</td>\n",
       "      <td>1</td>\n",
       "      <td>0</td>\n",
       "      <td>12</td>\n",
       "    </tr>\n",
       "    <tr>\n",
       "      <th>3</th>\n",
       "      <td>1607</td>\n",
       "      <td>1607:2162:8:1224</td>\n",
       "      <td>8</td>\n",
       "      <td>2</td>\n",
       "      <td>1</td>\n",
       "      <td>16</td>\n",
       "    </tr>\n",
       "    <tr>\n",
       "      <th>4</th>\n",
       "      <td>2167</td>\n",
       "      <td>2167:501:1132:1868</td>\n",
       "      <td>3</td>\n",
       "      <td>1</td>\n",
       "      <td>1</td>\n",
       "      <td>6</td>\n",
       "    </tr>\n",
       "    <tr>\n",
       "      <th>...</th>\n",
       "      <td>...</td>\n",
       "      <td>...</td>\n",
       "      <td>...</td>\n",
       "      <td>...</td>\n",
       "      <td>...</td>\n",
       "      <td>...</td>\n",
       "    </tr>\n",
       "    <tr>\n",
       "      <th>2995</th>\n",
       "      <td>565</td>\n",
       "      <td>565:2114:1021:920</td>\n",
       "      <td>1</td>\n",
       "      <td>2</td>\n",
       "      <td>1</td>\n",
       "      <td>1</td>\n",
       "    </tr>\n",
       "    <tr>\n",
       "      <th>2996</th>\n",
       "      <td>1102</td>\n",
       "      <td>1102:938:441:883</td>\n",
       "      <td>3</td>\n",
       "      <td>1</td>\n",
       "      <td>1</td>\n",
       "      <td>18</td>\n",
       "    </tr>\n",
       "    <tr>\n",
       "      <th>2997</th>\n",
       "      <td>829</td>\n",
       "      <td>829:2058:14:1230</td>\n",
       "      <td>3</td>\n",
       "      <td>1</td>\n",
       "      <td>0</td>\n",
       "      <td>19</td>\n",
       "    </tr>\n",
       "    <tr>\n",
       "      <th>2998</th>\n",
       "      <td>1332</td>\n",
       "      <td>1332:1067:738:952</td>\n",
       "      <td>6</td>\n",
       "      <td>1</td>\n",
       "      <td>0</td>\n",
       "      <td>11</td>\n",
       "    </tr>\n",
       "    <tr>\n",
       "      <th>2999</th>\n",
       "      <td>1028</td>\n",
       "      <td>1028:754:861:1858</td>\n",
       "      <td>6</td>\n",
       "      <td>0</td>\n",
       "      <td>1</td>\n",
       "      <td>20</td>\n",
       "    </tr>\n",
       "  </tbody>\n",
       "</table>\n",
       "<p>3000 rows × 6 columns</p>\n",
       "</div>"
      ],
      "text/plain": [
       "      target_image       active_images  chosen_symbol  chosen_image_index  \\\n",
       "0              993   993:1276:654:1674              6                   0   \n",
       "1             1747     1747:81:554:894              6                   1   \n",
       "2              192    192:248:637:1665              1                   1   \n",
       "3             1607    1607:2162:8:1224              8                   2   \n",
       "4             2167  2167:501:1132:1868              3                   1   \n",
       "...            ...                 ...            ...                 ...   \n",
       "2995           565   565:2114:1021:920              1                   2   \n",
       "2996          1102    1102:938:441:883              3                   1   \n",
       "2997           829    829:2058:14:1230              3                   1   \n",
       "2998          1332   1332:1067:738:952              6                   1   \n",
       "2999          1028   1028:754:861:1858              6                   0   \n",
       "\n",
       "      success  category  \n",
       "0           0        20  \n",
       "1           1         7  \n",
       "2           0        12  \n",
       "3           1        16  \n",
       "4           1         6  \n",
       "...       ...       ...  \n",
       "2995        1         1  \n",
       "2996        1        18  \n",
       "2997        0        19  \n",
       "2998        0        11  \n",
       "2999        1        20  \n",
       "\n",
       "[3000 rows x 6 columns]"
      ]
     },
     "execution_count": 33,
     "metadata": {},
     "output_type": "execute_result"
    }
   ],
   "source": [
    "df"
   ]
  },
  {
   "cell_type": "markdown",
   "metadata": {},
   "source": [
    "There shouldn't be any correlation between *chosen_symbol* and *image_index*:"
   ]
  },
  {
   "cell_type": "code",
   "execution_count": 34,
   "metadata": {},
   "outputs": [
    {
     "data": {
      "text/html": [
       "<div>\n",
       "<style scoped>\n",
       "    .dataframe tbody tr th:only-of-type {\n",
       "        vertical-align: middle;\n",
       "    }\n",
       "\n",
       "    .dataframe tbody tr th {\n",
       "        vertical-align: top;\n",
       "    }\n",
       "\n",
       "    .dataframe thead th {\n",
       "        text-align: right;\n",
       "    }\n",
       "</style>\n",
       "<table border=\"1\" class=\"dataframe\">\n",
       "  <thead>\n",
       "    <tr style=\"text-align: right;\">\n",
       "      <th>chosen_image_index</th>\n",
       "      <th>0</th>\n",
       "      <th>1</th>\n",
       "      <th>2</th>\n",
       "      <th>3</th>\n",
       "    </tr>\n",
       "    <tr>\n",
       "      <th>chosen_symbol</th>\n",
       "      <th></th>\n",
       "      <th></th>\n",
       "      <th></th>\n",
       "      <th></th>\n",
       "    </tr>\n",
       "  </thead>\n",
       "  <tbody>\n",
       "    <tr>\n",
       "      <th>0</th>\n",
       "      <td>67</td>\n",
       "      <td>69</td>\n",
       "      <td>69</td>\n",
       "      <td>90</td>\n",
       "    </tr>\n",
       "    <tr>\n",
       "      <th>1</th>\n",
       "      <td>96</td>\n",
       "      <td>86</td>\n",
       "      <td>82</td>\n",
       "      <td>91</td>\n",
       "    </tr>\n",
       "    <tr>\n",
       "      <th>2</th>\n",
       "      <td>105</td>\n",
       "      <td>91</td>\n",
       "      <td>86</td>\n",
       "      <td>80</td>\n",
       "    </tr>\n",
       "    <tr>\n",
       "      <th>3</th>\n",
       "      <td>85</td>\n",
       "      <td>107</td>\n",
       "      <td>81</td>\n",
       "      <td>66</td>\n",
       "    </tr>\n",
       "    <tr>\n",
       "      <th>4</th>\n",
       "      <td>68</td>\n",
       "      <td>63</td>\n",
       "      <td>55</td>\n",
       "      <td>55</td>\n",
       "    </tr>\n",
       "    <tr>\n",
       "      <th>5</th>\n",
       "      <td>84</td>\n",
       "      <td>83</td>\n",
       "      <td>80</td>\n",
       "      <td>88</td>\n",
       "    </tr>\n",
       "    <tr>\n",
       "      <th>6</th>\n",
       "      <td>81</td>\n",
       "      <td>85</td>\n",
       "      <td>67</td>\n",
       "      <td>76</td>\n",
       "    </tr>\n",
       "    <tr>\n",
       "      <th>7</th>\n",
       "      <td>50</td>\n",
       "      <td>67</td>\n",
       "      <td>54</td>\n",
       "      <td>50</td>\n",
       "    </tr>\n",
       "    <tr>\n",
       "      <th>8</th>\n",
       "      <td>73</td>\n",
       "      <td>73</td>\n",
       "      <td>61</td>\n",
       "      <td>67</td>\n",
       "    </tr>\n",
       "    <tr>\n",
       "      <th>9</th>\n",
       "      <td>63</td>\n",
       "      <td>77</td>\n",
       "      <td>67</td>\n",
       "      <td>62</td>\n",
       "    </tr>\n",
       "  </tbody>\n",
       "</table>\n",
       "</div>"
      ],
      "text/plain": [
       "chosen_image_index    0    1   2   3\n",
       "chosen_symbol                       \n",
       "0                    67   69  69  90\n",
       "1                    96   86  82  91\n",
       "2                   105   91  86  80\n",
       "3                    85  107  81  66\n",
       "4                    68   63  55  55\n",
       "5                    84   83  80  88\n",
       "6                    81   85  67  76\n",
       "7                    50   67  54  50\n",
       "8                    73   73  61  67\n",
       "9                    63   77  67  62"
      ]
     },
     "execution_count": 34,
     "metadata": {},
     "output_type": "execute_result"
    }
   ],
   "source": [
    "pd.pivot_table(df, values=\"target_image\", index=[\"chosen_symbol\"], columns=[\"chosen_image_index\"], aggfunc=np.size)"
   ]
  },
  {
   "cell_type": "code",
   "execution_count": 35,
   "metadata": {},
   "outputs": [
    {
     "data": {
      "text/html": [
       "<div>\n",
       "<style scoped>\n",
       "    .dataframe tbody tr th:only-of-type {\n",
       "        vertical-align: middle;\n",
       "    }\n",
       "\n",
       "    .dataframe tbody tr th {\n",
       "        vertical-align: top;\n",
       "    }\n",
       "\n",
       "    .dataframe thead th {\n",
       "        text-align: right;\n",
       "    }\n",
       "</style>\n",
       "<table border=\"1\" class=\"dataframe\">\n",
       "  <thead>\n",
       "    <tr style=\"text-align: right;\">\n",
       "      <th>success</th>\n",
       "      <th>0</th>\n",
       "      <th>1</th>\n",
       "    </tr>\n",
       "    <tr>\n",
       "      <th>chosen_symbol</th>\n",
       "      <th></th>\n",
       "      <th></th>\n",
       "    </tr>\n",
       "  </thead>\n",
       "  <tbody>\n",
       "    <tr>\n",
       "      <th>0</th>\n",
       "      <td>146</td>\n",
       "      <td>149</td>\n",
       "    </tr>\n",
       "    <tr>\n",
       "      <th>1</th>\n",
       "      <td>168</td>\n",
       "      <td>187</td>\n",
       "    </tr>\n",
       "    <tr>\n",
       "      <th>2</th>\n",
       "      <td>176</td>\n",
       "      <td>186</td>\n",
       "    </tr>\n",
       "    <tr>\n",
       "      <th>3</th>\n",
       "      <td>142</td>\n",
       "      <td>197</td>\n",
       "    </tr>\n",
       "    <tr>\n",
       "      <th>4</th>\n",
       "      <td>118</td>\n",
       "      <td>123</td>\n",
       "    </tr>\n",
       "    <tr>\n",
       "      <th>5</th>\n",
       "      <td>136</td>\n",
       "      <td>199</td>\n",
       "    </tr>\n",
       "    <tr>\n",
       "      <th>6</th>\n",
       "      <td>132</td>\n",
       "      <td>177</td>\n",
       "    </tr>\n",
       "    <tr>\n",
       "      <th>7</th>\n",
       "      <td>103</td>\n",
       "      <td>118</td>\n",
       "    </tr>\n",
       "    <tr>\n",
       "      <th>8</th>\n",
       "      <td>82</td>\n",
       "      <td>192</td>\n",
       "    </tr>\n",
       "    <tr>\n",
       "      <th>9</th>\n",
       "      <td>89</td>\n",
       "      <td>180</td>\n",
       "    </tr>\n",
       "  </tbody>\n",
       "</table>\n",
       "</div>"
      ],
      "text/plain": [
       "success          0    1\n",
       "chosen_symbol          \n",
       "0              146  149\n",
       "1              168  187\n",
       "2              176  186\n",
       "3              142  197\n",
       "4              118  123\n",
       "5              136  199\n",
       "6              132  177\n",
       "7              103  118\n",
       "8               82  192\n",
       "9               89  180"
      ]
     },
     "execution_count": 35,
     "metadata": {},
     "output_type": "execute_result"
    }
   ],
   "source": [
    "pd.pivot_table(df, values=\"target_image\", index=[\"chosen_symbol\"], columns=[\"success\"], aggfunc=np.size)"
   ]
  },
  {
   "cell_type": "markdown",
   "metadata": {},
   "source": [
    "## tSNE"
   ]
  },
  {
   "cell_type": "code",
   "execution_count": 36,
   "metadata": {},
   "outputs": [],
   "source": [
    "from sklearn.manifold import TSNE"
   ]
  },
  {
   "cell_type": "code",
   "execution_count": 59,
   "metadata": {},
   "outputs": [],
   "source": [
    "data = np.zeros([len(categories), (df.loc[:, \"chosen_symbol\"].max() + 1)])\n",
    "for k, row in df.iterrows():\n",
    "    target = row[\"target_image\"]\n",
    "    other = row[\"active_images\"].split(\":\")\n",
    "    for img in other:\n",
    "        img = int(img)\n",
    "        if img == target:\n",
    "            data[img, row[\"chosen_symbol\"]] += 1\n",
    "        else:\n",
    "            data[img, row[\"chosen_symbol\"]] -= 0.05\n",
    "# data = data / data.sum(axis=1)[:, np.newaxis]\n",
    "notnan = np.where(~np.isnan(data).any(axis=1))\n",
    "data = data[notnan, :][0]"
   ]
  },
  {
   "cell_type": "code",
   "execution_count": 49,
   "metadata": {},
   "outputs": [
    {
     "data": {
      "text/plain": [
       "(2193, 10)"
      ]
     },
     "execution_count": 49,
     "metadata": {},
     "output_type": "execute_result"
    }
   ],
   "source": [
    "data.shape"
   ]
  },
  {
   "cell_type": "code",
   "execution_count": 60,
   "metadata": {},
   "outputs": [],
   "source": [
    "tsne = TSNE(n_components=2)\n",
    "reduced = tsne.fit_transform(data)"
   ]
  },
  {
   "cell_type": "code",
   "execution_count": 51,
   "metadata": {},
   "outputs": [],
   "source": [
    "import matplotlib.pyplot as plt"
   ]
  },
  {
   "cell_type": "markdown",
   "metadata": {},
   "source": [
    "## Scatterplot with image categories"
   ]
  },
  {
   "cell_type": "code",
   "execution_count": 56,
   "metadata": {},
   "outputs": [
    {
     "data": {
      "text/plain": [
       "<matplotlib.collections.PathCollection at 0x19b53da6208>"
      ]
     },
     "execution_count": 56,
     "metadata": {},
     "output_type": "execute_result"
    },
    {
     "data": {
      "image/png": "[encoded data removed]",
      "text/plain": [
       "<Figure size 432x288 with 1 Axes>"
      ]
     },
     "metadata": {
      "needs_background": "light"
     },
     "output_type": "display_data"
    }
   ],
   "source": [
    "plt.scatter(*reduced.T, c=categories[notnan])"
   ]
  },
  {
   "cell_type": "markdown",
   "metadata": {},
   "source": [
    "Symbol usage obviously doesn't correlate with imagenet categories. This is in accord with the fact that ignoring the categories in training doesn't affect the training process at all."
   ]
  },
  {
   "cell_type": "markdown",
   "metadata": {},
   "source": [
    "## Control plot with used symbols"
   ]
  },
  {
   "cell_type": "code",
   "execution_count": 57,
   "metadata": {},
   "outputs": [
    {
     "data": {
      "text/plain": [
       "<matplotlib.collections.PathCollection at 0x19b53e11448>"
      ]
     },
     "execution_count": 57,
     "metadata": {},
     "output_type": "execute_result"
    },
    {
     "data": {
      "image/png": "[encoded data removed]",
      "text/plain": [
       "<Figure size 432x288 with 1 Axes>"
      ]
     },
     "metadata": {
      "needs_background": "light"
     },
     "output_type": "display_data"
    }
   ],
   "source": [
    "plt.scatter(*reduced.T, c=data.argmax(axis=1))"
   ]
  },
  {
   "cell_type": "markdown",
   "metadata": {},
   "source": [
    "This is just to make sure that the tSNE works. It does."
   ]
  },
  {
   "cell_type": "code",
   "execution_count": 58,
   "metadata": {},
   "outputs": [
    {
     "data": {
      "text/plain": [
       "<matplotlib.collections.PathCollection at 0x19b53e7c908>"
      ]
     },
     "execution_count": 58,
     "metadata": {},
     "output_type": "execute_result"
    },
    {
     "data": {
      "image/png": "[encoded data removed]",
      "text/plain": [
       "<Figure size 432x288 with 1 Axes>"
      ]
     },
     "metadata": {
      "needs_background": "light"
     },
     "output_type": "display_data"
    }
   ],
   "source": [
    "plt.scatter(*reduced.T, c=df.loc[notnan, \"success\"])"
   ]
  },
  {
   "cell_type": "code",
   "execution_count": null,
   "metadata": {},
   "outputs": [],
   "source": []
  }
 ],
 "metadata": {
  "kernelspec": {
   "display_name": "Python 3",
   "language": "python",
   "name": "python3"
  },
  "language_info": {
   "codemirror_mode": {
    "name": "ipython",
    "version": 3
   },
   "file_extension": ".py",
   "mimetype": "text/x-python",
   "name": "python",
   "nbconvert_exporter": "python",
   "pygments_lexer": "ipython3",
   "version": "3.7.6"
  }
 },
 "nbformat": 4,
 "nbformat_minor": 4
}
