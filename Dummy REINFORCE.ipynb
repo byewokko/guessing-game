{
 "cells": [
  {
   "cell_type": "code",
   "execution_count": 8,
   "metadata": {
    "scrolled": true
   },
   "outputs": [],
   "source": [
    "import keras.layers as layers\n",
    "import tensorflow.keras.backend as K\n",
    "import matplotlib.pyplot as plt\n",
    "import numpy as np\n",
    "import tensorflow as tf\n",
    "\n",
    "from keras.models import Model\n",
    "import keras.optimizers as optim\n",
    "\n",
    "from game.game import Game"
   ]
  },
  {
   "cell_type": "code",
   "execution_count": 39,
   "metadata": {},
   "outputs": [],
   "source": [
    "INPUT_SIZE = 2\n",
    "HIDDEN_SIZE = 2\n",
    "OUTPUT_SIZE = 2\n",
    "\n",
    "TEMPERATURE = 10\n",
    "N_EPISODES = 800\n",
    "ANALYSIS_WINDOW = 20\n",
    "\n",
    "# OPTIMIZER = optim.Adam(0.05)\n",
    "OPTIMIZER = optim.SGD(2)"
   ]
  },
  {
   "cell_type": "code",
   "execution_count": 45,
   "metadata": {},
   "outputs": [],
   "source": [
    "class Agent:\n",
    "    def __init__(self):\n",
    "        self.build_model()\n",
    "        \n",
    "    def build_model(self):\n",
    "        x = layers.Input(shape=[INPUT_SIZE], name=\"state_in\")\n",
    "        y = layers.Dense(HIDDEN_SIZE, activation=\"tanh\", name=\"hidden\")(x)\n",
    "        y = layers.Dense(OUTPUT_SIZE, name=\"output\")(y)\n",
    "        y = layers.Lambda(lambda x: x / TEMPERATURE, name=\"temperature\")(y)\n",
    "        y = layers.Softmax()(y)\n",
    "        \n",
    "        self.model = Model(x, y)\n",
    "        \n",
    "        index = layers.Input(shape=[1], dtype=\"int32\", name=\"index_in\")\n",
    "        # y_selected = layers.Lambda(lambda probs: K.gather(probs, index), output_shape=[1])(y)\n",
    "        y_selected = layers.Lambda(\n",
    "            lambda probs_index: tf.gather(*probs_index, axis=-1, batch_dims=1),\n",
    "            name=\"gather\")([y, index])\n",
    "        \n",
    "        \n",
    "        def loss(target, prediction):\n",
    "            return - K.log(prediction) * target\n",
    "        \n",
    "        self.model_train = Model([x, index], y_selected)\n",
    "        self.model_train.compile(loss=loss, optimizer=OPTIMIZER)\n",
    "\n",
    "        self.model.summary()\n",
    "        self.model_train.summary()\n",
    "        \n",
    "        \n",
    "    def predict(self, state):\n",
    "        return self.model.predict(state)\n",
    "\n",
    "    def update(self, state, target, action):\n",
    "        x = [state, action]\n",
    "        # print(x)\n",
    "        return self.model_train.train_on_batch(x, target)"
   ]
  },
  {
   "cell_type": "code",
   "execution_count": 46,
   "metadata": {},
   "outputs": [
    {
     "name": "stdout",
     "output_type": "stream",
     "text": [
      "Model: \"model_1\"\n",
      "_________________________________________________________________\n",
      "Layer (type)                 Output Shape              Param #   \n",
      "=================================================================\n",
      "state_in (InputLayer)        (None, 2)                 0         \n",
      "_________________________________________________________________\n",
      "hidden (Dense)               (None, 2)                 6         \n",
      "_________________________________________________________________\n",
      "output (Dense)               (None, 2)                 6         \n",
      "_________________________________________________________________\n",
      "temperature (Lambda)         (None, 2)                 0         \n",
      "_________________________________________________________________\n",
      "softmax_1 (Softmax)          (None, 2)                 0         \n",
      "=================================================================\n",
      "Total params: 12\n",
      "Trainable params: 12\n",
      "Non-trainable params: 0\n",
      "_________________________________________________________________\n",
      "Model: \"model_2\"\n",
      "__________________________________________________________________________________________________\n",
      "Layer (type)                    Output Shape         Param #     Connected to                     \n",
      "==================================================================================================\n",
      "state_in (InputLayer)           (None, 2)            0                                            \n",
      "__________________________________________________________________________________________________\n",
      "hidden (Dense)                  (None, 2)            6           state_in[0][0]                   \n",
      "__________________________________________________________________________________________________\n",
      "output (Dense)                  (None, 2)            6           hidden[0][0]                     \n",
      "__________________________________________________________________________________________________\n",
      "temperature (Lambda)            (None, 2)            0           output[0][0]                     \n",
      "__________________________________________________________________________________________________\n",
      "softmax_1 (Softmax)             (None, 2)            0           temperature[0][0]                \n",
      "__________________________________________________________________________________________________\n",
      "index_in (InputLayer)           (None, 1)            0                                            \n",
      "__________________________________________________________________________________________________\n",
      "gather (Lambda)                 (None, 1)            0           softmax_1[0][0]                  \n",
      "                                                                 index_in[0][0]                   \n",
      "==================================================================================================\n",
      "Total params: 12\n",
      "Trainable params: 12\n",
      "Non-trainable params: 0\n",
      "__________________________________________________________________________________________________\n"
     ]
    }
   ],
   "source": [
    "K.clear_session()\n",
    "\n",
    "agent = Agent()\n",
    "training = []\n",
    "rewards = []"
   ]
  },
  {
   "cell_type": "code",
   "execution_count": 47,
   "metadata": {},
   "outputs": [
    {
     "name": "stdout",
     "output_type": "stream",
     "text": [
      "ep 20, success_rate: 0.65, avg_loss: 0.44459360241889956\n",
      "ep 40, success_rate: 0.5, avg_loss: 0.3129827708005905\n",
      "ep 60, success_rate: 0.5, avg_loss: 0.33607753217220304\n",
      "ep 80, success_rate: 0.4, avg_loss: 0.2622872769832611\n",
      "ep 100, success_rate: 0.35, avg_loss: 0.18313744515180588\n",
      "ep 120, success_rate: 0.5, avg_loss: 0.3127574995160103\n",
      "ep 140, success_rate: 0.5, avg_loss: 0.30265679210424423\n",
      "ep 160, success_rate: 0.6, avg_loss: 0.32081000357866285\n",
      "ep 180, success_rate: 0.8, avg_loss: 0.3077236577868462\n",
      "ep 200, success_rate: 0.35, avg_loss: 0.13895749524235726\n",
      "ep 220, success_rate: 0.55, avg_loss: 0.29078719615936277\n",
      "ep 240, success_rate: 0.5, avg_loss: 0.14922018721699715\n",
      "ep 260, success_rate: 0.75, avg_loss: 0.20790221989154817\n",
      "ep 280, success_rate: 0.5, avg_loss: 0.15672945901751517\n",
      "ep 300, success_rate: 0.85, avg_loss: 0.22904024124145508\n",
      "ep 320, success_rate: 0.85, avg_loss: 0.18938462436199188\n",
      "ep 340, success_rate: 0.65, avg_loss: 0.10662907026708127\n",
      "ep 360, success_rate: 0.85, avg_loss: 0.2437247011810541\n",
      "ep 380, success_rate: 0.6, avg_loss: 0.13731116317212583\n",
      "ep 400, success_rate: 0.9, avg_loss: 0.159255700558424\n",
      "ep 420, success_rate: 0.6, avg_loss: 0.05158273391425609\n",
      "ep 440, success_rate: 0.8, avg_loss: 0.11392619237303733\n",
      "ep 460, success_rate: 0.75, avg_loss: 0.09366331491619348\n",
      "ep 480, success_rate: 0.75, avg_loss: 0.06438285391777754\n",
      "ep 500, success_rate: 0.8, avg_loss: 0.09660967886447906\n",
      "ep 520, success_rate: 0.8, avg_loss: 0.16416675616055726\n",
      "ep 540, success_rate: 0.65, avg_loss: 0.04276678077876568\n",
      "ep 560, success_rate: 0.85, avg_loss: 0.06652611754834652\n",
      "ep 580, success_rate: 0.85, avg_loss: 0.1294431695714593\n",
      "ep 600, success_rate: 0.8, avg_loss: 0.058157117664814\n",
      "ep 620, success_rate: 0.75, avg_loss: 0.054098167829215525\n",
      "ep 640, success_rate: 0.75, avg_loss: 0.20774463787674904\n",
      "ep 660, success_rate: 0.75, avg_loss: 0.04578916691243649\n",
      "ep 680, success_rate: 0.7, avg_loss: 0.028312867134809495\n",
      "ep 700, success_rate: 0.75, avg_loss: 0.097854770347476\n",
      "ep 720, success_rate: 0.8, avg_loss: 0.22468979507684708\n",
      "ep 740, success_rate: 0.6, avg_loss: 0.023098874464631082\n",
      "ep 760, success_rate: 0.9, avg_loss: 0.13638252001255752\n",
      "ep 780, success_rate: 0.65, avg_loss: 0.11294595133513212\n"
     ]
    }
   ],
   "source": [
    "for episode in range(N_EPISODES):\n",
    "\n",
    "    # Generate input vector\n",
    "    state = np.random.random([1, INPUT_SIZE])\n",
    "\n",
    "    # Predict and sample action\n",
    "    action_probs = np.squeeze(agent.predict(state))\n",
    "    action = np.random.choice(np.arange(len(action_probs)), p=action_probs)\n",
    "\n",
    "    # Evaluate action\n",
    "    y_true = state[0, 0] < state[0, 1]\n",
    "    y_pred = int(action == 0)\n",
    "    if y_true == y_pred:\n",
    "        reward = 1.\n",
    "    else:\n",
    "        reward = 0.\n",
    "    rewards.append(reward)\n",
    "\n",
    "    # Immediately train on the new experience\n",
    "    action = np.array([action])\n",
    "    reward = np.array([reward])\n",
    "    loss = agent.update(state, reward, action)\n",
    "    training.append(loss)\n",
    "\n",
    "    # Print progress\n",
    "    if episode and not episode % ANALYSIS_WINDOW:\n",
    "        print(f\"ep {episode}, \\\n",
    "        success_rate: {sum(rewards[-ANALYSIS_WINDOW:])/ANALYSIS_WINDOW}, \\\n",
    "        avg_loss: {sum(training[-ANALYSIS_WINDOW:])/ANALYSIS_WINDOW}\".\n",
    "        replace(\"    \", \"\"))\n"
   ]
  },
  {
   "cell_type": "code",
   "execution_count": 48,
   "metadata": {},
   "outputs": [
    {
     "data": {
      "image/png": "[encoded data removed]",
      "text/plain": [
       "<Figure size 432x288 with 1 Axes>"
      ]
     },
     "metadata": {
      "needs_background": "light"
     },
     "output_type": "display_data"
    }
   ],
   "source": [
    "plt.plot(training, linestyle=\"None\", marker=\".\", label=\"Loss\")\n",
    "plt.plot(np.convolve(training, np.ones((40,))/40, mode='valid'), label=\"Average loss\")\n",
    "plt.legend()\n",
    "plt.title(\"Training loss\");"
   ]
  },
  {
   "cell_type": "code",
   "execution_count": 49,
   "metadata": {},
   "outputs": [
    {
     "data": {
      "image/png": "[encoded data removed]",
      "text/plain": [
       "<Figure size 432x288 with 1 Axes>"
      ]
     },
     "metadata": {
      "needs_background": "light"
     },
     "output_type": "display_data"
    }
   ],
   "source": [
    "plt.plot(np.convolve(rewards, np.ones((40,))/40, mode='valid'), label=\"Average success rate\");\n",
    "plt.legend()\n",
    "plt.title(\"Success rate\");"
   ]
  },
  {
   "cell_type": "code",
   "execution_count": null,
   "metadata": {},
   "outputs": [],
   "source": []
  }
 ],
 "metadata": {
  "kernelspec": {
   "display_name": "Python 3",
   "language": "python",
   "name": "python3"
  },
  "language_info": {
   "codemirror_mode": {
    "name": "ipython",
    "version": 3
   },
   "file_extension": ".py",
   "mimetype": "text/x-python",
   "name": "python",
   "nbconvert_exporter": "python",
   "pygments_lexer": "ipython3",
   "version": "3.7.6"
  }
 },
 "nbformat": 4,
 "nbformat_minor": 4
}
